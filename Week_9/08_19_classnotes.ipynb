{
 "cells": [
  {
   "cell_type": "markdown",
   "metadata": {},
   "source": [
    "# <1> More about the sklearn pipeline..."
   ]
  },
  {
   "cell_type": "code",
   "execution_count": null,
   "metadata": {},
   "outputs": [],
   "source": [
    "#consider sklearn.preprocessing.StandardScaler along with the pipeline\n",
    "##allows for seamless preprocessing "
   ]
  },
  {
   "cell_type": "code",
   "execution_count": null,
   "metadata": {},
   "outputs": [],
   "source": [
    "#the pipeline works with any classes that have fit()/fit_transform()\n",
    "## methods"
   ]
  },
  {
   "cell_type": "code",
   "execution_count": null,
   "metadata": {},
   "outputs": [],
   "source": [
    "#pipeline will allow us to compose \n",
    "# standardizing, StandardScaler()\n",
    "# imputing, SimpleImpute()\n",
    "#onehot encoding OneHotEncoder()\n",
    "#PCA\n",
    "#etc..\n",
    "#ending with a model fit"
   ]
  },
  {
   "cell_type": "code",
   "execution_count": null,
   "metadata": {},
   "outputs": [],
   "source": [
    "#you can even create multiple pipelines for your data\n",
    "#categorical data can have one pipeline\n",
    "#cts data can have a seperate pipeline"
   ]
  },
  {
   "cell_type": "markdown",
   "metadata": {},
   "source": [
    "## Example"
   ]
  },
  {
   "cell_type": "code",
   "execution_count": null,
   "metadata": {},
   "outputs": [],
   "source": [
    "numeric_columns = train.select_dtypes(include = np.number).columns.tolist()\n",
    "cat_columns = train.select_dtypes(include = np.object).columns.tolist()"
   ]
  },
  {
   "cell_type": "code",
   "execution_count": null,
   "metadata": {},
   "outputs": [],
   "source": [
    "numeric_pipeline = make_pipeline(SimpleImputer(strategy=\"median\"),StandardScaler())\n",
    "cat_pipeline = make_pipeline(SimpleImputer(strategy=\"most_frequent\"),OneHotEncoder())"
   ]
  },
  {
   "cell_type": "code",
   "execution_count": null,
   "metadata": {},
   "outputs": [],
   "source": [
    "transformers =[\n",
    "    ('num',numeric_pipeline,numeric_columns),\n",
    "    ('cat',cat_pipeline,cat_columns)\n",
    "]\n",
    "\n",
    "combined_pipe = ColumnTransformer(transformers) #<- Columbines the two pipelines"
   ]
  },
  {
   "cell_type": "code",
   "execution_count": null,
   "metadata": {},
   "outputs": [],
   "source": [
    "train_clean = combined_pipe.fit_transform(train)"
   ]
  },
  {
   "cell_type": "code",
   "execution_count": null,
   "metadata": {},
   "outputs": [],
   "source": [
    "test_clean = combined_pipe.transform(test) #note we fit on the train, and transform on the test"
   ]
  },
  {
   "cell_type": "code",
   "execution_count": null,
   "metadata": {},
   "outputs": [],
   "source": [
    "#note the .transform() method returns a numpy array, \n",
    "#not a dataframe i.e. losses the column labels"
   ]
  },
  {
   "cell_type": "markdown",
   "metadata": {},
   "source": [
    "# <2> Look into `Dendrograms` & `Hierarchical Clustering` for feature clustering/selection"
   ]
  },
  {
   "cell_type": "markdown",
   "metadata": {},
   "source": [
    "### provides a roadmap for feature engineering data with high dimensional feature space\n",
    "### allows us to visually justify our feature engineering choices"
   ]
  },
  {
   "cell_type": "code",
   "execution_count": null,
   "metadata": {},
   "outputs": [],
   "source": [
    "#key terms::\n",
    "# `rank correlation` is a correlation measure which is non-linear\n",
    "#### note: df.corr() returns the pearson (linear) correlation matrix\n",
    "\n",
    "# `hierarchical clustering` allows us to cluster the features according to the \n",
    "#  rank correlation matrix"
   ]
  },
  {
   "cell_type": "code",
   "execution_count": null,
   "metadata": {},
   "outputs": [],
   "source": [
    "#use case; selecting the cts features from iowa housing dataset"
   ]
  },
  {
   "cell_type": "markdown",
   "metadata": {},
   "source": [
    "# Connecting to data sources"
   ]
  },
  {
   "cell_type": "code",
   "execution_count": null,
   "metadata": {},
   "outputs": [],
   "source": []
  },
  {
   "cell_type": "code",
   "execution_count": null,
   "metadata": {},
   "outputs": [],
   "source": []
  }
 ],
 "metadata": {
  "kernelspec": {
   "display_name": "Python 3",
   "language": "python",
   "name": "python3"
  },
  "language_info": {
   "codemirror_mode": {
    "name": "ipython",
    "version": 3
   },
   "file_extension": ".py",
   "mimetype": "text/x-python",
   "name": "python",
   "nbconvert_exporter": "python",
   "pygments_lexer": "ipython3",
   "version": "3.7.2"
  }
 },
 "nbformat": 4,
 "nbformat_minor": 2
}
