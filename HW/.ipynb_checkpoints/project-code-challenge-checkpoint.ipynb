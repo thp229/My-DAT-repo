{
 "cells": [
  {
   "cell_type": "markdown",
   "metadata": {},
   "source": [
    "<img src=\"http://imgur.com/1ZcRyrc.png\" style=\"float: left; margin: 20px; height: 55px\">\n",
    "\n",
    "# Project 1: Python Coding Exercises\n",
    "\n",
    "_Authors: Joseph Nelson (DC) _\n",
    "\n",
    "---"
   ]
  },
  {
   "cell_type": "markdown",
   "metadata": {},
   "source": [
    "The following code challenges are drawn from common exercises used in technical interviews.\n",
    "\n",
    "Please note that there may be several ways to approach each challenge. If you get stuck, try mapping out your approach in pseudocode first. Finally, while solutions to problems like these may be found online, remember that if you copy/paste code that you can't explain, you'll be missing out on the point of the project. The only way to truly learn a new skill is through practice, trial, and error - we can only help you improve by understanding where you are having trouble."
   ]
  },
  {
   "cell_type": "markdown",
   "metadata": {},
   "source": [
    "### Challenge 1: Largest Palindrome\n",
    "A palindromic number reads the same both ways. For example, 1234321 is a palindrome. The largest palindrome made from the product of two two-digit numbers is 9009 = 91 × 99. Find the largest palindrome made from the product of two three-digit numbers. Afterward, write a brief explanation walking through your code's logic in markdown."
   ]
  },
  {
   "cell_type": "code",
   "execution_count": 82,
   "metadata": {},
   "outputs": [
    {
     "name": "stdout",
     "output_type": "stream",
     "text": [
      "The largest palindrome made from the product of two three-digit numbers is: 906609\n"
     ]
    }
   ],
   "source": [
    "def is_palindrome(product):\n",
    "    if str(product) == str(product)[::-1]:\n",
    "        return True\n",
    "    else:\n",
    "        return False \n",
    "\n",
    "A = []\n",
    "for i in range(100,1000):\n",
    "    for j in range(100,i+1):\n",
    "        if is_palindrome(i*j) == True:\n",
    "            A.append(i*j)\n",
    "\n",
    "print(\"The largest palindrome made from the product of two three-digit numbers is:\", max(A))"
   ]
  },
  {
   "cell_type": "markdown",
   "metadata": {},
   "source": [
    "\n",
    "### Challenge 2: Summation of Primes\n",
    "The sum of the primes below 10 is 2 + 3 + 5 + 7 = 17. Find the sum of all the primes below 2,000. Afterward, write a brief explanation walking through your code's logic in markdown."
   ]
  },
  {
   "cell_type": "code",
   "execution_count": 84,
   "metadata": {},
   "outputs": [
    {
     "name": "stdout",
     "output_type": "stream",
     "text": [
      "The sum of all primes below 2000 is: 277050\n"
     ]
    }
   ],
   "source": [
    "import math as m \n",
    "\n",
    "def list_wizard(iterator,main):\n",
    "#function : list_wizard( )\n",
    "#input:     the current iteration number, and the main list containing P's and N's\n",
    "#process:   generates the necessary arithmetic progression based on the current iteration number\n",
    "#           and the remaining number of P's in the main list\n",
    "#output:    a list containing all of the index values that correspond to values that must be changed to N's\n",
    "    i = (len(main) - 1) // iterator\n",
    "    A = []\n",
    "    for k in range(1,i+1):\n",
    "        if main[k] == \"P\":\n",
    "            A.append(iterator*k)\n",
    "    return A\n",
    "\n",
    "def finder(x):\n",
    "    while x**(1/2) - m.floor(x**(1/2)) != 0:\n",
    "        x -= 1\n",
    "    return int(x**(1/2))\n",
    "\n",
    "num = 2000\n",
    "main = [\"P\"] * (num+1)\n",
    "\n",
    "for x in range(2):\n",
    "    main[x] = \"N\"\n",
    "\n",
    "for x in range(2,finder(num)):\n",
    "    if main[x] == \"P\":\n",
    "        for y in list_wizard(x,main):\n",
    "            main[y] = \"N\"\n",
    "\n",
    "total = 0\n",
    "for i in range(len(main)):\n",
    "    if main[i] == \"P\":\n",
    "        total += i\n",
    "\n",
    "print(\"The sum of all primes below 2000 is:\",total)"
   ]
  },
  {
   "cell_type": "markdown",
   "metadata": {},
   "source": [
    "### Challenge 3: Multiples of 3 and 5\n",
    "If we list all of the natural numbers below 10 that are multiples of 3 or 5, we get 3, 5, 6, and 9. The sum of these multiples is 23. Find the sum of all the multiples of 3 and 5 below 1,000. Afterward, write a brief explanation walking through your code's logic in markdown."
   ]
  },
  {
   "cell_type": "code",
   "execution_count": 124,
   "metadata": {},
   "outputs": [
    {
     "name": "stdout",
     "output_type": "stream",
     "text": [
      "The sum of all the multiples of 3 and 5 below 1,000 is: 233168\n"
     ]
    }
   ],
   "source": [
    "def gauss(n):\n",
    "    return int(n*(n+1)*(1/2))\n",
    "\n",
    "print(\"The sum of all the multiples of 3 and 5 below 1,000 is:\", \n",
    "      3*gauss(1000//3) + 5*gauss((1000//5)-1) - 15*gauss((1000)//15))"
   ]
  },
  {
   "cell_type": "markdown",
   "metadata": {},
   "source": [
    "### Challenge 4: String Compressor\n",
    "Implement a method to perform basic string compression using the counts of repeated characters. (This is called run-length encoding.) For example, the string \"aabcccccaaa\" would become a2b1c5a3. If the “compressed” string would not become smaller than the original string, your method should return the original string. You can assume the string has only uppercase and lowercase letters (a–z). Specify whether your solution is case sensitive or case insensitive and what you would need to change to make it the other. Afterward, write a brief explanation walking through your code's logic in markdown."
   ]
  },
  {
   "cell_type": "code",
   "execution_count": null,
   "metadata": {
    "collapsed": true
   },
   "outputs": [],
   "source": [
    "##assume the string has only characters (A-Z) and (a-z)\n",
    "\n",
    "#let the code be case sensitive\n",
    "\n",
    "\n"
   ]
  },
  {
   "cell_type": "markdown",
   "metadata": {},
   "source": [
    "### *BONUS* Challenge: FizzBuzz\n",
    "Write a program that prints all of the numbers from 1 to 100. For multiples of 3, instead of the number, print \"Fizz;\" for multiples of 5, print \"Buzz.\" For numbers that are multiples of both 3 and 5, print \"FizzBuzz.\" Afterward, write a brief explanation walking through your code's logic in markdown."
   ]
  },
  {
   "cell_type": "code",
   "execution_count": null,
   "metadata": {
    "collapsed": true
   },
   "outputs": [],
   "source": []
  }
 ],
 "metadata": {
  "anaconda-cloud": {},
  "kernelspec": {
   "display_name": "Python 3",
   "language": "python",
   "name": "python3"
  },
  "language_info": {
   "codemirror_mode": {
    "name": "ipython",
    "version": 3
   },
   "file_extension": ".py",
   "mimetype": "text/x-python",
   "name": "python",
   "nbconvert_exporter": "python",
   "pygments_lexer": "ipython3",
   "version": "3.7.0"
  }
 },
 "nbformat": 4,
 "nbformat_minor": 2
}
