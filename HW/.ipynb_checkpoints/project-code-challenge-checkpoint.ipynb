{
 "cells": [
  {
   "cell_type": "markdown",
   "metadata": {},
   "source": [
    "<img src=\"http://imgur.com/1ZcRyrc.png\" style=\"float: left; margin: 20px; height: 55px\">\n",
    "\n",
    "# Project 1: Python Coding Exercises\n",
    "\n",
    "_Authors: Joseph Nelson (DC) _\n",
    "\n",
    "---"
   ]
  },
  {
   "cell_type": "markdown",
   "metadata": {},
   "source": [
    "The following code challenges are drawn from common exercises used in technical interviews.\n",
    "\n",
    "Please note that there may be several ways to approach each challenge. If you get stuck, try mapping out your approach in pseudocode first. Finally, while solutions to problems like these may be found online, remember that if you copy/paste code that you can't explain, you'll be missing out on the point of the project. The only way to truly learn a new skill is through practice, trial, and error - we can only help you improve by understanding where you are having trouble."
   ]
  },
  {
   "cell_type": "markdown",
   "metadata": {},
   "source": [
    "### Challenge 1: Largest Palindrome\n",
    "A palindromic number reads the same both ways. For example, 1234321 is a palindrome. The largest palindrome made from the product of two two-digit numbers is 9009 = 91 × 99. Find the largest palindrome made from the product of two three-digit numbers. Afterward, write a brief explanation walking through your code's logic in markdown."
   ]
  },
  {
   "cell_type": "code",
   "execution_count": 4,
   "metadata": {},
   "outputs": [
    {
     "name": "stdout",
     "output_type": "stream",
     "text": [
      "The largest palindrome made from the product of two three-digit numbers is: 906609\n"
     ]
    }
   ],
   "source": [
    "print(\"The largest palindrome made from the product of two three-digit numbers is:\", \n",
    "      max([i*j for i in range(100,1000) for j in range(100,i+1) if str(i*j) == str(i*j)[::-1]]))"
   ]
  },
  {
   "cell_type": "markdown",
   "metadata": {},
   "source": [
    "\n",
    "### Challenge 2: Summation of Primes\n",
    "The sum of the primes below 10 is 2 + 3 + 5 + 7 = 17. Find the sum of all the primes below 2,000. Afterward, write a brief explanation walking through your code's logic in markdown."
   ]
  },
  {
   "cell_type": "code",
   "execution_count": 5,
   "metadata": {},
   "outputs": [
    {
     "name": "stdout",
     "output_type": "stream",
     "text": [
      "The sum of all primes below 2,000 is: 277,050\n",
      "\n",
      "The sum of all primes below 2,000,000 is: 142,913,828,922\n"
     ]
    }
   ],
   "source": [
    "import math as m \n",
    "\n",
    "def arithmetic_progression(iterator,main):\n",
    "    return [iterator*k for k in range(1,((len(main) - 1) // iterator)+1) if main[k] == \"P\"]\n",
    "\n",
    "def upper_bound(x):\n",
    "    while x**(1/2) - m.floor(x**(1/2)) != 0:\n",
    "        x -= 1\n",
    "    return int(x**(1/2))\n",
    "\n",
    "def get_primes(main,num):\n",
    "    for i in range(2,upper_bound(num)):\n",
    "        if main[i] == \"P\":\n",
    "            for y in arithmetic_progression(i,main):\n",
    "                main[y] = \"N\"\n",
    "    return main\n",
    "\n",
    "def get_sum(num):\n",
    "    return sum([i for i,v in enumerate(get_primes([\"N\"]*2+[\"P\"]*(num-1),num)) if v == \"P\"])\n",
    "\n",
    "print(\"The sum of all primes below 2,000 is:\",format(get_sum(2000),\",d\"))\n",
    "print()\n",
    "##just for fun <https://projecteuler.net/problem=10>\n",
    "print(\"The sum of all primes below 2,000,000 is:\",format(get_sum(2000000),\",d\"))"
   ]
  },
  {
   "cell_type": "markdown",
   "metadata": {},
   "source": [
    "### Challenge 3: Multiples of 3 and 5\n",
    "If we list all of the natural numbers below 10 that are multiples of 3 or 5, we get 3, 5, 6, and 9. The sum of these multiples is 23. Find the sum of all the multiples of 3 and 5 below 1,000. Afterward, write a brief explanation walking through your code's logic in markdown."
   ]
  },
  {
   "cell_type": "code",
   "execution_count": 125,
   "metadata": {},
   "outputs": [
    {
     "name": "stdout",
     "output_type": "stream",
     "text": [
      "The sum of all the multiples of 3 and 5 below 1,000 is: 233168\n"
     ]
    }
   ],
   "source": [
    "def gauss(n):\n",
    "    return int(n*(n+1)*(1/2))\n",
    "\n",
    "print(\"The sum of all the multiples of 3 and 5 below 1,000 is:\", \n",
    "      3*gauss(1000//3) + 5*gauss((1000//5)-1) - 15*gauss((1000)//15))"
   ]
  },
  {
   "cell_type": "markdown",
   "metadata": {},
   "source": [
    "### Challenge 4: String Compressor\n",
    "Implement a method to perform basic string compression using the counts of repeated characters. (This is called run-length encoding.) For example, the string \"aabcccccaaa\" would become a2b1c5a3. If the “compressed” string would not become smaller than the original string, your method should return the original string. You can assume the string has only uppercase and lowercase letters (a–z). Specify whether your solution is case sensitive or case insensitive and what you would need to change to make it the other. Afterward, write a brief explanation walking through your code's logic in markdown."
   ]
  },
  {
   "cell_type": "code",
   "execution_count": 2,
   "metadata": {},
   "outputs": [
    {
     "name": "stdout",
     "output_type": "stream",
     "text": [
      "Run-Length Encodings::\n",
      "\n",
      "'cccccDDDDCCDDassddZZZ' compressed is: c5D4C2D2a1s2d2Z3\n",
      "\n",
      "'' compressed is: \n",
      "\n",
      "'aaaaa' compressed is: a5\n",
      "\n",
      "'ZZZ' compressed is: Z3\n"
     ]
    }
   ],
   "source": [
    "def spots(iterable):\n",
    "    spots = []\n",
    "    for i in range(len(iterable)-1):\n",
    "        if iterable[i] != iterable[i+1]:\n",
    "            spots.append(i)\n",
    "    return spots\n",
    "        \n",
    "def nested_list(iterable,break_points):\n",
    "    nested = []\n",
    "    if len(iterable) == 0:\n",
    "        return None\n",
    "    \n",
    "    elif len(set(iterable)) == 1:\n",
    "        nested = [(len(iterable),iterable[0])]\n",
    "        return nested\n",
    "    else:\n",
    "        nested.append((len(iterable[:break_points[0]+1]), iterable[:break_points[0]+1] ))\n",
    "        for i in range(1,len(break_points)):\n",
    "            nested.append((len(iterable[break_points[i-1]+1:break_points[i]+1]),\n",
    "                           iterable[break_points[i-1]+1:break_points[i]+1]))\n",
    "        nested.append((len(iterable[break_points[len(break_points)-1]+1:]),\n",
    "                       iterable[break_points[len(break_points)-1]+1:]))\n",
    "        return nested\n",
    "    \n",
    "def encoding(enumerable):\n",
    "    encoding = \"\"\n",
    "    if enumerable == None:\n",
    "        return encoding\n",
    "    else:\n",
    "        for pairs in enumerable:\n",
    "            encoding += pairs[1][0] + str(pairs[0])\n",
    "        return encoding\n",
    "\n",
    "print(\"Run-Length Encodings::\")\n",
    "for i in [\"cccccDDDDCCDDassddZZZ\",\"\",\"aaaaa\",\"ZZZ\"]:\n",
    "    print()\n",
    "    print(\"'\"+i+\"'\", \"compressed is:\",encoding(nested_list(i,spots(i))))"
   ]
  },
  {
   "cell_type": "markdown",
   "metadata": {},
   "source": [
    "### *BONUS* Challenge: FizzBuzz\n",
    "Write a program that prints all of the numbers from 1 to 100. For multiples of 3, instead of the number, print \"Fizz;\" for multiples of 5, print \"Buzz.\" For numbers that are multiples of both 3 and 5, print \"FizzBuzz.\" Afterward, write a brief explanation walking through your code's logic in markdown."
   ]
  },
  {
   "cell_type": "code",
   "execution_count": null,
   "metadata": {
    "collapsed": true
   },
   "outputs": [],
   "source": []
  }
 ],
 "metadata": {
  "anaconda-cloud": {},
  "kernelspec": {
   "display_name": "Python 3",
   "language": "python",
   "name": "python3"
  },
  "language_info": {
   "codemirror_mode": {
    "name": "ipython",
    "version": 3
   },
   "file_extension": ".py",
   "mimetype": "text/x-python",
   "name": "python",
   "nbconvert_exporter": "python",
   "pygments_lexer": "ipython3",
   "version": "3.7.2"
  }
 },
 "nbformat": 4,
 "nbformat_minor": 2
}
