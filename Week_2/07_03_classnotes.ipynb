{
 "cells": [
  {
   "cell_type": "code",
   "execution_count": null,
   "metadata": {},
   "outputs": [],
   "source": [
    "#generator notation:: \n",
    "\n",
    "#sum(item for item in my_list if P(item) == True)\n",
    "\n",
    "#vs\n",
    "\n",
    "#sum([item for item in my_list if P(item) == True])\n",
    "\n",
    "\n",
    "#since all we want to do is SUM, we can avoid appending the list\n",
    "\n",
    "#Stocastic Gradient Descent (SGD)\n",
    "\n",
    "#turns out generator method is useful for liveupdating model data -- allows you to stream in without saving it in memory \n",
    "    #can make a very expansive model using a fixed amount of RAM \n",
    "\n",
    "#generator method is also useful in decision trees    "
   ]
  },
  {
   "cell_type": "code",
   "execution_count": 1,
   "metadata": {},
   "outputs": [
    {
     "data": {
      "text/plain": [
       "[False,\n",
       " False,\n",
       " False,\n",
       " False,\n",
       " False,\n",
       " False,\n",
       " False,\n",
       " False,\n",
       " False,\n",
       " False,\n",
       " False,\n",
       " False,\n",
       " False]"
      ]
     },
     "execution_count": 1,
     "metadata": {},
     "output_type": "execute_result"
    }
   ],
   "source": [
    "the_string = \"a string text\"\n",
    "\n",
    "the_string[0]\n",
    "\n",
    "[char.isdigit() for char in the_string] #list comphrension where we apply a function to the list contents"
   ]
  },
  {
   "cell_type": "code",
   "execution_count": 2,
   "metadata": {},
   "outputs": [
    {
     "data": {
      "text/plain": [
       "False"
      ]
     },
     "execution_count": 2,
     "metadata": {},
     "output_type": "execute_result"
    }
   ],
   "source": [
    "#new function:: any(), takes 1 argument <list>\n",
    "\n",
    "#returns true if ANY of the booleans in the list are True \n",
    "#so returing false in the example above means that everything the list was false \n",
    "\n",
    "#since any() is a function just like sum() we can use it as a generator like so \n",
    "# any(char.isdigit() for char in the_string) <-- notice no list brackets   \n",
    "\n",
    "#takes a list and returns a boolean\n",
    "any([char.isdigit() for char in the_string])"
   ]
  },
  {
   "cell_type": "code",
   "execution_count": null,
   "metadata": {},
   "outputs": [],
   "source": [
    "#tuples -- order matters but unlike lists, they are IMMUTABLE\n",
    "            #useful if you want an ordered container whose values cannot be touched "
   ]
  },
  {
   "cell_type": "code",
   "execution_count": 14,
   "metadata": {},
   "outputs": [
    {
     "name": "stdout",
     "output_type": "stream",
     "text": [
      "NOTE:: You get an error if you try to append to a tuple!\n"
     ]
    }
   ],
   "source": [
    "my_tuple = (1,2,3,\"this\")\n",
    "\n",
    "my_tuple[0]\n",
    "\n",
    "#hence if you try to append to a tuple\n",
    "\n",
    "try:\n",
    "    my_tuple.append(13)\n",
    "except:\n",
    "    print(\"NOTE:: You get an error if you try to append to a tuple!\")"
   ]
  },
  {
   "cell_type": "code",
   "execution_count": 6,
   "metadata": {},
   "outputs": [
    {
     "data": {
      "text/plain": [
       "(4, 4)"
      ]
     },
     "execution_count": 6,
     "metadata": {},
     "output_type": "execute_result"
    }
   ],
   "source": [
    "import numpy as np\n",
    "var = np.arange(16).reshape(4,4) #.arange() is the np version of range(), \n",
    "                                 #.reshape() reshapes lists in nested lists and vice versa \n",
    "var.shape\n",
    "#notice (4, 4) is returned as a tuple"
   ]
  },
  {
   "cell_type": "code",
   "execution_count": 15,
   "metadata": {},
   "outputs": [
    {
     "ename": "AttributeError",
     "evalue": "'tuple' object has no attribute 'append'",
     "output_type": "error",
     "traceback": [
      "\u001b[0;31m---------------------------------------------------------------------------\u001b[0m",
      "\u001b[0;31mAttributeError\u001b[0m                            Traceback (most recent call last)",
      "\u001b[0;32m<ipython-input-15-beb4d935647d>\u001b[0m in \u001b[0;36m<module>\u001b[0;34m()\u001b[0m\n\u001b[1;32m      1\u001b[0m \u001b[0;31m#also observe something about exception handling\u001b[0m\u001b[0;34m\u001b[0m\u001b[0;34m\u001b[0m\u001b[0;34m\u001b[0m\u001b[0m\n\u001b[1;32m      2\u001b[0m \u001b[0;32mtry\u001b[0m\u001b[0;34m:\u001b[0m\u001b[0;34m\u001b[0m\u001b[0;34m\u001b[0m\u001b[0m\n\u001b[0;32m----> 3\u001b[0;31m     \u001b[0mmy_tuple\u001b[0m\u001b[0;34m.\u001b[0m\u001b[0mappend\u001b[0m\u001b[0;34m(\u001b[0m\u001b[0;36m13\u001b[0m\u001b[0;34m)\u001b[0m\u001b[0;34m\u001b[0m\u001b[0;34m\u001b[0m\u001b[0m\n\u001b[0m\u001b[1;32m      4\u001b[0m \u001b[0;32mexcept\u001b[0m \u001b[0;34m(\u001b[0m\u001b[0mKeyError\u001b[0m\u001b[0;34m)\u001b[0m\u001b[0;34m:\u001b[0m\u001b[0;34m\u001b[0m\u001b[0;34m\u001b[0m\u001b[0m\n\u001b[1;32m      5\u001b[0m     \u001b[0mprint\u001b[0m\u001b[0;34m(\u001b[0m\u001b[0;34m\"NOTE:: You get an error if you try to append to a tuple!\"\u001b[0m\u001b[0;34m)\u001b[0m\u001b[0;34m\u001b[0m\u001b[0;34m\u001b[0m\u001b[0m\n",
      "\u001b[0;31mAttributeError\u001b[0m: 'tuple' object has no attribute 'append'"
     ]
    }
   ],
   "source": [
    "#also observe something about exception handling\n",
    "try:\n",
    "    my_tuple.append(13)\n",
    "except (KeyError): #specifying error types unlike the one that will be thrown \n",
    "                   #causes python to throw an error \n",
    "    print(\"NOTE:: You get an error if you try to append to a tuple!\")"
   ]
  },
  {
   "cell_type": "code",
   "execution_count": null,
   "metadata": {},
   "outputs": [],
   "source": [
    "try:\n",
    "    my_tuple.append(13)\n",
    "except (KeyError, AttributeError): #you can list in the specific error types you want to check against\n",
    "                                   #using a tuple of known error types\n",
    "                                   #by default try/except checks against any error type \n",
    "    print(\"NOTE:: You get an error if you try to append to a tuple!\")"
   ]
  },
  {
   "cell_type": "code",
   "execution_count": 16,
   "metadata": {},
   "outputs": [
    {
     "name": "stdout",
     "output_type": "stream",
     "text": [
      "The returned value.\n"
     ]
    }
   ],
   "source": [
    "#functions \n",
    "\n",
    "def my_function():\n",
    "    print(\"The returned value.\")\n",
    "\n",
    "#you can assign functions to variables \n",
    "#i.e.\n",
    "a = my_function #<-- notice NO parentheses since we're assigning a variable \n",
    "\n",
    "#then we can call the function off that new variable\n",
    "a()"
   ]
  },
  {
   "cell_type": "code",
   "execution_count": 18,
   "metadata": {},
   "outputs": [
    {
     "data": {
      "text/plain": [
       "(8, 'Hello')"
      ]
     },
     "execution_count": 18,
     "metadata": {},
     "output_type": "execute_result"
    }
   ],
   "source": [
    "def adds_the_numbers(arg1, arg2, arg3=\"Hello\"):\n",
    "    return (arg1 + arg2, arg3)\n",
    "\n",
    "#arg1 and arg2 are positional arguments\n",
    "\n",
    "#arg3 is a keyword argument, the value is explicitly mentioned/default value given\n",
    "\n",
    "#NOTE: positional arguments must be listed out BEFORE keyword arguments when you define your function\n",
    "\n",
    "adds_the_numbers(2,6) #<-- note the keyword argument needn't be given for the function call to work"
   ]
  },
  {
   "cell_type": "code",
   "execution_count": 19,
   "metadata": {},
   "outputs": [
    {
     "data": {
      "text/plain": [
       "(8, 'ted')"
      ]
     },
     "execution_count": 19,
     "metadata": {},
     "output_type": "execute_result"
    }
   ],
   "source": [
    "#notice we did not have to pass in the third argument for the function to run,\n",
    "#this is because arg3 is default set to Hello\n",
    "\n",
    "#we can of course overwrite it like so\n",
    "adds_the_numbers(2,6,\"ted\") #<-- overwriting the default value of \"hello\""
   ]
  },
  {
   "cell_type": "code",
   "execution_count": null,
   "metadata": {},
   "outputs": [],
   "source": [
    "#if your function returns multiple values:\n",
    "    #python by default returns multiple values in tuples \n",
    "    #we can collect individual components using by setting up multiple variables \n",
    "\n",
    "#Note: the data preprocessing functions which do the train/test split return two values"
   ]
  },
  {
   "cell_type": "code",
   "execution_count": 27,
   "metadata": {},
   "outputs": [],
   "source": [
    "def my_function(arg,arg2):\n",
    "    try:\n",
    "        int(arg)\n",
    "        int(arg2)\n",
    "    except:\n",
    "        raise TypeError (\"Please provide a value that can be turned into an int\")\n",
    "        #raise keyword::\n",
    "        #allows you to raise a specific type of error if conditions are not met in try/except\n",
    "\n",
    "    arg = int(arg)\n",
    "    arg2 = int(arg2)\n",
    "    return [arg+arg2,ar*arg2]"
   ]
  },
  {
   "cell_type": "code",
   "execution_count": 28,
   "metadata": {},
   "outputs": [
    {
     "ename": "TypeError",
     "evalue": "Please provide a value that can be turned into an int",
     "output_type": "error",
     "traceback": [
      "\u001b[0;31m---------------------------------------------------------------------------\u001b[0m",
      "\u001b[0;31mValueError\u001b[0m                                Traceback (most recent call last)",
      "\u001b[0;32m<ipython-input-27-b91f765ad3ce>\u001b[0m in \u001b[0;36mmy_function\u001b[0;34m(arg, arg2)\u001b[0m\n\u001b[1;32m      2\u001b[0m     \u001b[0;32mtry\u001b[0m\u001b[0;34m:\u001b[0m\u001b[0;34m\u001b[0m\u001b[0;34m\u001b[0m\u001b[0m\n\u001b[0;32m----> 3\u001b[0;31m         \u001b[0mint\u001b[0m\u001b[0;34m(\u001b[0m\u001b[0marg\u001b[0m\u001b[0;34m)\u001b[0m\u001b[0;34m\u001b[0m\u001b[0;34m\u001b[0m\u001b[0m\n\u001b[0m\u001b[1;32m      4\u001b[0m         \u001b[0mint\u001b[0m\u001b[0;34m(\u001b[0m\u001b[0marg2\u001b[0m\u001b[0;34m)\u001b[0m\u001b[0;34m\u001b[0m\u001b[0;34m\u001b[0m\u001b[0m\n",
      "\u001b[0;31mValueError\u001b[0m: invalid literal for int() with base 10: 'something else'",
      "\nDuring handling of the above exception, another exception occurred:\n",
      "\u001b[0;31mTypeError\u001b[0m                                 Traceback (most recent call last)",
      "\u001b[0;32m<ipython-input-28-60631c650732>\u001b[0m in \u001b[0;36m<module>\u001b[0;34m()\u001b[0m\n\u001b[0;32m----> 1\u001b[0;31m \u001b[0mmy_function\u001b[0m\u001b[0;34m(\u001b[0m\u001b[0;34m\"something else\"\u001b[0m\u001b[0;34m,\u001b[0m\u001b[0;34m\"11\"\u001b[0m\u001b[0;34m)\u001b[0m\u001b[0;34m\u001b[0m\u001b[0;34m\u001b[0m\u001b[0m\n\u001b[0m",
      "\u001b[0;32m<ipython-input-27-b91f765ad3ce>\u001b[0m in \u001b[0;36mmy_function\u001b[0;34m(arg, arg2)\u001b[0m\n\u001b[1;32m      4\u001b[0m         \u001b[0mint\u001b[0m\u001b[0;34m(\u001b[0m\u001b[0marg2\u001b[0m\u001b[0;34m)\u001b[0m\u001b[0;34m\u001b[0m\u001b[0;34m\u001b[0m\u001b[0m\n\u001b[1;32m      5\u001b[0m     \u001b[0;32mexcept\u001b[0m\u001b[0;34m:\u001b[0m\u001b[0;34m\u001b[0m\u001b[0;34m\u001b[0m\u001b[0m\n\u001b[0;32m----> 6\u001b[0;31m         \u001b[0;32mraise\u001b[0m \u001b[0mTypeError\u001b[0m \u001b[0;34m(\u001b[0m\u001b[0;34m\"Please provide a value that can be turned into an int\"\u001b[0m\u001b[0;34m)\u001b[0m\u001b[0;34m\u001b[0m\u001b[0;34m\u001b[0m\u001b[0m\n\u001b[0m\u001b[1;32m      7\u001b[0m         \u001b[0;31m#raise keyword::\u001b[0m\u001b[0;34m\u001b[0m\u001b[0;34m\u001b[0m\u001b[0;34m\u001b[0m\u001b[0m\n\u001b[1;32m      8\u001b[0m         \u001b[0;31m#allows you to raise a specific type of error if conditions are not met in try/except\u001b[0m\u001b[0;34m\u001b[0m\u001b[0;34m\u001b[0m\u001b[0;34m\u001b[0m\u001b[0m\n",
      "\u001b[0;31mTypeError\u001b[0m: Please provide a value that can be turned into an int"
     ]
    }
   ],
   "source": [
    "my_function(\"something else\",\"11\")"
   ]
  },
  {
   "cell_type": "code",
   "execution_count": null,
   "metadata": {},
   "outputs": [],
   "source": [
    "## ^^note that a TypeError is raised by the raise keyword \n",
    "\n",
    "#many data science libraries utilize raise to check if conditions are met before fitting\n",
    "    #for ex/ that all matrices are the correct shape"
   ]
  }
 ],
 "metadata": {
  "kernelspec": {
   "display_name": "Python 3",
   "language": "python",
   "name": "python3"
  },
  "language_info": {
   "codemirror_mode": {
    "name": "ipython",
    "version": 3
   },
   "file_extension": ".py",
   "mimetype": "text/x-python",
   "name": "python",
   "nbconvert_exporter": "python",
   "pygments_lexer": "ipython3",
   "version": "3.7.2"
  }
 },
 "nbformat": 4,
 "nbformat_minor": 2
}
