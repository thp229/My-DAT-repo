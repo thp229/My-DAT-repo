{
 "cells": [
  {
   "cell_type": "markdown",
   "metadata": {},
   "source": [
    "### Part 1: Read in the file with `csv.reader()` and store it in an object called `file_nested_list`.  \n",
    "\n",
    "Hint: This is a TSV (tab-separated value) file, and `csv.reader()` needs to be told [how to handle it](https://docs.python.org/2/library/csv.html)."
   ]
  },
  {
   "cell_type": "code",
   "execution_count": 1,
   "metadata": {},
   "outputs": [],
   "source": [
    "import csv \n",
    "DATA_FILE = '/Users/theodoreplotkin/desktop/postmalone/GA_Data_Science/DAT-06-24/projects/required/project-eda-options/data/chipotle.tsv'\n",
    "\n",
    "with open(DATA_FILE,'r') as tsv:\n",
    "    handle = csv.reader(tsv) \n",
    "    list_A = [x for x in handle]"
   ]
  },
  {
   "cell_type": "code",
   "execution_count": 2,
   "metadata": {},
   "outputs": [
    {
     "data": {
      "text/plain": [
       "4623"
      ]
     },
     "execution_count": 2,
     "metadata": {},
     "output_type": "execute_result"
    }
   ],
   "source": [
    "len(list_A) #number of rows in the dataset (including the header)"
   ]
  },
  {
   "cell_type": "markdown",
   "metadata": {},
   "source": [
    "## A view of what the raw order data looks like after being read into a list: \n",
    "### Each row is a list of strings each containing \"\\t\" character's"
   ]
  },
  {
   "cell_type": "markdown",
   "metadata": {},
   "source": [
    "#### this row contains the 'NULL' string in the choice_description column"
   ]
  },
  {
   "cell_type": "code",
   "execution_count": 3,
   "metadata": {},
   "outputs": [
    {
     "data": {
      "text/plain": [
       "['17\\t1\\tBottled Water\\tNULL\\t$1.09']"
      ]
     },
     "execution_count": 3,
     "metadata": {},
     "output_type": "execute_result"
    }
   ],
   "source": [
    "list_A[35]"
   ]
  },
  {
   "cell_type": "markdown",
   "metadata": {},
   "source": [
    "#### this row contains a simple list in the choice_description column"
   ]
  },
  {
   "cell_type": "code",
   "execution_count": 4,
   "metadata": {},
   "outputs": [
    {
     "data": {
      "text/plain": [
       "['28\\t1\\tSteak Soft Tacos\\t[Fresh Tomato Salsa', ' Cheese]\\t$9.25']"
      ]
     },
     "execution_count": 4,
     "metadata": {},
     "output_type": "execute_result"
    }
   ],
   "source": [
    "list_A[62] #this row contains a simple list in the choice_description column"
   ]
  },
  {
   "cell_type": "markdown",
   "metadata": {},
   "source": [
    "#### this row contains a nested list in the choice_description column"
   ]
  },
  {
   "cell_type": "code",
   "execution_count": 5,
   "metadata": {},
   "outputs": [
    {
     "data": {
      "text/plain": [
       "['17\\t1\\tCarnitas Bowl\\t[Tomatillo-Red Chili Salsa (Hot)',\n",
       " ' [Black Beans',\n",
       " ' Rice',\n",
       " ' Fajita Veggies',\n",
       " ' Cheese',\n",
       " ' Sour Cream',\n",
       " ' Lettuce]]\\t$8.99']"
      ]
     },
     "execution_count": 5,
     "metadata": {},
     "output_type": "execute_result"
    }
   ],
   "source": [
    "list_A[34]"
   ]
  },
  {
   "cell_type": "markdown",
   "metadata": {},
   "source": [
    "### this variation in the choice_description makes for some work to be done!"
   ]
  },
  {
   "cell_type": "markdown",
   "metadata": {},
   "source": [
    "# Unpacking these messy strings into a clean list of order attributes\n",
    "\n"
   ]
  },
  {
   "cell_type": "markdown",
   "metadata": {},
   "source": [
    "\n",
    "\n",
    "\n",
    "\n",
    "##### Our goal is to convert this list of strings:\n",
    "#### >>['2\\t2\\tChicken Bowl\\t[Tomatillo-Red Chili Salsa (Hot)',' [Black Beans',' Rice',' Cheese',' Sour Cream]]\\t$16.98']\n",
    "\n",
    "##### into a clean list of order attributes:\n",
    "####    >> ['2',  '2',  'Chicken Bowl',  ['Tomatillo-Red Chili Salsa (Hot)',  ['Black Beans', 'Rice', 'Cheese',  'Sour Cream']],  '$16.98']"
   ]
  },
  {
   "cell_type": "code",
   "execution_count": 6,
   "metadata": {},
   "outputs": [],
   "source": [
    "list_of_rows = []\n",
    "for order in list_A:\n",
    "    if len(order) == 1:\n",
    "        list_of_rows.append(order[0].split(\"\\t\"))\n",
    "    else:\n",
    "        empty = []\n",
    "        for x in order:\n",
    "            for y in x.split(\"\\t\"):\n",
    "                empty.append(y)\n",
    "        \n",
    "        final = []\n",
    "        for x in empty[:3]:\n",
    "            final.append(x)    \n",
    "        if ','.join(empty[3:len(empty)-1]).count(\"[\") == 1: \n",
    "            final.append([','.join(empty[3:len(empty)-1]).split(\",\")[0][1:],\n",
    "             ','.join(empty[3:len(empty)-1]).split(\",\")[1][:len(','.join(empty[3:len(empty)-1]).split(\",\")[1])-1].lstrip()])\n",
    "        elif ','.join(empty[3:len(empty)-1]).count(\"[\") == 2:\n",
    "            final.append([','.join(empty[3:len(empty)-1]).split(\" [\")[0][1:len(','.join(empty[3:len(empty)-1]).split(\" [\")[0])-1],\n",
    "             ','.join(empty[3:len(empty)-1]).split(\" [\")[1][:len(','.join(empty[3:len(empty)-1]).split(\" [\")[1])-2].split(\", \")])\n",
    "        elif ','.join(empty[3:len(empty)-1]).count(\"[\") == 3:\n",
    "            final.append([items for items in \n",
    "             ','.join(empty[3:len(empty)-1]).split(\"[ \")[0][2:','.join(empty[3:len(empty)-1]).split(\"[ \")[0].find(\"]\")].split(\", \")]+\n",
    "            [items for items in ','.join(empty[3:len(empty)-1]).split(\"[ \")[0][','.join(empty[3:len(empty)-1]).split(\"[ \")[0].find(\"]\")+4:len(','.join(empty[3:len(empty)-1]).split(\"[ \")[0])-2].split(\", \")]) \n",
    "        final.append(empty[len(empty)-1]) \n",
    "        list_of_rows.append(final) "
   ]
  },
  {
   "cell_type": "code",
   "execution_count": 7,
   "metadata": {},
   "outputs": [
    {
     "data": {
      "text/plain": [
       "['order_id', 'quantity', 'item_name', 'choice_description', 'item_price']"
      ]
     },
     "execution_count": 7,
     "metadata": {},
     "output_type": "execute_result"
    }
   ],
   "source": [
    "header = list_of_rows[0] #extract the header\n",
    "header"
   ]
  },
  {
   "cell_type": "code",
   "execution_count": 8,
   "metadata": {},
   "outputs": [
    {
     "data": {
      "text/plain": [
       "'$2.39'"
      ]
     },
     "execution_count": 8,
     "metadata": {},
     "output_type": "execute_result"
    }
   ],
   "source": [
    "list_of_rows[1][4]"
   ]
  },
  {
   "cell_type": "code",
   "execution_count": 9,
   "metadata": {},
   "outputs": [
    {
     "data": {
      "text/plain": [
       "str"
      ]
     },
     "execution_count": 9,
     "metadata": {},
     "output_type": "execute_result"
    }
   ],
   "source": [
    "type(list_of_rows[1][4])"
   ]
  },
  {
   "cell_type": "code",
   "execution_count": 10,
   "metadata": {},
   "outputs": [],
   "source": [
    "choice_description =[]\n",
    "for i in range(1,len(list_of_rows)):\n",
    "    if type(list_of_rows[i][3]) == list or list_of_rows[i][3] == \"NULL\":\n",
    "        choice_description.append(list_of_rows[i][3])\n",
    "    else:\n",
    "        empty = []\n",
    "        empty.append(list_of_rows[i][3][1:len(list_of_rows[i][3])-1])\n",
    "        choice_description.append(empty)"
   ]
  },
  {
   "cell_type": "markdown",
   "metadata": {},
   "source": [
    "# Now let's make a dictionary and convert it into a pandas dataframe"
   ]
  },
  {
   "cell_type": "code",
   "execution_count": 11,
   "metadata": {},
   "outputs": [],
   "source": [
    "import pandas as pd\n",
    "chipotle_data = {header[0]:[int(list_of_rows[i][0]) for i in range(1,len(list_of_rows))],\n",
    "                 header[1]:[int(list_of_rows[i][1]) for i in range(1,len(list_of_rows))],\n",
    "                 header[2]:[list_of_rows[i][2] for i in range(1,len(list_of_rows))],\n",
    "                 header[3]:choice_description,\n",
    "                 header[4]:[float(list_of_rows[i][4][1:]) for i in range(1,len(list_of_rows))]\n",
    "                }"
   ]
  },
  {
   "cell_type": "markdown",
   "metadata": {},
   "source": [
    "#### the nice method below allows us to convert a dictionary into a pandas dataframe\n",
    "\n"
   ]
  },
  {
   "cell_type": "code",
   "execution_count": 12,
   "metadata": {},
   "outputs": [],
   "source": [
    "chipotle = pd.DataFrame.from_dict(chipotle_data) "
   ]
  },
  {
   "cell_type": "code",
   "execution_count": 13,
   "metadata": {},
   "outputs": [
    {
     "data": {
      "text/html": [
       "<div>\n",
       "<style scoped>\n",
       "    .dataframe tbody tr th:only-of-type {\n",
       "        vertical-align: middle;\n",
       "    }\n",
       "\n",
       "    .dataframe tbody tr th {\n",
       "        vertical-align: top;\n",
       "    }\n",
       "\n",
       "    .dataframe thead th {\n",
       "        text-align: right;\n",
       "    }\n",
       "</style>\n",
       "<table border=\"1\" class=\"dataframe\">\n",
       "  <thead>\n",
       "    <tr style=\"text-align: right;\">\n",
       "      <th></th>\n",
       "      <th>order_id</th>\n",
       "      <th>quantity</th>\n",
       "      <th>item_name</th>\n",
       "      <th>choice_description</th>\n",
       "      <th>item_price</th>\n",
       "    </tr>\n",
       "  </thead>\n",
       "  <tbody>\n",
       "    <tr>\n",
       "      <th>0</th>\n",
       "      <td>1</td>\n",
       "      <td>1</td>\n",
       "      <td>Chips and Fresh Tomato Salsa</td>\n",
       "      <td>NULL</td>\n",
       "      <td>2.39</td>\n",
       "    </tr>\n",
       "    <tr>\n",
       "      <th>1</th>\n",
       "      <td>1</td>\n",
       "      <td>1</td>\n",
       "      <td>Izze</td>\n",
       "      <td>[Clementine]</td>\n",
       "      <td>3.39</td>\n",
       "    </tr>\n",
       "    <tr>\n",
       "      <th>2</th>\n",
       "      <td>1</td>\n",
       "      <td>1</td>\n",
       "      <td>Nantucket Nectar</td>\n",
       "      <td>[Apple]</td>\n",
       "      <td>3.39</td>\n",
       "    </tr>\n",
       "    <tr>\n",
       "      <th>3</th>\n",
       "      <td>1</td>\n",
       "      <td>1</td>\n",
       "      <td>Chips and Tomatillo-Green Chili Salsa</td>\n",
       "      <td>NULL</td>\n",
       "      <td>2.39</td>\n",
       "    </tr>\n",
       "    <tr>\n",
       "      <th>4</th>\n",
       "      <td>2</td>\n",
       "      <td>2</td>\n",
       "      <td>Chicken Bowl</td>\n",
       "      <td>[Tomatillo-Red Chili Salsa (Hot), [Black Beans...</td>\n",
       "      <td>16.98</td>\n",
       "    </tr>\n",
       "    <tr>\n",
       "      <th>5</th>\n",
       "      <td>3</td>\n",
       "      <td>1</td>\n",
       "      <td>Chicken Bowl</td>\n",
       "      <td>[Fresh Tomato Salsa (Mild), [Rice, Cheese, Sou...</td>\n",
       "      <td>10.98</td>\n",
       "    </tr>\n",
       "    <tr>\n",
       "      <th>6</th>\n",
       "      <td>3</td>\n",
       "      <td>1</td>\n",
       "      <td>Side of Chips</td>\n",
       "      <td>NULL</td>\n",
       "      <td>1.69</td>\n",
       "    </tr>\n",
       "    <tr>\n",
       "      <th>7</th>\n",
       "      <td>4</td>\n",
       "      <td>1</td>\n",
       "      <td>Steak Burrito</td>\n",
       "      <td>[Tomatillo Red Chili Salsa, [Fajita Vegetables...</td>\n",
       "      <td>11.75</td>\n",
       "    </tr>\n",
       "    <tr>\n",
       "      <th>8</th>\n",
       "      <td>4</td>\n",
       "      <td>1</td>\n",
       "      <td>Steak Soft Tacos</td>\n",
       "      <td>[Tomatillo Green Chili Salsa, [Pinto Beans, Ch...</td>\n",
       "      <td>9.25</td>\n",
       "    </tr>\n",
       "    <tr>\n",
       "      <th>9</th>\n",
       "      <td>5</td>\n",
       "      <td>1</td>\n",
       "      <td>Steak Burrito</td>\n",
       "      <td>[Fresh Tomato Salsa, [Rice, Black Beans, Pinto...</td>\n",
       "      <td>9.25</td>\n",
       "    </tr>\n",
       "    <tr>\n",
       "      <th>10</th>\n",
       "      <td>5</td>\n",
       "      <td>1</td>\n",
       "      <td>Chips and Guacamole</td>\n",
       "      <td>NULL</td>\n",
       "      <td>4.45</td>\n",
       "    </tr>\n",
       "    <tr>\n",
       "      <th>11</th>\n",
       "      <td>6</td>\n",
       "      <td>1</td>\n",
       "      <td>Chicken Crispy Tacos</td>\n",
       "      <td>[Roasted Chili Corn Salsa, [Fajita Vegetables,...</td>\n",
       "      <td>8.75</td>\n",
       "    </tr>\n",
       "    <tr>\n",
       "      <th>12</th>\n",
       "      <td>6</td>\n",
       "      <td>1</td>\n",
       "      <td>Chicken Soft Tacos</td>\n",
       "      <td>[Roasted Chili Corn Salsa, [Rice, Black Beans,...</td>\n",
       "      <td>8.75</td>\n",
       "    </tr>\n",
       "    <tr>\n",
       "      <th>13</th>\n",
       "      <td>7</td>\n",
       "      <td>1</td>\n",
       "      <td>Chicken Bowl</td>\n",
       "      <td>[Fresh Tomato Salsa, [Fajita Vegetables, Rice,...</td>\n",
       "      <td>11.25</td>\n",
       "    </tr>\n",
       "    <tr>\n",
       "      <th>14</th>\n",
       "      <td>7</td>\n",
       "      <td>1</td>\n",
       "      <td>Chips and Guacamole</td>\n",
       "      <td>NULL</td>\n",
       "      <td>4.45</td>\n",
       "    </tr>\n",
       "  </tbody>\n",
       "</table>\n",
       "</div>"
      ],
      "text/plain": [
       "    order_id  quantity                              item_name  \\\n",
       "0          1         1           Chips and Fresh Tomato Salsa   \n",
       "1          1         1                                   Izze   \n",
       "2          1         1                       Nantucket Nectar   \n",
       "3          1         1  Chips and Tomatillo-Green Chili Salsa   \n",
       "4          2         2                           Chicken Bowl   \n",
       "5          3         1                           Chicken Bowl   \n",
       "6          3         1                          Side of Chips   \n",
       "7          4         1                          Steak Burrito   \n",
       "8          4         1                       Steak Soft Tacos   \n",
       "9          5         1                          Steak Burrito   \n",
       "10         5         1                    Chips and Guacamole   \n",
       "11         6         1                   Chicken Crispy Tacos   \n",
       "12         6         1                     Chicken Soft Tacos   \n",
       "13         7         1                           Chicken Bowl   \n",
       "14         7         1                    Chips and Guacamole   \n",
       "\n",
       "                                   choice_description  item_price  \n",
       "0                                                NULL        2.39  \n",
       "1                                        [Clementine]        3.39  \n",
       "2                                             [Apple]        3.39  \n",
       "3                                                NULL        2.39  \n",
       "4   [Tomatillo-Red Chili Salsa (Hot), [Black Beans...       16.98  \n",
       "5   [Fresh Tomato Salsa (Mild), [Rice, Cheese, Sou...       10.98  \n",
       "6                                                NULL        1.69  \n",
       "7   [Tomatillo Red Chili Salsa, [Fajita Vegetables...       11.75  \n",
       "8   [Tomatillo Green Chili Salsa, [Pinto Beans, Ch...        9.25  \n",
       "9   [Fresh Tomato Salsa, [Rice, Black Beans, Pinto...        9.25  \n",
       "10                                               NULL        4.45  \n",
       "11  [Roasted Chili Corn Salsa, [Fajita Vegetables,...        8.75  \n",
       "12  [Roasted Chili Corn Salsa, [Rice, Black Beans,...        8.75  \n",
       "13  [Fresh Tomato Salsa, [Fajita Vegetables, Rice,...       11.25  \n",
       "14                                               NULL        4.45  "
      ]
     },
     "execution_count": 13,
     "metadata": {},
     "output_type": "execute_result"
    }
   ],
   "source": [
    "chipotle.head(15)"
   ]
  },
  {
   "cell_type": "code",
   "execution_count": 14,
   "metadata": {},
   "outputs": [],
   "source": [
    "import matplotlib.pyplot as plt\n",
    "import seaborn as sns"
   ]
  },
  {
   "cell_type": "markdown",
   "metadata": {},
   "source": [
    "## Counting the number of unique orders"
   ]
  },
  {
   "cell_type": "code",
   "execution_count": 15,
   "metadata": {},
   "outputs": [
    {
     "name": "stdout",
     "output_type": "stream",
     "text": [
      "There are 4622 rows in the chipotle dataset.\n"
     ]
    }
   ],
   "source": [
    "print(\"There are\", len(chipotle), \"rows in the chipotle dataset.\") #at first seems to imply there are 4622 orders"
   ]
  },
  {
   "cell_type": "markdown",
   "metadata": {},
   "source": [
    "## Notice that multiple rows share the same `\"order ID\"`, meaning that multiple rows correspond to the same order."
   ]
  },
  {
   "cell_type": "code",
   "execution_count": 16,
   "metadata": {},
   "outputs": [
    {
     "data": {
      "text/html": [
       "<div>\n",
       "<style scoped>\n",
       "    .dataframe tbody tr th:only-of-type {\n",
       "        vertical-align: middle;\n",
       "    }\n",
       "\n",
       "    .dataframe tbody tr th {\n",
       "        vertical-align: top;\n",
       "    }\n",
       "\n",
       "    .dataframe thead th {\n",
       "        text-align: right;\n",
       "    }\n",
       "</style>\n",
       "<table border=\"1\" class=\"dataframe\">\n",
       "  <thead>\n",
       "    <tr style=\"text-align: right;\">\n",
       "      <th></th>\n",
       "      <th>order_id</th>\n",
       "      <th>quantity</th>\n",
       "      <th>item_name</th>\n",
       "      <th>item_price</th>\n",
       "    </tr>\n",
       "  </thead>\n",
       "  <tbody>\n",
       "    <tr>\n",
       "      <th>0</th>\n",
       "      <td>1</td>\n",
       "      <td>1</td>\n",
       "      <td>Chips and Fresh Tomato Salsa</td>\n",
       "      <td>2.39</td>\n",
       "    </tr>\n",
       "    <tr>\n",
       "      <th>1</th>\n",
       "      <td>1</td>\n",
       "      <td>1</td>\n",
       "      <td>Izze</td>\n",
       "      <td>3.39</td>\n",
       "    </tr>\n",
       "    <tr>\n",
       "      <th>2</th>\n",
       "      <td>1</td>\n",
       "      <td>1</td>\n",
       "      <td>Nantucket Nectar</td>\n",
       "      <td>3.39</td>\n",
       "    </tr>\n",
       "    <tr>\n",
       "      <th>3</th>\n",
       "      <td>1</td>\n",
       "      <td>1</td>\n",
       "      <td>Chips and Tomatillo-Green Chili Salsa</td>\n",
       "      <td>2.39</td>\n",
       "    </tr>\n",
       "    <tr>\n",
       "      <th>4</th>\n",
       "      <td>2</td>\n",
       "      <td>2</td>\n",
       "      <td>Chicken Bowl</td>\n",
       "      <td>16.98</td>\n",
       "    </tr>\n",
       "    <tr>\n",
       "      <th>5</th>\n",
       "      <td>3</td>\n",
       "      <td>1</td>\n",
       "      <td>Chicken Bowl</td>\n",
       "      <td>10.98</td>\n",
       "    </tr>\n",
       "    <tr>\n",
       "      <th>6</th>\n",
       "      <td>3</td>\n",
       "      <td>1</td>\n",
       "      <td>Side of Chips</td>\n",
       "      <td>1.69</td>\n",
       "    </tr>\n",
       "  </tbody>\n",
       "</table>\n",
       "</div>"
      ],
      "text/plain": [
       "   order_id  quantity                              item_name  item_price\n",
       "0         1         1           Chips and Fresh Tomato Salsa        2.39\n",
       "1         1         1                                   Izze        3.39\n",
       "2         1         1                       Nantucket Nectar        3.39\n",
       "3         1         1  Chips and Tomatillo-Green Chili Salsa        2.39\n",
       "4         2         2                           Chicken Bowl       16.98\n",
       "5         3         1                           Chicken Bowl       10.98\n",
       "6         3         1                          Side of Chips        1.69"
      ]
     },
     "execution_count": 16,
     "metadata": {},
     "output_type": "execute_result"
    }
   ],
   "source": [
    "chipotle[[\"order_id\",\"quantity\",\"item_name\",\"item_price\"]].head(7) "
   ]
  },
  {
   "cell_type": "markdown",
   "metadata": {},
   "source": [
    "### Hence counting the number of rows does not give us an indicator of the number of unique orders"
   ]
  },
  {
   "cell_type": "markdown",
   "metadata": {},
   "source": [
    "### To account for this, we apply the pandas `.groupby()` method , grouping the `chipotle` dataframe by the `\"order_id\"` column"
   ]
  },
  {
   "cell_type": "code",
   "execution_count": 17,
   "metadata": {},
   "outputs": [
    {
     "name": "stdout",
     "output_type": "stream",
     "text": [
      "There are 1834 unique orders in the chipotle dataset.\n"
     ]
    }
   ],
   "source": [
    "print(\"There are\", len(chipotle.groupby(\"order_id\")), \"unique orders in the chipotle dataset.\")\n",
    "#if we group the orders by order_id this tells us there are 1834 unique orders in the set"
   ]
  },
  {
   "cell_type": "markdown",
   "metadata": {},
   "source": [
    "## Computing the average order price"
   ]
  },
  {
   "cell_type": "code",
   "execution_count": 18,
   "metadata": {},
   "outputs": [
    {
     "name": "stdout",
     "output_type": "stream",
     "text": [
      "The true average order price is $18.81.\n"
     ]
    }
   ],
   "source": [
    "print(\"The true average order price is\", \"$\"+format(sum(chipotle[\"item_price\"])/len(chipotle.groupby(\"order_id\")), \".2f\")+\".\")"
   ]
  },
  {
   "cell_type": "markdown",
   "metadata": {},
   "source": [
    "### Part 4: Create a list (or set) named `unique_sodas` containing all of unique sodas and soft drinks that Chipotle sells.\n",
    "\n",
    "Note: Just look for `'Canned Soda'` and `'Canned Soft Drink'`, and ignore other drinks like `'Izze'`."
   ]
  },
  {
   "cell_type": "markdown",
   "metadata": {},
   "source": [
    "## SUBSETTING THE DATA"
   ]
  },
  {
   "cell_type": "code",
   "execution_count": 19,
   "metadata": {},
   "outputs": [
    {
     "data": {
      "text/plain": [
       "{'6 Pack Soft Drink',\n",
       " 'Barbacoa Bowl',\n",
       " 'Barbacoa Burrito',\n",
       " 'Barbacoa Crispy Tacos',\n",
       " 'Barbacoa Salad Bowl',\n",
       " 'Barbacoa Soft Tacos',\n",
       " 'Bottled Water',\n",
       " 'Bowl',\n",
       " 'Burrito',\n",
       " 'Canned Soda',\n",
       " 'Canned Soft Drink',\n",
       " 'Carnitas Bowl',\n",
       " 'Carnitas Burrito',\n",
       " 'Carnitas Crispy Tacos',\n",
       " 'Carnitas Salad',\n",
       " 'Carnitas Salad Bowl',\n",
       " 'Carnitas Soft Tacos',\n",
       " 'Chicken Bowl',\n",
       " 'Chicken Burrito',\n",
       " 'Chicken Crispy Tacos',\n",
       " 'Chicken Salad',\n",
       " 'Chicken Salad Bowl',\n",
       " 'Chicken Soft Tacos',\n",
       " 'Chips',\n",
       " 'Chips and Fresh Tomato Salsa',\n",
       " 'Chips and Guacamole',\n",
       " 'Chips and Mild Fresh Tomato Salsa',\n",
       " 'Chips and Roasted Chili Corn Salsa',\n",
       " 'Chips and Roasted Chili-Corn Salsa',\n",
       " 'Chips and Tomatillo Green Chili Salsa',\n",
       " 'Chips and Tomatillo Red Chili Salsa',\n",
       " 'Chips and Tomatillo-Green Chili Salsa',\n",
       " 'Chips and Tomatillo-Red Chili Salsa',\n",
       " 'Crispy Tacos',\n",
       " 'Izze',\n",
       " 'Nantucket Nectar',\n",
       " 'Salad',\n",
       " 'Side of Chips',\n",
       " 'Steak Bowl',\n",
       " 'Steak Burrito',\n",
       " 'Steak Crispy Tacos',\n",
       " 'Steak Salad',\n",
       " 'Steak Salad Bowl',\n",
       " 'Steak Soft Tacos',\n",
       " 'Veggie Bowl',\n",
       " 'Veggie Burrito',\n",
       " 'Veggie Crispy Tacos',\n",
       " 'Veggie Salad',\n",
       " 'Veggie Salad Bowl',\n",
       " 'Veggie Soft Tacos'}"
      ]
     },
     "execution_count": 19,
     "metadata": {},
     "output_type": "execute_result"
    }
   ],
   "source": [
    "set(chipotle[\"item_name\"]) #all items on offer at Chipotle"
   ]
  },
  {
   "cell_type": "code",
   "execution_count": 20,
   "metadata": {},
   "outputs": [],
   "source": [
    "#the drink_finder function returns True if a row corresponds to a drink order and false otherwise\n",
    "def drink_finder(row):\n",
    "    if \"Drink\" in row[\"item_name\"]:\n",
    "        return True\n",
    "    elif \"Canned\" in row[\"item_name\"]:\n",
    "        return True\n",
    "    elif \"Water\" in row[\"item_name\"]:\n",
    "        return True\n",
    "    elif \"Izze\" in row[\"item_name\"]:\n",
    "        return True\n",
    "    elif \"Nectar\" in row[\"item_name\"]:\n",
    "        return True\n",
    "    else:\n",
    "        return False\n",
    "\n",
    "chipotle[\"drink_order\"] = chipotle.apply(drink_finder, axis = 1)"
   ]
  },
  {
   "cell_type": "code",
   "execution_count": 21,
   "metadata": {},
   "outputs": [],
   "source": [
    "chipotle_food = chipotle[chipotle.drink_order == False]"
   ]
  },
  {
   "cell_type": "code",
   "execution_count": 22,
   "metadata": {},
   "outputs": [],
   "source": [
    "chipotle_drinks = chipotle[chipotle.drink_order == True]"
   ]
  },
  {
   "cell_type": "markdown",
   "metadata": {},
   "source": [
    "# Now we have two subsets, a food orders dataframe and a drink orders dataframe\n",
    "\n",
    "\n",
    "\n",
    "## let's first examine the distribution of some features in the `chipotle_drinks` dataset..."
   ]
  },
  {
   "cell_type": "code",
   "execution_count": 23,
   "metadata": {},
   "outputs": [
    {
     "data": {
      "text/html": [
       "<div>\n",
       "<style scoped>\n",
       "    .dataframe tbody tr th:only-of-type {\n",
       "        vertical-align: middle;\n",
       "    }\n",
       "\n",
       "    .dataframe tbody tr th {\n",
       "        vertical-align: top;\n",
       "    }\n",
       "\n",
       "    .dataframe thead th {\n",
       "        text-align: right;\n",
       "    }\n",
       "</style>\n",
       "<table border=\"1\" class=\"dataframe\">\n",
       "  <thead>\n",
       "    <tr style=\"text-align: right;\">\n",
       "      <th></th>\n",
       "      <th>order_id</th>\n",
       "      <th>quantity</th>\n",
       "      <th>item_name</th>\n",
       "      <th>choice_description</th>\n",
       "      <th>item_price</th>\n",
       "      <th>drink_order</th>\n",
       "    </tr>\n",
       "  </thead>\n",
       "  <tbody>\n",
       "    <tr>\n",
       "      <th>1</th>\n",
       "      <td>1</td>\n",
       "      <td>1</td>\n",
       "      <td>Izze</td>\n",
       "      <td>[Clementine]</td>\n",
       "      <td>3.39</td>\n",
       "      <td>True</td>\n",
       "    </tr>\n",
       "    <tr>\n",
       "      <th>2</th>\n",
       "      <td>1</td>\n",
       "      <td>1</td>\n",
       "      <td>Nantucket Nectar</td>\n",
       "      <td>[Apple]</td>\n",
       "      <td>3.39</td>\n",
       "      <td>True</td>\n",
       "    </tr>\n",
       "    <tr>\n",
       "      <th>18</th>\n",
       "      <td>9</td>\n",
       "      <td>2</td>\n",
       "      <td>Canned Soda</td>\n",
       "      <td>[Sprite]</td>\n",
       "      <td>2.18</td>\n",
       "      <td>True</td>\n",
       "    </tr>\n",
       "    <tr>\n",
       "      <th>22</th>\n",
       "      <td>11</td>\n",
       "      <td>1</td>\n",
       "      <td>Nantucket Nectar</td>\n",
       "      <td>[Pomegranate Cherry]</td>\n",
       "      <td>3.39</td>\n",
       "      <td>True</td>\n",
       "    </tr>\n",
       "    <tr>\n",
       "      <th>24</th>\n",
       "      <td>12</td>\n",
       "      <td>1</td>\n",
       "      <td>Izze</td>\n",
       "      <td>[Grapefruit]</td>\n",
       "      <td>3.39</td>\n",
       "      <td>True</td>\n",
       "    </tr>\n",
       "    <tr>\n",
       "      <th>28</th>\n",
       "      <td>14</td>\n",
       "      <td>1</td>\n",
       "      <td>Canned Soda</td>\n",
       "      <td>[Dr. Pepper]</td>\n",
       "      <td>1.09</td>\n",
       "      <td>True</td>\n",
       "    </tr>\n",
       "    <tr>\n",
       "      <th>34</th>\n",
       "      <td>17</td>\n",
       "      <td>1</td>\n",
       "      <td>Bottled Water</td>\n",
       "      <td>NULL</td>\n",
       "      <td>1.09</td>\n",
       "      <td>True</td>\n",
       "    </tr>\n",
       "    <tr>\n",
       "      <th>47</th>\n",
       "      <td>21</td>\n",
       "      <td>1</td>\n",
       "      <td>Izze</td>\n",
       "      <td>[Blackberry]</td>\n",
       "      <td>3.39</td>\n",
       "      <td>True</td>\n",
       "    </tr>\n",
       "    <tr>\n",
       "      <th>51</th>\n",
       "      <td>23</td>\n",
       "      <td>2</td>\n",
       "      <td>Canned Soda</td>\n",
       "      <td>[Mountain Dew]</td>\n",
       "      <td>2.18</td>\n",
       "      <td>True</td>\n",
       "    </tr>\n",
       "    <tr>\n",
       "      <th>53</th>\n",
       "      <td>24</td>\n",
       "      <td>1</td>\n",
       "      <td>Canned Soda</td>\n",
       "      <td>[Sprite]</td>\n",
       "      <td>1.09</td>\n",
       "      <td>True</td>\n",
       "    </tr>\n",
       "  </tbody>\n",
       "</table>\n",
       "</div>"
      ],
      "text/plain": [
       "    order_id  quantity         item_name    choice_description  item_price  \\\n",
       "1          1         1              Izze          [Clementine]        3.39   \n",
       "2          1         1  Nantucket Nectar               [Apple]        3.39   \n",
       "18         9         2       Canned Soda              [Sprite]        2.18   \n",
       "22        11         1  Nantucket Nectar  [Pomegranate Cherry]        3.39   \n",
       "24        12         1              Izze          [Grapefruit]        3.39   \n",
       "28        14         1       Canned Soda          [Dr. Pepper]        1.09   \n",
       "34        17         1     Bottled Water                  NULL        1.09   \n",
       "47        21         1              Izze          [Blackberry]        3.39   \n",
       "51        23         2       Canned Soda        [Mountain Dew]        2.18   \n",
       "53        24         1       Canned Soda              [Sprite]        1.09   \n",
       "\n",
       "    drink_order  \n",
       "1          True  \n",
       "2          True  \n",
       "18         True  \n",
       "22         True  \n",
       "24         True  \n",
       "28         True  \n",
       "34         True  \n",
       "47         True  \n",
       "51         True  \n",
       "53         True  "
      ]
     },
     "execution_count": 23,
     "metadata": {},
     "output_type": "execute_result"
    }
   ],
   "source": [
    "chipotle_drinks.head(10) #note that we must clean up the choice_description column in the drinks dataset"
   ]
  },
  {
   "cell_type": "markdown",
   "metadata": {},
   "source": [
    "#### Note: we must clean up the `\"choice_description\"` column in `chipotle_drinks`"
   ]
  },
  {
   "cell_type": "code",
   "execution_count": 24,
   "metadata": {},
   "outputs": [],
   "source": [
    "choice_description = []\n",
    "for description in chipotle_drinks[\"choice_description\"]:\n",
    "    if description == \"NULL\":\n",
    "        choice_description.append(description)\n",
    "    else:\n",
    "        choice_description.append(description[0])"
   ]
  },
  {
   "cell_type": "code",
   "execution_count": 25,
   "metadata": {},
   "outputs": [
    {
     "name": "stderr",
     "output_type": "stream",
     "text": [
      "/anaconda3/lib/python3.7/site-packages/ipykernel_launcher.py:1: SettingWithCopyWarning: \n",
      "A value is trying to be set on a copy of a slice from a DataFrame.\n",
      "Try using .loc[row_indexer,col_indexer] = value instead\n",
      "\n",
      "See the caveats in the documentation: http://pandas.pydata.org/pandas-docs/stable/indexing.html#indexing-view-versus-copy\n",
      "  \"\"\"Entry point for launching an IPython kernel.\n"
     ]
    }
   ],
   "source": [
    "chipotle_drinks[\"clean_choice_description\"] = choice_description"
   ]
  },
  {
   "cell_type": "code",
   "execution_count": 26,
   "metadata": {
    "scrolled": false
   },
   "outputs": [
    {
     "name": "stderr",
     "output_type": "stream",
     "text": [
      "/anaconda3/lib/python3.7/site-packages/pandas/core/frame.py:3697: SettingWithCopyWarning: \n",
      "A value is trying to be set on a copy of a slice from a DataFrame\n",
      "\n",
      "See the caveats in the documentation: http://pandas.pydata.org/pandas-docs/stable/indexing.html#indexing-view-versus-copy\n",
      "  errors=errors)\n"
     ]
    }
   ],
   "source": [
    "chipotle_drinks.drop(\"choice_description\", axis=1, inplace = True)"
   ]
  },
  {
   "cell_type": "code",
   "execution_count": 27,
   "metadata": {},
   "outputs": [
    {
     "data": {
      "text/html": [
       "<div>\n",
       "<style scoped>\n",
       "    .dataframe tbody tr th:only-of-type {\n",
       "        vertical-align: middle;\n",
       "    }\n",
       "\n",
       "    .dataframe tbody tr th {\n",
       "        vertical-align: top;\n",
       "    }\n",
       "\n",
       "    .dataframe thead th {\n",
       "        text-align: right;\n",
       "    }\n",
       "</style>\n",
       "<table border=\"1\" class=\"dataframe\">\n",
       "  <thead>\n",
       "    <tr style=\"text-align: right;\">\n",
       "      <th></th>\n",
       "      <th>order_id</th>\n",
       "      <th>quantity</th>\n",
       "      <th>item_name</th>\n",
       "      <th>item_price</th>\n",
       "      <th>drink_order</th>\n",
       "      <th>clean_choice_description</th>\n",
       "    </tr>\n",
       "  </thead>\n",
       "  <tbody>\n",
       "    <tr>\n",
       "      <th>1</th>\n",
       "      <td>1</td>\n",
       "      <td>1</td>\n",
       "      <td>Izze</td>\n",
       "      <td>3.39</td>\n",
       "      <td>True</td>\n",
       "      <td>Clementine</td>\n",
       "    </tr>\n",
       "    <tr>\n",
       "      <th>2</th>\n",
       "      <td>1</td>\n",
       "      <td>1</td>\n",
       "      <td>Nantucket Nectar</td>\n",
       "      <td>3.39</td>\n",
       "      <td>True</td>\n",
       "      <td>Apple</td>\n",
       "    </tr>\n",
       "    <tr>\n",
       "      <th>18</th>\n",
       "      <td>9</td>\n",
       "      <td>2</td>\n",
       "      <td>Canned Soda</td>\n",
       "      <td>2.18</td>\n",
       "      <td>True</td>\n",
       "      <td>Sprite</td>\n",
       "    </tr>\n",
       "    <tr>\n",
       "      <th>22</th>\n",
       "      <td>11</td>\n",
       "      <td>1</td>\n",
       "      <td>Nantucket Nectar</td>\n",
       "      <td>3.39</td>\n",
       "      <td>True</td>\n",
       "      <td>Pomegranate Cherry</td>\n",
       "    </tr>\n",
       "    <tr>\n",
       "      <th>24</th>\n",
       "      <td>12</td>\n",
       "      <td>1</td>\n",
       "      <td>Izze</td>\n",
       "      <td>3.39</td>\n",
       "      <td>True</td>\n",
       "      <td>Grapefruit</td>\n",
       "    </tr>\n",
       "    <tr>\n",
       "      <th>28</th>\n",
       "      <td>14</td>\n",
       "      <td>1</td>\n",
       "      <td>Canned Soda</td>\n",
       "      <td>1.09</td>\n",
       "      <td>True</td>\n",
       "      <td>Dr. Pepper</td>\n",
       "    </tr>\n",
       "    <tr>\n",
       "      <th>34</th>\n",
       "      <td>17</td>\n",
       "      <td>1</td>\n",
       "      <td>Bottled Water</td>\n",
       "      <td>1.09</td>\n",
       "      <td>True</td>\n",
       "      <td>NULL</td>\n",
       "    </tr>\n",
       "    <tr>\n",
       "      <th>47</th>\n",
       "      <td>21</td>\n",
       "      <td>1</td>\n",
       "      <td>Izze</td>\n",
       "      <td>3.39</td>\n",
       "      <td>True</td>\n",
       "      <td>Blackberry</td>\n",
       "    </tr>\n",
       "    <tr>\n",
       "      <th>51</th>\n",
       "      <td>23</td>\n",
       "      <td>2</td>\n",
       "      <td>Canned Soda</td>\n",
       "      <td>2.18</td>\n",
       "      <td>True</td>\n",
       "      <td>Mountain Dew</td>\n",
       "    </tr>\n",
       "    <tr>\n",
       "      <th>53</th>\n",
       "      <td>24</td>\n",
       "      <td>1</td>\n",
       "      <td>Canned Soda</td>\n",
       "      <td>1.09</td>\n",
       "      <td>True</td>\n",
       "      <td>Sprite</td>\n",
       "    </tr>\n",
       "  </tbody>\n",
       "</table>\n",
       "</div>"
      ],
      "text/plain": [
       "    order_id  quantity         item_name  item_price  drink_order  \\\n",
       "1          1         1              Izze        3.39         True   \n",
       "2          1         1  Nantucket Nectar        3.39         True   \n",
       "18         9         2       Canned Soda        2.18         True   \n",
       "22        11         1  Nantucket Nectar        3.39         True   \n",
       "24        12         1              Izze        3.39         True   \n",
       "28        14         1       Canned Soda        1.09         True   \n",
       "34        17         1     Bottled Water        1.09         True   \n",
       "47        21         1              Izze        3.39         True   \n",
       "51        23         2       Canned Soda        2.18         True   \n",
       "53        24         1       Canned Soda        1.09         True   \n",
       "\n",
       "   clean_choice_description  \n",
       "1                Clementine  \n",
       "2                     Apple  \n",
       "18                   Sprite  \n",
       "22       Pomegranate Cherry  \n",
       "24               Grapefruit  \n",
       "28               Dr. Pepper  \n",
       "34                     NULL  \n",
       "47               Blackberry  \n",
       "51             Mountain Dew  \n",
       "53                   Sprite  "
      ]
     },
     "execution_count": 27,
     "metadata": {},
     "output_type": "execute_result"
    }
   ],
   "source": [
    "chipotle_drinks.head(10)"
   ]
  },
  {
   "cell_type": "code",
   "execution_count": 28,
   "metadata": {},
   "outputs": [
    {
     "data": {
      "text/plain": [
       "{'6 Pack Soft Drink',\n",
       " 'Bottled Water',\n",
       " 'Canned Soda',\n",
       " 'Canned Soft Drink',\n",
       " 'Izze',\n",
       " 'Nantucket Nectar'}"
      ]
     },
     "execution_count": 28,
     "metadata": {},
     "output_type": "execute_result"
    }
   ],
   "source": [
    "set(chipotle_drinks[\"item_name\"]) "
   ]
  },
  {
   "cell_type": "markdown",
   "metadata": {},
   "source": [
    "# Problem!! \n",
    "## if we apply `.value_counts()` to the `\"item_name\"` column, we will get a skewed view of the popularity of various drink types"
   ]
  },
  {
   "cell_type": "code",
   "execution_count": 29,
   "metadata": {},
   "outputs": [
    {
     "data": {
      "text/plain": [
       "1                 Izze\n",
       "2     Nantucket Nectar\n",
       "18         Canned Soda\n",
       "22    Nantucket Nectar\n",
       "24                Izze\n",
       "28         Canned Soda\n",
       "34       Bottled Water\n",
       "47                Izze\n",
       "51         Canned Soda\n",
       "53         Canned Soda\n",
       "Name: item_name, dtype: object"
      ]
     },
     "execution_count": 29,
     "metadata": {},
     "output_type": "execute_result"
    }
   ],
   "source": [
    "chipotle_drinks[\"item_name\"].head(10)"
   ]
  },
  {
   "cell_type": "markdown",
   "metadata": {},
   "source": [
    "## we must take into account the `\"quantity\"` column"
   ]
  },
  {
   "cell_type": "code",
   "execution_count": 30,
   "metadata": {},
   "outputs": [
    {
     "data": {
      "text/plain": [
       "1     1\n",
       "2     1\n",
       "18    2\n",
       "22    1\n",
       "24    1\n",
       "28    1\n",
       "34    1\n",
       "47    1\n",
       "51    2\n",
       "53    1\n",
       "Name: quantity, dtype: int64"
      ]
     },
     "execution_count": 30,
     "metadata": {},
     "output_type": "execute_result"
    }
   ],
   "source": [
    "chipotle_drinks[\"quantity\"].head(10)"
   ]
  },
  {
   "cell_type": "code",
   "execution_count": 31,
   "metadata": {},
   "outputs": [],
   "source": [
    "# The source code for value_counts:   \n",
    "\n",
    "# def value_counts(values, sort=True, ascending=False, normalize=False,\n",
    "#                  bins=None, dropna=True):\n",
    "#     \"\"\"\n",
    "#     Compute a histogram of the counts of non-null values.\n",
    "\n",
    "#     Parameters\n",
    "#     ----------\n",
    "#     values : ndarray (1-d)\n",
    "#     normalize: boolean, default False\n",
    "#        If True then compute a relative histogram"
   ]
  },
  {
   "cell_type": "markdown",
   "metadata": {},
   "source": [
    "### To solve this we make an `_expander()` method"
   ]
  },
  {
   "cell_type": "code",
   "execution_count": 32,
   "metadata": {},
   "outputs": [],
   "source": [
    "def drinks_expander(category=\"item_name\"):\n",
    "    expanded_drinks = []\n",
    "    \n",
    "    for i in chipotle_drinks.index.values.tolist():\n",
    "        if chipotle_drinks[\"quantity\"][i] == 1:\n",
    "            expanded_drinks.append(chipotle_drinks[category][i])\n",
    "        else:\n",
    "            for n in [None]*chipotle_drinks[\"quantity\"][i]:\n",
    "                expanded_drinks.append(chipotle_drinks[category][i])\n",
    "                \n",
    "    return pd.Series(expanded_drinks)"
   ]
  },
  {
   "cell_type": "code",
   "execution_count": 33,
   "metadata": {},
   "outputs": [
    {
     "data": {
      "text/plain": [
       "0                Izze\n",
       "1    Nantucket Nectar\n",
       "2         Canned Soda\n",
       "3         Canned Soda\n",
       "4    Nantucket Nectar\n",
       "5                Izze\n",
       "6         Canned Soda\n",
       "7       Bottled Water\n",
       "8                Izze\n",
       "9         Canned Soda\n",
       "dtype: object"
      ]
     },
     "execution_count": 33,
     "metadata": {},
     "output_type": "execute_result"
    }
   ],
   "source": [
    "drinks_expander().head(10)"
   ]
  },
  {
   "cell_type": "code",
   "execution_count": 34,
   "metadata": {},
   "outputs": [
    {
     "name": "stdout",
     "output_type": "stream",
     "text": [
      "The number of rows in the drinks dataset is 668.\n"
     ]
    }
   ],
   "source": [
    "print(\"The number of rows in the drinks dataset is\", str(len(chipotle_drinks))+\".\")"
   ]
  },
  {
   "cell_type": "code",
   "execution_count": 35,
   "metadata": {},
   "outputs": [
    {
     "name": "stdout",
     "output_type": "stream",
     "text": [
      "The number of actual drinks ordered is 792.\n"
     ]
    }
   ],
   "source": [
    "#Having not done this, we would have had a very skewed histogram\n",
    "print(\"The number of actual drinks ordered is\",str(sum(chipotle_drinks[\"quantity\"]))+\".\")"
   ]
  },
  {
   "cell_type": "markdown",
   "metadata": {},
   "source": [
    "### Canned soft drinks are the most popular drink type at chipotle, followed by bottled water..."
   ]
  },
  {
   "cell_type": "code",
   "execution_count": 36,
   "metadata": {},
   "outputs": [
    {
     "data": {
      "image/png": "[encoded data removed]",
      "text/plain": [
       "<Figure size 648x576 with 1 Axes>"
      ]
     },
     "metadata": {
      "needs_background": "light"
     },
     "output_type": "display_data"
    }
   ],
   "source": [
    "#now we can start to visualize the popularity of various types of drinks\n",
    "drinks_expander().value_counts(normalize=True).plot(kind=\"bar\", figsize=(9,8))\n",
    "plt.title(\"Popularity of Various Types of Drinks at Chipotle\")\n",
    "plt.show()\n",
    "\n",
    "#it makes sense that Izze/Nantucket Nectar would be the less popular than regular soft drinks, \n",
    "#as they are 3 times more expensive than a regular soft drink but offer roughly the same value to the consumer"
   ]
  },
  {
   "cell_type": "markdown",
   "metadata": {},
   "source": [
    "# How much revenue does chipotle make selling these various types of drinks?"
   ]
  },
  {
   "cell_type": "code",
   "execution_count": 37,
   "metadata": {},
   "outputs": [
    {
     "data": {
      "text/plain": [
       "item_name\n",
       "6 Pack Soft Drink    356.95\n",
       "Bottled Water        302.56\n",
       "Canned Soda          137.34\n",
       "Canned Soft Drink    438.75\n",
       "Izze                  67.80\n",
       "Nantucket Nectar      98.31\n",
       "Name: item_price, dtype: float64"
      ]
     },
     "execution_count": 37,
     "metadata": {},
     "output_type": "execute_result"
    }
   ],
   "source": [
    "chipotle_drinks.groupby(\"item_name\")[\"item_price\"].sum()"
   ]
  },
  {
   "cell_type": "code",
   "execution_count": 38,
   "metadata": {},
   "outputs": [
    {
     "name": "stdout",
     "output_type": "stream",
     "text": [
      "The total revenue across all drink orders is $1401.71\n"
     ]
    }
   ],
   "source": [
    "print(\"The total revenue across all drink orders is\", \"$\"+str(sum(chipotle_drinks[\"item_price\"])))"
   ]
  },
  {
   "cell_type": "code",
   "execution_count": 39,
   "metadata": {},
   "outputs": [
    {
     "data": {
      "image/png": "[encoded data removed]",
      "text/plain": [
       "<Figure size 792x576 with 1 Axes>"
      ]
     },
     "metadata": {
      "needs_background": "light"
     },
     "output_type": "display_data"
    }
   ],
   "source": [
    "chipotle_drinks.groupby(\"item_name\")[\"item_price\"].sum().plot(kind=\"bar\",figsize=(11,8))\n",
    "plt.title(\"Revenue (in dollars) from various types of drinks\")\n",
    "plt.show()"
   ]
  },
  {
   "cell_type": "markdown",
   "metadata": {},
   "source": [
    "### Let's now look at the subdistribution of canned sodas and soft drinks purchases"
   ]
  },
  {
   "cell_type": "code",
   "execution_count": 40,
   "metadata": {},
   "outputs": [],
   "source": [
    "#Code to write over clean_choice_description -- change \"Coke\" to \"Coca Cola\"\n",
    "clean_choice_description = []\n",
    "for item in chipotle_drinks[\"clean_choice_description\"]:\n",
    "    if item == \"Coke\":\n",
    "        clean_choice_description.append(\"Coca Cola\")\n",
    "    else:\n",
    "        clean_choice_description.append(item)"
   ]
  },
  {
   "cell_type": "code",
   "execution_count": 41,
   "metadata": {},
   "outputs": [
    {
     "name": "stderr",
     "output_type": "stream",
     "text": [
      "/anaconda3/lib/python3.7/site-packages/ipykernel_launcher.py:1: SettingWithCopyWarning: \n",
      "A value is trying to be set on a copy of a slice from a DataFrame.\n",
      "Try using .loc[row_indexer,col_indexer] = value instead\n",
      "\n",
      "See the caveats in the documentation: http://pandas.pydata.org/pandas-docs/stable/indexing.html#indexing-view-versus-copy\n",
      "  \"\"\"Entry point for launching an IPython kernel.\n"
     ]
    }
   ],
   "source": [
    "chipotle_drinks[\"clean_choice_description_final\"] = clean_choice_description"
   ]
  },
  {
   "cell_type": "code",
   "execution_count": 42,
   "metadata": {},
   "outputs": [],
   "source": [
    "#chipotle_drinks.drop(\"clean_choice_description\",axis = 1, inplace = True)"
   ]
  },
  {
   "cell_type": "code",
   "execution_count": 43,
   "metadata": {},
   "outputs": [
    {
     "data": {
      "text/plain": [
       "{'Coca Cola',\n",
       " 'Diet Coke',\n",
       " 'Diet Dr. Pepper',\n",
       " 'Dr. Pepper',\n",
       " 'Lemonade',\n",
       " 'Mountain Dew',\n",
       " 'Nestea',\n",
       " 'Sprite'}"
      ]
     },
     "execution_count": 43,
     "metadata": {},
     "output_type": "execute_result"
    }
   ],
   "source": [
    "set(chipotle_drinks[(chipotle_drinks.item_name == \"Canned Soda\") | (chipotle_drinks.item_name == \"Canned Soft Drink\") | (chipotle_drinks.item_name == \"6 Pack Soft Drink\")][\"clean_choice_description_final\"])\n",
    "#set containing all soft drinks on offer at chipotle "
   ]
  },
  {
   "cell_type": "code",
   "execution_count": 44,
   "metadata": {},
   "outputs": [],
   "source": [
    "drinks_cannedSodas_indices = chipotle_drinks[(chipotle_drinks.item_name == \"Canned Soda\") | (chipotle_drinks.item_name == \"Canned Soft Drink\")].index.values.tolist()\n",
    "#grab the index values so we can cross-reference                                                                                                               "
   ]
  },
  {
   "cell_type": "code",
   "execution_count": 45,
   "metadata": {},
   "outputs": [
    {
     "data": {
      "text/plain": [
       "18              Sprite\n",
       "28          Dr. Pepper\n",
       "51        Mountain Dew\n",
       "53              Sprite\n",
       "107         Dr. Pepper\n",
       "117    Diet Dr. Pepper\n",
       "126          Coca Cola\n",
       "162          Diet Coke\n",
       "171    Diet Dr. Pepper\n",
       "179          Coca Cola\n",
       "Name: clean_choice_description_final, dtype: object"
      ]
     },
     "execution_count": 45,
     "metadata": {},
     "output_type": "execute_result"
    }
   ],
   "source": [
    "chipotle_drinks[(chipotle_drinks.item_name == \"Canned Soda\") | (chipotle_drinks.item_name == \"Canned Soft Drink\")].clean_choice_description_final.head(10)"
   ]
  },
  {
   "cell_type": "code",
   "execution_count": 46,
   "metadata": {},
   "outputs": [
    {
     "data": {
      "text/plain": [
       "18     2\n",
       "28     1\n",
       "51     2\n",
       "53     1\n",
       "107    1\n",
       "117    1\n",
       "126    1\n",
       "162    2\n",
       "171    2\n",
       "179    1\n",
       "Name: quantity, dtype: int64"
      ]
     },
     "execution_count": 46,
     "metadata": {},
     "output_type": "execute_result"
    }
   ],
   "source": [
    "chipotle_drinks[(chipotle_drinks.item_name == \"Canned Soda\") | (chipotle_drinks.item_name == \"Canned Soft Drink\")].quantity.head(10)"
   ]
  },
  {
   "cell_type": "code",
   "execution_count": 47,
   "metadata": {},
   "outputs": [
    {
     "data": {
      "text/plain": [
       "0             Sprite\n",
       "1             Sprite\n",
       "2         Dr. Pepper\n",
       "3       Mountain Dew\n",
       "4       Mountain Dew\n",
       "5             Sprite\n",
       "6         Dr. Pepper\n",
       "7    Diet Dr. Pepper\n",
       "8          Coca Cola\n",
       "9          Diet Coke\n",
       "dtype: object"
      ]
     },
     "execution_count": 47,
     "metadata": {},
     "output_type": "execute_result"
    }
   ],
   "source": [
    "def cannedSodas_expander(category=\"clean_choice_description_final\"):\n",
    "    expanded_drinks = []\n",
    "    \n",
    "    for i in drinks_cannedSodas_indices:\n",
    "        if chipotle_drinks[\"quantity\"][i] == 1:\n",
    "            expanded_drinks.append(chipotle_drinks[category][i])\n",
    "        else:\n",
    "            for n in [None]*chipotle_drinks[\"quantity\"][i]:\n",
    "                expanded_drinks.append(chipotle_drinks[category][i])\n",
    "                \n",
    "    return pd.Series(expanded_drinks)\n",
    "\n",
    "cannedSodas_expander().head(10)"
   ]
  },
  {
   "cell_type": "markdown",
   "metadata": {},
   "source": [
    "### Coca Cola is the most popular soft drink at Chipotle, followed by Diet Coke"
   ]
  },
  {
   "cell_type": "code",
   "execution_count": 48,
   "metadata": {},
   "outputs": [
    {
     "data": {
      "image/png": "[encoded data removed]",
      "text/plain": [
       "<Figure size 576x576 with 1 Axes>"
      ]
     },
     "metadata": {
      "needs_background": "light"
     },
     "output_type": "display_data"
    }
   ],
   "source": [
    "cannedSodas_expander().value_counts(normalize=True).plot(kind=\"bar\", figsize = (8,8))\n",
    "plt.title(\"Popularity of Various Canned Soft Drinks and Canned Sodas\")\n",
    "plt.show()"
   ]
  },
  {
   "cell_type": "markdown",
   "metadata": {},
   "source": [
    "# Let's now examine the `chipotle_food` dataset"
   ]
  },
  {
   "cell_type": "code",
   "execution_count": 49,
   "metadata": {},
   "outputs": [
    {
     "data": {
      "text/plain": [
       "{'Barbacoa Bowl',\n",
       " 'Barbacoa Burrito',\n",
       " 'Barbacoa Crispy Tacos',\n",
       " 'Barbacoa Salad Bowl',\n",
       " 'Barbacoa Soft Tacos',\n",
       " 'Bowl',\n",
       " 'Burrito',\n",
       " 'Carnitas Bowl',\n",
       " 'Carnitas Burrito',\n",
       " 'Carnitas Crispy Tacos',\n",
       " 'Carnitas Salad',\n",
       " 'Carnitas Salad Bowl',\n",
       " 'Carnitas Soft Tacos',\n",
       " 'Chicken Bowl',\n",
       " 'Chicken Burrito',\n",
       " 'Chicken Crispy Tacos',\n",
       " 'Chicken Salad',\n",
       " 'Chicken Salad Bowl',\n",
       " 'Chicken Soft Tacos',\n",
       " 'Chips',\n",
       " 'Chips and Fresh Tomato Salsa',\n",
       " 'Chips and Guacamole',\n",
       " 'Chips and Mild Fresh Tomato Salsa',\n",
       " 'Chips and Roasted Chili Corn Salsa',\n",
       " 'Chips and Roasted Chili-Corn Salsa',\n",
       " 'Chips and Tomatillo Green Chili Salsa',\n",
       " 'Chips and Tomatillo Red Chili Salsa',\n",
       " 'Chips and Tomatillo-Green Chili Salsa',\n",
       " 'Chips and Tomatillo-Red Chili Salsa',\n",
       " 'Crispy Tacos',\n",
       " 'Salad',\n",
       " 'Side of Chips',\n",
       " 'Steak Bowl',\n",
       " 'Steak Burrito',\n",
       " 'Steak Crispy Tacos',\n",
       " 'Steak Salad',\n",
       " 'Steak Salad Bowl',\n",
       " 'Steak Soft Tacos',\n",
       " 'Veggie Bowl',\n",
       " 'Veggie Burrito',\n",
       " 'Veggie Crispy Tacos',\n",
       " 'Veggie Salad',\n",
       " 'Veggie Salad Bowl',\n",
       " 'Veggie Soft Tacos'}"
      ]
     },
     "execution_count": 49,
     "metadata": {},
     "output_type": "execute_result"
    }
   ],
   "source": [
    "set(chipotle_food[\"item_name\"])"
   ]
  },
  {
   "cell_type": "markdown",
   "metadata": {},
   "source": [
    "## Lets first analyze the popularity of various `fillings_types`\n",
    "\n",
    "### Fillings are of the following categories:"
   ]
  },
  {
   "cell_type": "code",
   "execution_count": 50,
   "metadata": {},
   "outputs": [
    {
     "name": "stderr",
     "output_type": "stream",
     "text": [
      "/anaconda3/lib/python3.7/site-packages/ipykernel_launcher.py:13: SettingWithCopyWarning: \n",
      "A value is trying to be set on a copy of a slice from a DataFrame.\n",
      "Try using .loc[row_indexer,col_indexer] = value instead\n",
      "\n",
      "See the caveats in the documentation: http://pandas.pydata.org/pandas-docs/stable/indexing.html#indexing-view-versus-copy\n",
      "  del sys.path[0]\n"
     ]
    }
   ],
   "source": [
    "def filling_finder(row):\n",
    "    if \"Barbacoa\" in row[\"item_name\"]:\n",
    "        return \"Barbacoa\"\n",
    "    elif \"Carnitas\" in row[\"item_name\"]:\n",
    "        return \"Carnitas\"\n",
    "    elif \"Chicken\" in row[\"item_name\"]:\n",
    "        return \"Chicken\"\n",
    "    elif \"Steak\" in row[\"item_name\"]:\n",
    "        return \"Steak\"\n",
    "    elif \"Veggie\" in row[\"item_name\"]:\n",
    "        return \"Veggie\"\n",
    "\n",
    "chipotle_food[\"filling_type\"] = chipotle_food.apply(filling_finder, axis = 1)"
   ]
  },
  {
   "cell_type": "code",
   "execution_count": 51,
   "metadata": {},
   "outputs": [
    {
     "data": {
      "text/html": [
       "<div>\n",
       "<style scoped>\n",
       "    .dataframe tbody tr th:only-of-type {\n",
       "        vertical-align: middle;\n",
       "    }\n",
       "\n",
       "    .dataframe tbody tr th {\n",
       "        vertical-align: top;\n",
       "    }\n",
       "\n",
       "    .dataframe thead th {\n",
       "        text-align: right;\n",
       "    }\n",
       "</style>\n",
       "<table border=\"1\" class=\"dataframe\">\n",
       "  <thead>\n",
       "    <tr style=\"text-align: right;\">\n",
       "      <th></th>\n",
       "      <th>order_id</th>\n",
       "      <th>quantity</th>\n",
       "      <th>item_name</th>\n",
       "      <th>choice_description</th>\n",
       "      <th>item_price</th>\n",
       "      <th>drink_order</th>\n",
       "      <th>filling_type</th>\n",
       "    </tr>\n",
       "  </thead>\n",
       "  <tbody>\n",
       "    <tr>\n",
       "      <th>0</th>\n",
       "      <td>1</td>\n",
       "      <td>1</td>\n",
       "      <td>Chips and Fresh Tomato Salsa</td>\n",
       "      <td>NULL</td>\n",
       "      <td>2.39</td>\n",
       "      <td>False</td>\n",
       "      <td>None</td>\n",
       "    </tr>\n",
       "    <tr>\n",
       "      <th>3</th>\n",
       "      <td>1</td>\n",
       "      <td>1</td>\n",
       "      <td>Chips and Tomatillo-Green Chili Salsa</td>\n",
       "      <td>NULL</td>\n",
       "      <td>2.39</td>\n",
       "      <td>False</td>\n",
       "      <td>None</td>\n",
       "    </tr>\n",
       "    <tr>\n",
       "      <th>4</th>\n",
       "      <td>2</td>\n",
       "      <td>2</td>\n",
       "      <td>Chicken Bowl</td>\n",
       "      <td>[Tomatillo-Red Chili Salsa (Hot), [Black Beans...</td>\n",
       "      <td>16.98</td>\n",
       "      <td>False</td>\n",
       "      <td>Chicken</td>\n",
       "    </tr>\n",
       "    <tr>\n",
       "      <th>5</th>\n",
       "      <td>3</td>\n",
       "      <td>1</td>\n",
       "      <td>Chicken Bowl</td>\n",
       "      <td>[Fresh Tomato Salsa (Mild), [Rice, Cheese, Sou...</td>\n",
       "      <td>10.98</td>\n",
       "      <td>False</td>\n",
       "      <td>Chicken</td>\n",
       "    </tr>\n",
       "    <tr>\n",
       "      <th>6</th>\n",
       "      <td>3</td>\n",
       "      <td>1</td>\n",
       "      <td>Side of Chips</td>\n",
       "      <td>NULL</td>\n",
       "      <td>1.69</td>\n",
       "      <td>False</td>\n",
       "      <td>None</td>\n",
       "    </tr>\n",
       "    <tr>\n",
       "      <th>7</th>\n",
       "      <td>4</td>\n",
       "      <td>1</td>\n",
       "      <td>Steak Burrito</td>\n",
       "      <td>[Tomatillo Red Chili Salsa, [Fajita Vegetables...</td>\n",
       "      <td>11.75</td>\n",
       "      <td>False</td>\n",
       "      <td>Steak</td>\n",
       "    </tr>\n",
       "    <tr>\n",
       "      <th>8</th>\n",
       "      <td>4</td>\n",
       "      <td>1</td>\n",
       "      <td>Steak Soft Tacos</td>\n",
       "      <td>[Tomatillo Green Chili Salsa, [Pinto Beans, Ch...</td>\n",
       "      <td>9.25</td>\n",
       "      <td>False</td>\n",
       "      <td>Steak</td>\n",
       "    </tr>\n",
       "    <tr>\n",
       "      <th>9</th>\n",
       "      <td>5</td>\n",
       "      <td>1</td>\n",
       "      <td>Steak Burrito</td>\n",
       "      <td>[Fresh Tomato Salsa, [Rice, Black Beans, Pinto...</td>\n",
       "      <td>9.25</td>\n",
       "      <td>False</td>\n",
       "      <td>Steak</td>\n",
       "    </tr>\n",
       "    <tr>\n",
       "      <th>10</th>\n",
       "      <td>5</td>\n",
       "      <td>1</td>\n",
       "      <td>Chips and Guacamole</td>\n",
       "      <td>NULL</td>\n",
       "      <td>4.45</td>\n",
       "      <td>False</td>\n",
       "      <td>None</td>\n",
       "    </tr>\n",
       "    <tr>\n",
       "      <th>11</th>\n",
       "      <td>6</td>\n",
       "      <td>1</td>\n",
       "      <td>Chicken Crispy Tacos</td>\n",
       "      <td>[Roasted Chili Corn Salsa, [Fajita Vegetables,...</td>\n",
       "      <td>8.75</td>\n",
       "      <td>False</td>\n",
       "      <td>Chicken</td>\n",
       "    </tr>\n",
       "  </tbody>\n",
       "</table>\n",
       "</div>"
      ],
      "text/plain": [
       "    order_id  quantity                              item_name  \\\n",
       "0          1         1           Chips and Fresh Tomato Salsa   \n",
       "3          1         1  Chips and Tomatillo-Green Chili Salsa   \n",
       "4          2         2                           Chicken Bowl   \n",
       "5          3         1                           Chicken Bowl   \n",
       "6          3         1                          Side of Chips   \n",
       "7          4         1                          Steak Burrito   \n",
       "8          4         1                       Steak Soft Tacos   \n",
       "9          5         1                          Steak Burrito   \n",
       "10         5         1                    Chips and Guacamole   \n",
       "11         6         1                   Chicken Crispy Tacos   \n",
       "\n",
       "                                   choice_description  item_price  \\\n",
       "0                                                NULL        2.39   \n",
       "3                                                NULL        2.39   \n",
       "4   [Tomatillo-Red Chili Salsa (Hot), [Black Beans...       16.98   \n",
       "5   [Fresh Tomato Salsa (Mild), [Rice, Cheese, Sou...       10.98   \n",
       "6                                                NULL        1.69   \n",
       "7   [Tomatillo Red Chili Salsa, [Fajita Vegetables...       11.75   \n",
       "8   [Tomatillo Green Chili Salsa, [Pinto Beans, Ch...        9.25   \n",
       "9   [Fresh Tomato Salsa, [Rice, Black Beans, Pinto...        9.25   \n",
       "10                                               NULL        4.45   \n",
       "11  [Roasted Chili Corn Salsa, [Fajita Vegetables,...        8.75   \n",
       "\n",
       "    drink_order filling_type  \n",
       "0         False         None  \n",
       "3         False         None  \n",
       "4         False      Chicken  \n",
       "5         False      Chicken  \n",
       "6         False         None  \n",
       "7         False        Steak  \n",
       "8         False        Steak  \n",
       "9         False        Steak  \n",
       "10        False         None  \n",
       "11        False      Chicken  "
      ]
     },
     "execution_count": 51,
     "metadata": {},
     "output_type": "execute_result"
    }
   ],
   "source": [
    "chipotle_food.head(10)"
   ]
  },
  {
   "cell_type": "code",
   "execution_count": 52,
   "metadata": {},
   "outputs": [
    {
     "data": {
      "text/plain": [
       "0    Chicken\n",
       "1    Chicken\n",
       "2    Chicken\n",
       "3      Steak\n",
       "4      Steak\n",
       "5      Steak\n",
       "6    Chicken\n",
       "7    Chicken\n",
       "8    Chicken\n",
       "9    Chicken\n",
       "dtype: object"
      ]
     },
     "execution_count": 52,
     "metadata": {},
     "output_type": "execute_result"
    }
   ],
   "source": [
    "def filling_expander(category=\"filling_type\"):\n",
    "    expanded_filling = []\n",
    "    \n",
    "    for i in [i for i in chipotle_food.index.values.tolist() if chipotle_food[\"filling_type\"][i] != None]:\n",
    "        if chipotle_food[\"quantity\"][i] == 1:\n",
    "            expanded_filling.append(chipotle_food[category][i])\n",
    "        else:\n",
    "            for n in [None]*chipotle_food[\"quantity\"][i]:\n",
    "                expanded_filling.append(chipotle_food[category][i])\n",
    "                \n",
    "    return pd.Series(expanded_filling)\n",
    "\n",
    "filling_expander().head(10)"
   ]
  },
  {
   "cell_type": "code",
   "execution_count": 53,
   "metadata": {},
   "outputs": [
    {
     "data": {
      "text/plain": [
       "Chicken     1654\n",
       "Steak        734\n",
       "Veggie       217\n",
       "Barbacoa     204\n",
       "Carnitas     186\n",
       "dtype: int64"
      ]
     },
     "execution_count": 53,
     "metadata": {},
     "output_type": "execute_result"
    }
   ],
   "source": [
    "filling_expander().value_counts()"
   ]
  },
  {
   "cell_type": "code",
   "execution_count": 54,
   "metadata": {},
   "outputs": [
    {
     "name": "stdout",
     "output_type": "stream",
     "text": [
      "Only 7.25% of fillings ordered are vegetarian options.\n"
     ]
    }
   ],
   "source": [
    "print(\"Only\",format((217/filling_expander().value_counts().sum())*100, \".2f\")+\"%\",\"of fillings ordered are vegetarian options.\")"
   ]
  },
  {
   "cell_type": "markdown",
   "metadata": {},
   "source": [
    "### Chicken is the most popular filling across all orders, followed by steak..."
   ]
  },
  {
   "cell_type": "code",
   "execution_count": 55,
   "metadata": {},
   "outputs": [
    {
     "data": {
      "image/png": "[encoded data removed]",
      "text/plain": [
       "<Figure size 576x576 with 1 Axes>"
      ]
     },
     "metadata": {
      "needs_background": "light"
     },
     "output_type": "display_data"
    }
   ],
   "source": [
    "filling_expander().value_counts(normalize=True).plot(kind=\"bar\", figsize = (8,8))\n",
    "plt.title(\"Distribution of Orders by Filling Type\")\n",
    "plt.show()"
   ]
  },
  {
   "cell_type": "markdown",
   "metadata": {},
   "source": [
    "# Lets next analyze the popularity of various `meal_types`\n",
    "\n",
    "### Meals are of the following categories:"
   ]
  },
  {
   "cell_type": "code",
   "execution_count": 56,
   "metadata": {},
   "outputs": [
    {
     "name": "stderr",
     "output_type": "stream",
     "text": [
      "/anaconda3/lib/python3.7/site-packages/ipykernel_launcher.py:15: SettingWithCopyWarning: \n",
      "A value is trying to be set on a copy of a slice from a DataFrame.\n",
      "Try using .loc[row_indexer,col_indexer] = value instead\n",
      "\n",
      "See the caveats in the documentation: http://pandas.pydata.org/pandas-docs/stable/indexing.html#indexing-view-versus-copy\n",
      "  from ipykernel import kernelapp as app\n"
     ]
    }
   ],
   "source": [
    "def meal_type(row):\n",
    "    if \"Salad Bowl\" in row[\"item_name\"]:\n",
    "        return \"Salad Bowl\"\n",
    "    elif \"Salad\" in row[\"item_name\"] and \"Bowl\" not in row[\"item_name\"]:\n",
    "        return \"Salad\"\n",
    "    elif \"Bowl\" in row[\"item_name\"] and \"Salad\" not in row[\"item_name\"]:\n",
    "        return \"Bowl\"\n",
    "    elif \"Burrito\" in row[\"item_name\"]:\n",
    "        return \"Burrito\"\n",
    "    elif \"Tacos\" in row[\"item_name\"]:\n",
    "        return \"Tacos\"\n",
    "    elif \"Chips\" in row[\"item_name\"]:\n",
    "        return \"Chips\"\n",
    "    \n",
    "chipotle_food[\"meal_type\"] = chipotle_food.apply(meal_type, axis = 1)"
   ]
  },
  {
   "cell_type": "code",
   "execution_count": 57,
   "metadata": {},
   "outputs": [
    {
     "data": {
      "text/html": [
       "<div>\n",
       "<style scoped>\n",
       "    .dataframe tbody tr th:only-of-type {\n",
       "        vertical-align: middle;\n",
       "    }\n",
       "\n",
       "    .dataframe tbody tr th {\n",
       "        vertical-align: top;\n",
       "    }\n",
       "\n",
       "    .dataframe thead th {\n",
       "        text-align: right;\n",
       "    }\n",
       "</style>\n",
       "<table border=\"1\" class=\"dataframe\">\n",
       "  <thead>\n",
       "    <tr style=\"text-align: right;\">\n",
       "      <th></th>\n",
       "      <th>order_id</th>\n",
       "      <th>quantity</th>\n",
       "      <th>item_name</th>\n",
       "      <th>choice_description</th>\n",
       "      <th>item_price</th>\n",
       "      <th>drink_order</th>\n",
       "      <th>filling_type</th>\n",
       "      <th>meal_type</th>\n",
       "    </tr>\n",
       "  </thead>\n",
       "  <tbody>\n",
       "    <tr>\n",
       "      <th>0</th>\n",
       "      <td>1</td>\n",
       "      <td>1</td>\n",
       "      <td>Chips and Fresh Tomato Salsa</td>\n",
       "      <td>NULL</td>\n",
       "      <td>2.39</td>\n",
       "      <td>False</td>\n",
       "      <td>None</td>\n",
       "      <td>Chips</td>\n",
       "    </tr>\n",
       "    <tr>\n",
       "      <th>3</th>\n",
       "      <td>1</td>\n",
       "      <td>1</td>\n",
       "      <td>Chips and Tomatillo-Green Chili Salsa</td>\n",
       "      <td>NULL</td>\n",
       "      <td>2.39</td>\n",
       "      <td>False</td>\n",
       "      <td>None</td>\n",
       "      <td>Chips</td>\n",
       "    </tr>\n",
       "    <tr>\n",
       "      <th>4</th>\n",
       "      <td>2</td>\n",
       "      <td>2</td>\n",
       "      <td>Chicken Bowl</td>\n",
       "      <td>[Tomatillo-Red Chili Salsa (Hot), [Black Beans...</td>\n",
       "      <td>16.98</td>\n",
       "      <td>False</td>\n",
       "      <td>Chicken</td>\n",
       "      <td>Bowl</td>\n",
       "    </tr>\n",
       "    <tr>\n",
       "      <th>5</th>\n",
       "      <td>3</td>\n",
       "      <td>1</td>\n",
       "      <td>Chicken Bowl</td>\n",
       "      <td>[Fresh Tomato Salsa (Mild), [Rice, Cheese, Sou...</td>\n",
       "      <td>10.98</td>\n",
       "      <td>False</td>\n",
       "      <td>Chicken</td>\n",
       "      <td>Bowl</td>\n",
       "    </tr>\n",
       "    <tr>\n",
       "      <th>6</th>\n",
       "      <td>3</td>\n",
       "      <td>1</td>\n",
       "      <td>Side of Chips</td>\n",
       "      <td>NULL</td>\n",
       "      <td>1.69</td>\n",
       "      <td>False</td>\n",
       "      <td>None</td>\n",
       "      <td>Chips</td>\n",
       "    </tr>\n",
       "  </tbody>\n",
       "</table>\n",
       "</div>"
      ],
      "text/plain": [
       "   order_id  quantity                              item_name  \\\n",
       "0         1         1           Chips and Fresh Tomato Salsa   \n",
       "3         1         1  Chips and Tomatillo-Green Chili Salsa   \n",
       "4         2         2                           Chicken Bowl   \n",
       "5         3         1                           Chicken Bowl   \n",
       "6         3         1                          Side of Chips   \n",
       "\n",
       "                                  choice_description  item_price  drink_order  \\\n",
       "0                                               NULL        2.39        False   \n",
       "3                                               NULL        2.39        False   \n",
       "4  [Tomatillo-Red Chili Salsa (Hot), [Black Beans...       16.98        False   \n",
       "5  [Fresh Tomato Salsa (Mild), [Rice, Cheese, Sou...       10.98        False   \n",
       "6                                               NULL        1.69        False   \n",
       "\n",
       "  filling_type meal_type  \n",
       "0         None     Chips  \n",
       "3         None     Chips  \n",
       "4      Chicken      Bowl  \n",
       "5      Chicken      Bowl  \n",
       "6         None     Chips  "
      ]
     },
     "execution_count": 57,
     "metadata": {},
     "output_type": "execute_result"
    }
   ],
   "source": [
    "chipotle_food.head()"
   ]
  },
  {
   "cell_type": "code",
   "execution_count": 58,
   "metadata": {},
   "outputs": [
    {
     "data": {
      "text/plain": [
       "0      Chips\n",
       "1      Chips\n",
       "2       Bowl\n",
       "3       Bowl\n",
       "4       Bowl\n",
       "5      Chips\n",
       "6    Burrito\n",
       "7      Tacos\n",
       "8    Burrito\n",
       "9      Chips\n",
       "dtype: object"
      ]
     },
     "execution_count": 58,
     "metadata": {},
     "output_type": "execute_result"
    }
   ],
   "source": [
    "def meal_expander(category =\"meal_type\"):\n",
    "    expanded_meal = []\n",
    "    \n",
    "    for i in chipotle_food.index.values.tolist():\n",
    "        if chipotle_food[\"quantity\"][i] == 1:\n",
    "            expanded_meal.append(chipotle_food[category][i])\n",
    "        else:\n",
    "            for n in [None]*chipotle_food[\"quantity\"][i]:\n",
    "                expanded_meal.append(chipotle_food[category][i])\n",
    "    return pd.Series(expanded_meal)\n",
    "\n",
    "meal_expander().head(10)"
   ]
  },
  {
   "cell_type": "code",
   "execution_count": 59,
   "metadata": {},
   "outputs": [
    {
     "data": {
      "text/plain": [
       "Burrito       0.294498\n",
       "Bowl          0.289474\n",
       "Chips         0.280144\n",
       "Tacos         0.085646\n",
       "Salad Bowl    0.044976\n",
       "Salad         0.005263\n",
       "dtype: float64"
      ]
     },
     "execution_count": 59,
     "metadata": {},
     "output_type": "execute_result"
    }
   ],
   "source": [
    "meal_expander().value_counts(normalize=True) #note the use of normalized value counts"
   ]
  },
  {
   "cell_type": "markdown",
   "metadata": {},
   "source": [
    "## > Nearly 60% of the chipotle food orders are either `Burritos` or `Bowls`.\n",
    "\n",
    "## > `Tacos` , `Salad Bowls` and `Salads` collectively comprise only 12.5% of the orders.\n",
    "\n",
    "### > `Salads` specifically comprise only .5% of sales and are the least popular meal type."
   ]
  },
  {
   "cell_type": "code",
   "execution_count": 60,
   "metadata": {},
   "outputs": [
    {
     "data": {
      "image/png": "[encoded data removed]",
      "text/plain": [
       "<Figure size 576x576 with 1 Axes>"
      ]
     },
     "metadata": {
      "needs_background": "light"
     },
     "output_type": "display_data"
    }
   ],
   "source": [
    "meal_expander().value_counts(normalize=True).plot(kind = \"bar\", figsize = (8,8))\n",
    "plt.title(\"Distribution of various meal types\")\n",
    "plt.show()"
   ]
  },
  {
   "cell_type": "markdown",
   "metadata": {},
   "source": [
    "---\n",
    "\n",
    "## Advanced Level\n"
   ]
  },
  {
   "cell_type": "markdown",
   "metadata": {},
   "source": [
    "### Part 5: Calculate the average number of toppings per burrito.\n",
    "\n",
    "Note: Let's ignore the `quantity` column to simplify this task.\n",
    "\n",
    "Hint: Think carefully about the easiest way to count the number of toppings!\n"
   ]
  },
  {
   "cell_type": "code",
   "execution_count": 61,
   "metadata": {},
   "outputs": [
    {
     "name": "stderr",
     "output_type": "stream",
     "text": [
      "/anaconda3/lib/python3.7/site-packages/ipykernel_launcher.py:7: SettingWithCopyWarning: \n",
      "A value is trying to be set on a copy of a slice from a DataFrame.\n",
      "Try using .loc[row_indexer,col_indexer] = value instead\n",
      "\n",
      "See the caveats in the documentation: http://pandas.pydata.org/pandas-docs/stable/indexing.html#indexing-view-versus-copy\n",
      "  import sys\n"
     ]
    }
   ],
   "source": [
    "def burrito_finder(row):\n",
    "    if \"Burrito\" in row[\"item_name\"]:\n",
    "        return True\n",
    "    else:\n",
    "        return False\n",
    "\n",
    "chipotle_food[\"burrito\"] = chipotle_food.apply(burrito_finder, axis = 1)"
   ]
  },
  {
   "cell_type": "code",
   "execution_count": 62,
   "metadata": {},
   "outputs": [],
   "source": [
    "chipotle_food_burritos = chipotle_food[chipotle_food.burrito == True]\n",
    "\n",
    "def get_choice_description_set(index):\n",
    "    counter_type_isList = 0    \n",
    "    for item in chipotle_food_burritos[\"choice_description\"][index]:\n",
    "        if type(item) == list:\n",
    "            counter_type_isList += 1\n",
    "        \n",
    "    if counter_type_isList == 0:\n",
    "        return set([items for items in chipotle_food_burritos[\"choice_description\"][index]])\n",
    "    elif counter_type_isList == 1:\n",
    "        return set([chipotle_food_burritos[\"choice_description\"][index][0]]+\n",
    "            [items for items in chipotle_food_burritos[\"choice_description\"][index][1]])"
   ]
  },
  {
   "cell_type": "code",
   "execution_count": 63,
   "metadata": {},
   "outputs": [],
   "source": [
    "#set.union(*[get_choice_description_set(i) for i in chipotle_food_burritos.index.values.tolist()]) "
   ]
  },
  {
   "cell_type": "code",
   "execution_count": 64,
   "metadata": {},
   "outputs": [],
   "source": [
    "chipotle_toppings = set([\"Guacamole\",\n",
    "                        \"Fresh Tomato Salsa\",\n",
    "                        'Fresh Tomato (Mild)',\n",
    "                        'Fresh Tomato Salsa (Mild)',\n",
    "                        'Roasted Chili Corn (Medium)',\n",
    "                        'Roasted Chili Corn Salsa (Medium)',\n",
    "                        \"Roasted Chili Corn Salsa\",\n",
    "                        'Tomatillo-Green Chili Salsa (Medium)',\n",
    "                        'Tomatillo Green Chili (Medium)',\n",
    "                        'Tomatillo Green Chili Salsa',\n",
    "                        'Tomatillo Red Chili (Hot)',\n",
    "                        'Tomatillo Red Chili Salsa',\n",
    "                        'Tomatillo-Red Chili Salsa (Hot)',\n",
    "                        \"Sour Cream\",\n",
    "                        \"Salsa\",\n",
    "                        \"Fajita Veggies\",\n",
    "                        'Fajita Vegetables',\n",
    "                        'Fajita Veggie',\n",
    "                        \"Cheese\",\n",
    "                        \"Lettuce\"])\n",
    "\n",
    "# toppings list from https://order.chipotle.com/entree/burrito"
   ]
  },
  {
   "cell_type": "code",
   "execution_count": 65,
   "metadata": {},
   "outputs": [
    {
     "name": "stdout",
     "output_type": "stream",
     "text": [
      "The average number of toppings per burrito is 3.77\n"
     ]
    }
   ],
   "source": [
    "print(\"The average number of toppings per burrito is\", format(pd.Series([len(set_i & chipotle_toppings) for set_i in \n",
    "                                                              [get_choice_description_set(i) for i in \n",
    "                                                               chipotle_food_burritos.index.values.tolist()] ]).mean(),\".2f\"))"
   ]
  },
  {
   "cell_type": "markdown",
   "metadata": {},
   "source": [
    "### Part 6: Create a dictionary. Let the keys represent chip orders and the values represent the total number of orders.\n",
    "\n",
    "Expected output: `{'Chips and Roasted Chili-Corn Salsa': 18, ... }`\n",
    "\n",
    "Note: Please take the `quantity` column into account!\n",
    "\n",
    "Optional: Learn how to use `.defaultdict()` to simplify your code."
   ]
  },
  {
   "cell_type": "code",
   "execution_count": 66,
   "metadata": {},
   "outputs": [
    {
     "name": "stderr",
     "output_type": "stream",
     "text": [
      "/anaconda3/lib/python3.7/site-packages/ipykernel_launcher.py:6: SettingWithCopyWarning: \n",
      "A value is trying to be set on a copy of a slice from a DataFrame.\n",
      "Try using .loc[row_indexer,col_indexer] = value instead\n",
      "\n",
      "See the caveats in the documentation: http://pandas.pydata.org/pandas-docs/stable/indexing.html#indexing-view-versus-copy\n",
      "  \n"
     ]
    }
   ],
   "source": [
    "def chip_finder(row):\n",
    "    if \"Chips\" in row[\"item_name\"]:\n",
    "        return True\n",
    "    else:\n",
    "        return False    \n",
    "chipotle_food[\"chip_order\"] = chipotle_food.apply(chip_finder, axis = 1)"
   ]
  },
  {
   "cell_type": "code",
   "execution_count": 67,
   "metadata": {},
   "outputs": [],
   "source": [
    "chipotle_food_chips = chipotle_food[chipotle_food.chip_order == True]"
   ]
  },
  {
   "cell_type": "code",
   "execution_count": 68,
   "metadata": {},
   "outputs": [
    {
     "data": {
      "text/html": [
       "<div>\n",
       "<style scoped>\n",
       "    .dataframe tbody tr th:only-of-type {\n",
       "        vertical-align: middle;\n",
       "    }\n",
       "\n",
       "    .dataframe tbody tr th {\n",
       "        vertical-align: top;\n",
       "    }\n",
       "\n",
       "    .dataframe thead th {\n",
       "        text-align: right;\n",
       "    }\n",
       "</style>\n",
       "<table border=\"1\" class=\"dataframe\">\n",
       "  <thead>\n",
       "    <tr style=\"text-align: right;\">\n",
       "      <th></th>\n",
       "      <th>order_id</th>\n",
       "      <th>quantity</th>\n",
       "      <th>item_name</th>\n",
       "      <th>choice_description</th>\n",
       "      <th>item_price</th>\n",
       "      <th>drink_order</th>\n",
       "      <th>filling_type</th>\n",
       "      <th>meal_type</th>\n",
       "      <th>burrito</th>\n",
       "      <th>chip_order</th>\n",
       "    </tr>\n",
       "  </thead>\n",
       "  <tbody>\n",
       "    <tr>\n",
       "      <th>0</th>\n",
       "      <td>1</td>\n",
       "      <td>1</td>\n",
       "      <td>Chips and Fresh Tomato Salsa</td>\n",
       "      <td>NULL</td>\n",
       "      <td>2.39</td>\n",
       "      <td>False</td>\n",
       "      <td>None</td>\n",
       "      <td>Chips</td>\n",
       "      <td>False</td>\n",
       "      <td>True</td>\n",
       "    </tr>\n",
       "    <tr>\n",
       "      <th>3</th>\n",
       "      <td>1</td>\n",
       "      <td>1</td>\n",
       "      <td>Chips and Tomatillo-Green Chili Salsa</td>\n",
       "      <td>NULL</td>\n",
       "      <td>2.39</td>\n",
       "      <td>False</td>\n",
       "      <td>None</td>\n",
       "      <td>Chips</td>\n",
       "      <td>False</td>\n",
       "      <td>True</td>\n",
       "    </tr>\n",
       "    <tr>\n",
       "      <th>6</th>\n",
       "      <td>3</td>\n",
       "      <td>1</td>\n",
       "      <td>Side of Chips</td>\n",
       "      <td>NULL</td>\n",
       "      <td>1.69</td>\n",
       "      <td>False</td>\n",
       "      <td>None</td>\n",
       "      <td>Chips</td>\n",
       "      <td>False</td>\n",
       "      <td>True</td>\n",
       "    </tr>\n",
       "    <tr>\n",
       "      <th>10</th>\n",
       "      <td>5</td>\n",
       "      <td>1</td>\n",
       "      <td>Chips and Guacamole</td>\n",
       "      <td>NULL</td>\n",
       "      <td>4.45</td>\n",
       "      <td>False</td>\n",
       "      <td>None</td>\n",
       "      <td>Chips</td>\n",
       "      <td>False</td>\n",
       "      <td>True</td>\n",
       "    </tr>\n",
       "    <tr>\n",
       "      <th>14</th>\n",
       "      <td>7</td>\n",
       "      <td>1</td>\n",
       "      <td>Chips and Guacamole</td>\n",
       "      <td>NULL</td>\n",
       "      <td>4.45</td>\n",
       "      <td>False</td>\n",
       "      <td>None</td>\n",
       "      <td>Chips</td>\n",
       "      <td>False</td>\n",
       "      <td>True</td>\n",
       "    </tr>\n",
       "    <tr>\n",
       "      <th>15</th>\n",
       "      <td>8</td>\n",
       "      <td>1</td>\n",
       "      <td>Chips and Tomatillo-Green Chili Salsa</td>\n",
       "      <td>NULL</td>\n",
       "      <td>2.39</td>\n",
       "      <td>False</td>\n",
       "      <td>None</td>\n",
       "      <td>Chips</td>\n",
       "      <td>False</td>\n",
       "      <td>True</td>\n",
       "    </tr>\n",
       "    <tr>\n",
       "      <th>20</th>\n",
       "      <td>10</td>\n",
       "      <td>1</td>\n",
       "      <td>Chips and Guacamole</td>\n",
       "      <td>NULL</td>\n",
       "      <td>4.45</td>\n",
       "      <td>False</td>\n",
       "      <td>None</td>\n",
       "      <td>Chips</td>\n",
       "      <td>False</td>\n",
       "      <td>True</td>\n",
       "    </tr>\n",
       "    <tr>\n",
       "      <th>25</th>\n",
       "      <td>13</td>\n",
       "      <td>1</td>\n",
       "      <td>Chips and Fresh Tomato Salsa</td>\n",
       "      <td>NULL</td>\n",
       "      <td>2.39</td>\n",
       "      <td>False</td>\n",
       "      <td>None</td>\n",
       "      <td>Chips</td>\n",
       "      <td>False</td>\n",
       "      <td>True</td>\n",
       "    </tr>\n",
       "    <tr>\n",
       "      <th>30</th>\n",
       "      <td>15</td>\n",
       "      <td>1</td>\n",
       "      <td>Chips and Tomatillo-Green Chili Salsa</td>\n",
       "      <td>NULL</td>\n",
       "      <td>2.39</td>\n",
       "      <td>False</td>\n",
       "      <td>None</td>\n",
       "      <td>Chips</td>\n",
       "      <td>False</td>\n",
       "      <td>True</td>\n",
       "    </tr>\n",
       "    <tr>\n",
       "      <th>32</th>\n",
       "      <td>16</td>\n",
       "      <td>1</td>\n",
       "      <td>Side of Chips</td>\n",
       "      <td>NULL</td>\n",
       "      <td>1.69</td>\n",
       "      <td>False</td>\n",
       "      <td>None</td>\n",
       "      <td>Chips</td>\n",
       "      <td>False</td>\n",
       "      <td>True</td>\n",
       "    </tr>\n",
       "  </tbody>\n",
       "</table>\n",
       "</div>"
      ],
      "text/plain": [
       "    order_id  quantity                              item_name  \\\n",
       "0          1         1           Chips and Fresh Tomato Salsa   \n",
       "3          1         1  Chips and Tomatillo-Green Chili Salsa   \n",
       "6          3         1                          Side of Chips   \n",
       "10         5         1                    Chips and Guacamole   \n",
       "14         7         1                    Chips and Guacamole   \n",
       "15         8         1  Chips and Tomatillo-Green Chili Salsa   \n",
       "20        10         1                    Chips and Guacamole   \n",
       "25        13         1           Chips and Fresh Tomato Salsa   \n",
       "30        15         1  Chips and Tomatillo-Green Chili Salsa   \n",
       "32        16         1                          Side of Chips   \n",
       "\n",
       "   choice_description  item_price  drink_order filling_type meal_type  \\\n",
       "0                NULL        2.39        False         None     Chips   \n",
       "3                NULL        2.39        False         None     Chips   \n",
       "6                NULL        1.69        False         None     Chips   \n",
       "10               NULL        4.45        False         None     Chips   \n",
       "14               NULL        4.45        False         None     Chips   \n",
       "15               NULL        2.39        False         None     Chips   \n",
       "20               NULL        4.45        False         None     Chips   \n",
       "25               NULL        2.39        False         None     Chips   \n",
       "30               NULL        2.39        False         None     Chips   \n",
       "32               NULL        1.69        False         None     Chips   \n",
       "\n",
       "    burrito  chip_order  \n",
       "0     False        True  \n",
       "3     False        True  \n",
       "6     False        True  \n",
       "10    False        True  \n",
       "14    False        True  \n",
       "15    False        True  \n",
       "20    False        True  \n",
       "25    False        True  \n",
       "30    False        True  \n",
       "32    False        True  "
      ]
     },
     "execution_count": 68,
     "metadata": {},
     "output_type": "execute_result"
    }
   ],
   "source": [
    "chipotle_food_chips.head(10)"
   ]
  },
  {
   "cell_type": "code",
   "execution_count": 69,
   "metadata": {},
   "outputs": [],
   "source": [
    "chips_dict = {}\n",
    "\n",
    "for i in chipotle_food_chips.index.values.tolist():\n",
    "    if chipotle_food_chips[\"item_name\"][i] not in chips_dict.keys() and chipotle_food_chips[\"quantity\"][i] == 1:\n",
    "        chips_dict[chipotle_food_chips[\"item_name\"][i]] = 1\n",
    "    else:\n",
    "        chips_dict[chipotle_food_chips[\"item_name\"][i]] += chipotle_food_chips[\"quantity\"][i]\n",
    "\n",
    "chips_dict['Chips and Tomatillo Green Chili Salsa'] += chips_dict['Chips and Tomatillo-Green Chili Salsa']\n",
    "del chips_dict['Chips and Tomatillo-Green Chili Salsa']\n",
    "\n",
    "chips_dict['Chips and Tomatillo Red Chili Salsa'] += chips_dict['Chips and Tomatillo-Red Chili Salsa']\n",
    "del chips_dict['Chips and Tomatillo-Red Chili Salsa']\n",
    "\n",
    "chips_dict['Chips and Roasted Chili Corn Salsa'] += chips_dict['Chips and Roasted Chili-Corn Salsa']\n",
    "del chips_dict['Chips and Roasted Chili-Corn Salsa']"
   ]
  },
  {
   "cell_type": "code",
   "execution_count": 70,
   "metadata": {},
   "outputs": [
    {
     "data": {
      "text/plain": [
       "{'Chips and Fresh Tomato Salsa': 130,\n",
       " 'Side of Chips': 110,\n",
       " 'Chips and Guacamole': 506,\n",
       " 'Chips and Tomatillo Green Chili Salsa': 78,\n",
       " 'Chips': 230,\n",
       " 'Chips and Tomatillo Red Chili Salsa': 75,\n",
       " 'Chips and Roasted Chili Corn Salsa': 41,\n",
       " 'Chips and Mild Fresh Tomato Salsa': 1}"
      ]
     },
     "execution_count": 70,
     "metadata": {},
     "output_type": "execute_result"
    }
   ],
   "source": [
    "chips_dict"
   ]
  },
  {
   "cell_type": "markdown",
   "metadata": {},
   "source": [
    "## Chips and guacamole are by far the most popular chip order"
   ]
  },
  {
   "cell_type": "code",
   "execution_count": 71,
   "metadata": {},
   "outputs": [
    {
     "data": {
      "image/png": "[encoded data removed]",
      "text/plain": [
       "<Figure size 560x480 with 1 Axes>"
      ]
     },
     "metadata": {},
     "output_type": "display_data"
    }
   ],
   "source": [
    "import numpy as np\n",
    "\n",
    "plt.figure(num=None, figsize=(7,6), dpi=80, facecolor='w', edgecolor='k')\n",
    "plt.bar(range(len(chips_dict.keys())), np.divide(list(chips_dict.values()), sum(chips_dict.values())))\n",
    "plt.xticks(range(len(chips_dict.values())), chips_dict.keys(), rotation=90)\n",
    "plt.title(\"Frequency of Various Chip Orders\")\n",
    "plt.show()"
   ]
  },
  {
   "cell_type": "markdown",
   "metadata": {},
   "source": [
    "# Thank you! "
   ]
  }
 ],
 "metadata": {
  "anaconda-cloud": {},
  "kernelspec": {
   "display_name": "Python 3",
   "language": "python",
   "name": "python3"
  },
  "language_info": {
   "codemirror_mode": {
    "name": "ipython",
    "version": 3
   },
   "file_extension": ".py",
   "mimetype": "text/x-python",
   "name": "python",
   "nbconvert_exporter": "python",
   "pygments_lexer": "ipython3",
   "version": "3.7.2"
  }
 },
 "nbformat": 4,
 "nbformat_minor": 2
}
