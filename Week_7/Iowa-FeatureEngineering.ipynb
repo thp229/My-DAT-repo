{
 "cells": [
  {
   "cell_type": "code",
   "execution_count": 1,
   "metadata": {},
   "outputs": [],
   "source": [
    "import numpy as np\n",
    "import pandas as pd"
   ]
  },
  {
   "cell_type": "code",
   "execution_count": 2,
   "metadata": {},
   "outputs": [],
   "source": [
    "path = \"/Users/theodoreplotkin/desktop/postmalone/GA_Data_Science/iowa_train.csv\""
   ]
  },
  {
   "cell_type": "code",
   "execution_count": 3,
   "metadata": {},
   "outputs": [],
   "source": [
    "train = pd.read_csv(path)"
   ]
  },
  {
   "cell_type": "code",
   "execution_count": 4,
   "metadata": {},
   "outputs": [],
   "source": [
    "path = \"/Users/theodoreplotkin/desktop/postmalone/GA_Data_Science/iowa_test.csv\"\n",
    "test = pd.read_csv(path)"
   ]
  },
  {
   "cell_type": "code",
   "execution_count": 5,
   "metadata": {},
   "outputs": [
    {
     "data": {
      "text/plain": [
       "(1458, 70)"
      ]
     },
     "execution_count": 5,
     "metadata": {},
     "output_type": "execute_result"
    }
   ],
   "source": [
    "train.shape"
   ]
  },
  {
   "cell_type": "code",
   "execution_count": 10,
   "metadata": {},
   "outputs": [
    {
     "data": {
      "text/plain": [
       "(1459, 68)"
      ]
     },
     "execution_count": 10,
     "metadata": {},
     "output_type": "execute_result"
    }
   ],
   "source": [
    "test.shape"
   ]
  },
  {
   "cell_type": "code",
   "execution_count": 11,
   "metadata": {},
   "outputs": [],
   "source": [
    "discrete_ordered = [\"ExteriorQuality\",\n",
    "\"ExteriorCondition\",\n",
    "\"BasementQuality\",\n",
    "\"BasementCondition\",\n",
    "\"BasementExposure\",\n",
    "\"HeatingQuality\",\n",
    "\"KitchenQuality\",\n",
    "\"FireplaceCount\",\n",
    "\"GarageRemodel\",\n",
    "\"GarageQuality\",\n",
    "\"GarageCondition\",\n",
    "\"OverallQual\",\n",
    "\"OverallCond\",\n",
    "\"Condition1\"]\n"
   ]
  },
  {
   "cell_type": "code",
   "execution_count": 12,
   "metadata": {},
   "outputs": [
    {
     "data": {
      "text/plain": [
       "Index(['MSSubClass', 'MSZoning', 'LandContour', 'LotConfig', 'LandSlope',\n",
       "       'Neighborhood', 'Condition1', 'BldgType', 'HouseStyle', 'OverallQual',\n",
       "       'OverallCond', 'YearBuilt', 'YearRemodAdd', 'RoofStyle', 'RoofMatl',\n",
       "       'Exterior1st', 'Foundation', 'BsmtFinType1', 'TotalBsmtSF', 'Heating',\n",
       "       'CentralAir', 'Electrical', 'BsmtFullBath', 'FullBath', 'HalfBath',\n",
       "       'BedroomAbvGr', 'TotRmsAbvGrd', 'Fireplaces', 'GarageType',\n",
       "       'GarageYrBlt', 'GarageCars', 'GarageArea', 'PavedDrive', 'Fence',\n",
       "       'MoSold', 'YrSold', 'SaleType', 'SaleCondition', 'SalePrice',\n",
       "       'SalePrice_ln', 'BasementQuality', 'BasementCondition',\n",
       "       'BasementExposure', 'KitchenQuality', 'HeatingQuality',\n",
       "       'ExteriorQuality', 'ExteriorCondition', 'FireplaceCount',\n",
       "       'GarageRemodel', 'GarageQuality', 'GarageCondition', 'ScreenPorch_ln',\n",
       "       'LotFrontage_ln', 'KitchenAbvGr_ln', 'BsmtFinSF1_ln', 'WoodDeckSF_ln',\n",
       "       '1stFlrSF_ln', 'BsmtFinSF2_ln', 'BsmtUnfSF_ln', 'BsmtHalfBath_ln',\n",
       "       'MiscVal_ln', 'EnclosedPorch_ln', 'LotArea_ln', 'OpenPorchSF_ln',\n",
       "       '2ndFlrSF_ln', 'GrLivArea_ln', 'LowQualFinSF_ln', 'PoolArea_ln',\n",
       "       'MasVnrArea_ln', '3SsnPorch_ln'],\n",
       "      dtype='object')"
      ]
     },
     "execution_count": 12,
     "metadata": {},
     "output_type": "execute_result"
    }
   ],
   "source": [
    "train.columns"
   ]
  },
  {
   "cell_type": "code",
   "execution_count": 13,
   "metadata": {},
   "outputs": [
    {
     "data": {
      "text/plain": [
       "(1458, 70)"
      ]
     },
     "execution_count": 13,
     "metadata": {},
     "output_type": "execute_result"
    }
   ],
   "source": [
    "train.shape"
   ]
  },
  {
   "cell_type": "code",
   "execution_count": 14,
   "metadata": {},
   "outputs": [
    {
     "data": {
      "text/plain": [
       "(1459, 68)"
      ]
     },
     "execution_count": 14,
     "metadata": {},
     "output_type": "execute_result"
    }
   ],
   "source": [
    "test.shape"
   ]
  },
  {
   "cell_type": "code",
   "execution_count": 18,
   "metadata": {},
   "outputs": [],
   "source": [
    "#set(train.columns) - set(test.columns)"
   ]
  },
  {
   "cell_type": "markdown",
   "metadata": {},
   "source": [
    "# standardize the data"
   ]
  },
  {
   "cell_type": "code",
   "execution_count": 40,
   "metadata": {},
   "outputs": [],
   "source": [
    "num_cols = train.select_dtypes(include=np.number).columns.tolist()"
   ]
  },
  {
   "cell_type": "code",
   "execution_count": 41,
   "metadata": {},
   "outputs": [],
   "source": [
    "num_cols = list((set(num_cols) - set([\"SalePrice\",\"SalePrice_ln\"])))"
   ]
  },
  {
   "cell_type": "code",
   "execution_count": 36,
   "metadata": {},
   "outputs": [
    {
     "data": {
      "text/plain": [
       "(1458, 48)"
      ]
     },
     "execution_count": 36,
     "metadata": {},
     "output_type": "execute_result"
    }
   ],
   "source": [
    "# # standardize data\n",
    "num_cols = train.select_dtypes(include=np.number).columns.tolist()\n",
    "train_std = (train[num_cols] - train[num_cols].mean()) / train[num_cols].std()\n",
    "train_std.shape"
   ]
  },
  {
   "cell_type": "code",
   "execution_count": 42,
   "metadata": {},
   "outputs": [],
   "source": [
    "if \"SalePrice\" in num_cols:\n",
    "    print(True)"
   ]
  },
  {
   "cell_type": "code",
   "execution_count": 43,
   "metadata": {},
   "outputs": [
    {
     "data": {
      "text/plain": [
       "set()"
      ]
     },
     "execution_count": 43,
     "metadata": {},
     "output_type": "execute_result"
    }
   ],
   "source": [
    "set(num_cols) - set(test.select_dtypes(include=np.number).columns.tolist())"
   ]
  },
  {
   "cell_type": "code",
   "execution_count": 47,
   "metadata": {},
   "outputs": [
    {
     "data": {
      "text/html": [
       "<div>\n",
       "<style scoped>\n",
       "    .dataframe tbody tr th:only-of-type {\n",
       "        vertical-align: middle;\n",
       "    }\n",
       "\n",
       "    .dataframe tbody tr th {\n",
       "        vertical-align: top;\n",
       "    }\n",
       "\n",
       "    .dataframe thead th {\n",
       "        text-align: right;\n",
       "    }\n",
       "</style>\n",
       "<table border=\"1\" class=\"dataframe\">\n",
       "  <thead>\n",
       "    <tr style=\"text-align: right;\">\n",
       "      <th></th>\n",
       "      <th>KitchenAbvGr_ln</th>\n",
       "      <th>GarageRemodel</th>\n",
       "      <th>BsmtHalfBath_ln</th>\n",
       "      <th>OverallQual</th>\n",
       "      <th>MoSold</th>\n",
       "      <th>OpenPorchSF_ln</th>\n",
       "      <th>3SsnPorch_ln</th>\n",
       "      <th>HeatingQuality</th>\n",
       "      <th>BasementCondition</th>\n",
       "      <th>BedroomAbvGr</th>\n",
       "      <th>...</th>\n",
       "      <th>GarageYrBlt</th>\n",
       "      <th>KitchenQuality</th>\n",
       "      <th>BsmtFinSF1_ln</th>\n",
       "      <th>LotArea_ln</th>\n",
       "      <th>LowQualFinSF_ln</th>\n",
       "      <th>BsmtFullBath</th>\n",
       "      <th>ExteriorQuality</th>\n",
       "      <th>2ndFlrSF_ln</th>\n",
       "      <th>PoolArea_ln</th>\n",
       "      <th>BasementQuality</th>\n",
       "    </tr>\n",
       "  </thead>\n",
       "  <tbody>\n",
       "    <tr>\n",
       "      <th>0</th>\n",
       "      <td>0.693147</td>\n",
       "      <td>1</td>\n",
       "      <td>0.0</td>\n",
       "      <td>5</td>\n",
       "      <td>6</td>\n",
       "      <td>0.000000</td>\n",
       "      <td>0.0</td>\n",
       "      <td>2</td>\n",
       "      <td>2</td>\n",
       "      <td>2</td>\n",
       "      <td>...</td>\n",
       "      <td>1961.0</td>\n",
       "      <td>1.0</td>\n",
       "      <td>6.150603</td>\n",
       "      <td>9.360741</td>\n",
       "      <td>0.0</td>\n",
       "      <td>0.0</td>\n",
       "      <td>1</td>\n",
       "      <td>0.000000</td>\n",
       "      <td>0.0</td>\n",
       "      <td>2</td>\n",
       "    </tr>\n",
       "    <tr>\n",
       "      <th>1</th>\n",
       "      <td>0.693147</td>\n",
       "      <td>1</td>\n",
       "      <td>0.0</td>\n",
       "      <td>6</td>\n",
       "      <td>6</td>\n",
       "      <td>3.610918</td>\n",
       "      <td>0.0</td>\n",
       "      <td>2</td>\n",
       "      <td>2</td>\n",
       "      <td>3</td>\n",
       "      <td>...</td>\n",
       "      <td>1958.0</td>\n",
       "      <td>2.0</td>\n",
       "      <td>6.828712</td>\n",
       "      <td>9.565775</td>\n",
       "      <td>0.0</td>\n",
       "      <td>0.0</td>\n",
       "      <td>1</td>\n",
       "      <td>0.000000</td>\n",
       "      <td>0.0</td>\n",
       "      <td>2</td>\n",
       "    </tr>\n",
       "    <tr>\n",
       "      <th>2</th>\n",
       "      <td>0.693147</td>\n",
       "      <td>2</td>\n",
       "      <td>0.0</td>\n",
       "      <td>5</td>\n",
       "      <td>3</td>\n",
       "      <td>3.555348</td>\n",
       "      <td>0.0</td>\n",
       "      <td>3</td>\n",
       "      <td>2</td>\n",
       "      <td>3</td>\n",
       "      <td>...</td>\n",
       "      <td>1997.0</td>\n",
       "      <td>1.0</td>\n",
       "      <td>6.674561</td>\n",
       "      <td>9.534668</td>\n",
       "      <td>0.0</td>\n",
       "      <td>0.0</td>\n",
       "      <td>1</td>\n",
       "      <td>6.553933</td>\n",
       "      <td>0.0</td>\n",
       "      <td>3</td>\n",
       "    </tr>\n",
       "    <tr>\n",
       "      <th>3</th>\n",
       "      <td>0.693147</td>\n",
       "      <td>2</td>\n",
       "      <td>0.0</td>\n",
       "      <td>6</td>\n",
       "      <td>6</td>\n",
       "      <td>3.610918</td>\n",
       "      <td>0.0</td>\n",
       "      <td>4</td>\n",
       "      <td>2</td>\n",
       "      <td>3</td>\n",
       "      <td>...</td>\n",
       "      <td>1998.0</td>\n",
       "      <td>2.0</td>\n",
       "      <td>6.401917</td>\n",
       "      <td>9.208238</td>\n",
       "      <td>0.0</td>\n",
       "      <td>0.0</td>\n",
       "      <td>1</td>\n",
       "      <td>6.520621</td>\n",
       "      <td>0.0</td>\n",
       "      <td>2</td>\n",
       "    </tr>\n",
       "    <tr>\n",
       "      <th>4</th>\n",
       "      <td>0.693147</td>\n",
       "      <td>2</td>\n",
       "      <td>0.0</td>\n",
       "      <td>8</td>\n",
       "      <td>1</td>\n",
       "      <td>4.418841</td>\n",
       "      <td>0.0</td>\n",
       "      <td>4</td>\n",
       "      <td>2</td>\n",
       "      <td>2</td>\n",
       "      <td>...</td>\n",
       "      <td>1992.0</td>\n",
       "      <td>2.0</td>\n",
       "      <td>5.575949</td>\n",
       "      <td>8.518392</td>\n",
       "      <td>0.0</td>\n",
       "      <td>0.0</td>\n",
       "      <td>2</td>\n",
       "      <td>0.000000</td>\n",
       "      <td>0.0</td>\n",
       "      <td>3</td>\n",
       "    </tr>\n",
       "  </tbody>\n",
       "</table>\n",
       "<p>5 rows × 46 columns</p>\n",
       "</div>"
      ],
      "text/plain": [
       "   KitchenAbvGr_ln  GarageRemodel  BsmtHalfBath_ln  OverallQual  MoSold  \\\n",
       "0         0.693147              1              0.0            5       6   \n",
       "1         0.693147              1              0.0            6       6   \n",
       "2         0.693147              2              0.0            5       3   \n",
       "3         0.693147              2              0.0            6       6   \n",
       "4         0.693147              2              0.0            8       1   \n",
       "\n",
       "   OpenPorchSF_ln  3SsnPorch_ln  HeatingQuality  BasementCondition  \\\n",
       "0        0.000000           0.0               2                  2   \n",
       "1        3.610918           0.0               2                  2   \n",
       "2        3.555348           0.0               3                  2   \n",
       "3        3.610918           0.0               4                  2   \n",
       "4        4.418841           0.0               4                  2   \n",
       "\n",
       "   BedroomAbvGr       ...         GarageYrBlt  KitchenQuality  BsmtFinSF1_ln  \\\n",
       "0             2       ...              1961.0             1.0       6.150603   \n",
       "1             3       ...              1958.0             2.0       6.828712   \n",
       "2             3       ...              1997.0             1.0       6.674561   \n",
       "3             3       ...              1998.0             2.0       6.401917   \n",
       "4             2       ...              1992.0             2.0       5.575949   \n",
       "\n",
       "   LotArea_ln  LowQualFinSF_ln  BsmtFullBath  ExteriorQuality  2ndFlrSF_ln  \\\n",
       "0    9.360741              0.0           0.0                1     0.000000   \n",
       "1    9.565775              0.0           0.0                1     0.000000   \n",
       "2    9.534668              0.0           0.0                1     6.553933   \n",
       "3    9.208238              0.0           0.0                1     6.520621   \n",
       "4    8.518392              0.0           0.0                2     0.000000   \n",
       "\n",
       "   PoolArea_ln  BasementQuality  \n",
       "0          0.0                2  \n",
       "1          0.0                2  \n",
       "2          0.0                3  \n",
       "3          0.0                2  \n",
       "4          0.0                3  \n",
       "\n",
       "[5 rows x 46 columns]"
      ]
     },
     "execution_count": 47,
     "metadata": {},
     "output_type": "execute_result"
    }
   ],
   "source": [
    "test[num_cols].head()"
   ]
  },
  {
   "cell_type": "code",
   "execution_count": 46,
   "metadata": {},
   "outputs": [
    {
     "data": {
      "text/plain": [
       "(1459, 46)"
      ]
     },
     "execution_count": 46,
     "metadata": {},
     "output_type": "execute_result"
    }
   ],
   "source": [
    "#num_cols1 = test.select_dtypes(include=np.number).columns.tolist()\n",
    "test_std = (test[num_cols] - train[num_cols].mean()) / train[num_cols].std()\n",
    "test_std.shape"
   ]
  },
  {
   "cell_type": "code",
   "execution_count": 48,
   "metadata": {},
   "outputs": [],
   "source": [
    "train_std = pd.get_dummies(train, drop_first=True)\n",
    "test_std = pd.get_dummies(test, drop_first=True)"
   ]
  },
  {
   "cell_type": "code",
   "execution_count": 51,
   "metadata": {},
   "outputs": [],
   "source": [
    "#test_std.shape"
   ]
  },
  {
   "cell_type": "code",
   "execution_count": null,
   "metadata": {},
   "outputs": [],
   "source": []
  }
 ],
 "metadata": {
  "kernelspec": {
   "display_name": "Python 3",
   "language": "python",
   "name": "python3"
  },
  "language_info": {
   "codemirror_mode": {
    "name": "ipython",
    "version": 3
   },
   "file_extension": ".py",
   "mimetype": "text/x-python",
   "name": "python",
   "nbconvert_exporter": "python",
   "pygments_lexer": "ipython3",
   "version": "3.7.2"
  }
 },
 "nbformat": 4,
 "nbformat_minor": 2
}
