{
 "cells": [
  {
   "cell_type": "code",
   "execution_count": 992,
   "metadata": {},
   "outputs": [],
   "source": [
    "import numpy as np\n",
    "import pandas as pd\n",
    "import matplotlib.pyplot as plt"
   ]
  },
  {
   "cell_type": "code",
   "execution_count": 993,
   "metadata": {},
   "outputs": [],
   "source": [
    "train_path = \"/Users/theodoreplotkin/desktop/postmalone/GA_Data_Science/DAT-06-24/class material/Unit 3/data/iowa_housing/train.csv\""
   ]
  },
  {
   "cell_type": "code",
   "execution_count": 994,
   "metadata": {},
   "outputs": [],
   "source": [
    "test_path = \"/Users/theodoreplotkin/desktop/postmalone/GA_Data_Science/DAT-06-24/class material/Unit 3/data/iowa_housing/test.csv\""
   ]
  },
  {
   "cell_type": "code",
   "execution_count": 995,
   "metadata": {},
   "outputs": [],
   "source": [
    "train = pd.read_csv(train_path)"
   ]
  },
  {
   "cell_type": "code",
   "execution_count": 996,
   "metadata": {},
   "outputs": [],
   "source": [
    "test = pd.read_csv(test_path)"
   ]
  },
  {
   "cell_type": "code",
   "execution_count": 997,
   "metadata": {},
   "outputs": [],
   "source": [
    "# usecols = [1, 17, 18, 19, 43, 44, 46, 49, 50, 70, 77, 80]"
   ]
  },
  {
   "cell_type": "code",
   "execution_count": 998,
   "metadata": {},
   "outputs": [
    {
     "data": {
      "text/html": [
       "<div>\n",
       "<style scoped>\n",
       "    .dataframe tbody tr th:only-of-type {\n",
       "        vertical-align: middle;\n",
       "    }\n",
       "\n",
       "    .dataframe tbody tr th {\n",
       "        vertical-align: top;\n",
       "    }\n",
       "\n",
       "    .dataframe thead th {\n",
       "        text-align: right;\n",
       "    }\n",
       "</style>\n",
       "<table border=\"1\" class=\"dataframe\">\n",
       "  <thead>\n",
       "    <tr style=\"text-align: right;\">\n",
       "      <th></th>\n",
       "      <th>Id</th>\n",
       "      <th>MSSubClass</th>\n",
       "      <th>MSZoning</th>\n",
       "      <th>LotFrontage</th>\n",
       "      <th>LotArea</th>\n",
       "      <th>Street</th>\n",
       "      <th>Alley</th>\n",
       "      <th>LotShape</th>\n",
       "      <th>LandContour</th>\n",
       "      <th>Utilities</th>\n",
       "      <th>...</th>\n",
       "      <th>PoolArea</th>\n",
       "      <th>PoolQC</th>\n",
       "      <th>Fence</th>\n",
       "      <th>MiscFeature</th>\n",
       "      <th>MiscVal</th>\n",
       "      <th>MoSold</th>\n",
       "      <th>YrSold</th>\n",
       "      <th>SaleType</th>\n",
       "      <th>SaleCondition</th>\n",
       "      <th>SalePrice</th>\n",
       "    </tr>\n",
       "  </thead>\n",
       "  <tbody>\n",
       "    <tr>\n",
       "      <th>0</th>\n",
       "      <td>1</td>\n",
       "      <td>60</td>\n",
       "      <td>RL</td>\n",
       "      <td>65.0</td>\n",
       "      <td>8450</td>\n",
       "      <td>Pave</td>\n",
       "      <td>NaN</td>\n",
       "      <td>Reg</td>\n",
       "      <td>Lvl</td>\n",
       "      <td>AllPub</td>\n",
       "      <td>...</td>\n",
       "      <td>0</td>\n",
       "      <td>NaN</td>\n",
       "      <td>NaN</td>\n",
       "      <td>NaN</td>\n",
       "      <td>0</td>\n",
       "      <td>2</td>\n",
       "      <td>2008</td>\n",
       "      <td>WD</td>\n",
       "      <td>Normal</td>\n",
       "      <td>208500</td>\n",
       "    </tr>\n",
       "    <tr>\n",
       "      <th>1</th>\n",
       "      <td>2</td>\n",
       "      <td>20</td>\n",
       "      <td>RL</td>\n",
       "      <td>80.0</td>\n",
       "      <td>9600</td>\n",
       "      <td>Pave</td>\n",
       "      <td>NaN</td>\n",
       "      <td>Reg</td>\n",
       "      <td>Lvl</td>\n",
       "      <td>AllPub</td>\n",
       "      <td>...</td>\n",
       "      <td>0</td>\n",
       "      <td>NaN</td>\n",
       "      <td>NaN</td>\n",
       "      <td>NaN</td>\n",
       "      <td>0</td>\n",
       "      <td>5</td>\n",
       "      <td>2007</td>\n",
       "      <td>WD</td>\n",
       "      <td>Normal</td>\n",
       "      <td>181500</td>\n",
       "    </tr>\n",
       "    <tr>\n",
       "      <th>2</th>\n",
       "      <td>3</td>\n",
       "      <td>60</td>\n",
       "      <td>RL</td>\n",
       "      <td>68.0</td>\n",
       "      <td>11250</td>\n",
       "      <td>Pave</td>\n",
       "      <td>NaN</td>\n",
       "      <td>IR1</td>\n",
       "      <td>Lvl</td>\n",
       "      <td>AllPub</td>\n",
       "      <td>...</td>\n",
       "      <td>0</td>\n",
       "      <td>NaN</td>\n",
       "      <td>NaN</td>\n",
       "      <td>NaN</td>\n",
       "      <td>0</td>\n",
       "      <td>9</td>\n",
       "      <td>2008</td>\n",
       "      <td>WD</td>\n",
       "      <td>Normal</td>\n",
       "      <td>223500</td>\n",
       "    </tr>\n",
       "    <tr>\n",
       "      <th>3</th>\n",
       "      <td>4</td>\n",
       "      <td>70</td>\n",
       "      <td>RL</td>\n",
       "      <td>60.0</td>\n",
       "      <td>9550</td>\n",
       "      <td>Pave</td>\n",
       "      <td>NaN</td>\n",
       "      <td>IR1</td>\n",
       "      <td>Lvl</td>\n",
       "      <td>AllPub</td>\n",
       "      <td>...</td>\n",
       "      <td>0</td>\n",
       "      <td>NaN</td>\n",
       "      <td>NaN</td>\n",
       "      <td>NaN</td>\n",
       "      <td>0</td>\n",
       "      <td>2</td>\n",
       "      <td>2006</td>\n",
       "      <td>WD</td>\n",
       "      <td>Abnorml</td>\n",
       "      <td>140000</td>\n",
       "    </tr>\n",
       "    <tr>\n",
       "      <th>4</th>\n",
       "      <td>5</td>\n",
       "      <td>60</td>\n",
       "      <td>RL</td>\n",
       "      <td>84.0</td>\n",
       "      <td>14260</td>\n",
       "      <td>Pave</td>\n",
       "      <td>NaN</td>\n",
       "      <td>IR1</td>\n",
       "      <td>Lvl</td>\n",
       "      <td>AllPub</td>\n",
       "      <td>...</td>\n",
       "      <td>0</td>\n",
       "      <td>NaN</td>\n",
       "      <td>NaN</td>\n",
       "      <td>NaN</td>\n",
       "      <td>0</td>\n",
       "      <td>12</td>\n",
       "      <td>2008</td>\n",
       "      <td>WD</td>\n",
       "      <td>Normal</td>\n",
       "      <td>250000</td>\n",
       "    </tr>\n",
       "  </tbody>\n",
       "</table>\n",
       "<p>5 rows × 81 columns</p>\n",
       "</div>"
      ],
      "text/plain": [
       "   Id  MSSubClass MSZoning  LotFrontage  LotArea Street Alley LotShape  \\\n",
       "0   1          60       RL         65.0     8450   Pave   NaN      Reg   \n",
       "1   2          20       RL         80.0     9600   Pave   NaN      Reg   \n",
       "2   3          60       RL         68.0    11250   Pave   NaN      IR1   \n",
       "3   4          70       RL         60.0     9550   Pave   NaN      IR1   \n",
       "4   5          60       RL         84.0    14260   Pave   NaN      IR1   \n",
       "\n",
       "  LandContour Utilities    ...     PoolArea PoolQC Fence MiscFeature MiscVal  \\\n",
       "0         Lvl    AllPub    ...            0    NaN   NaN         NaN       0   \n",
       "1         Lvl    AllPub    ...            0    NaN   NaN         NaN       0   \n",
       "2         Lvl    AllPub    ...            0    NaN   NaN         NaN       0   \n",
       "3         Lvl    AllPub    ...            0    NaN   NaN         NaN       0   \n",
       "4         Lvl    AllPub    ...            0    NaN   NaN         NaN       0   \n",
       "\n",
       "  MoSold YrSold  SaleType  SaleCondition  SalePrice  \n",
       "0      2   2008        WD         Normal     208500  \n",
       "1      5   2007        WD         Normal     181500  \n",
       "2      9   2008        WD         Normal     223500  \n",
       "3      2   2006        WD        Abnorml     140000  \n",
       "4     12   2008        WD         Normal     250000  \n",
       "\n",
       "[5 rows x 81 columns]"
      ]
     },
     "execution_count": 998,
     "metadata": {},
     "output_type": "execute_result"
    }
   ],
   "source": [
    "train.head()"
   ]
  },
  {
   "cell_type": "code",
   "execution_count": 999,
   "metadata": {},
   "outputs": [
    {
     "name": "stdout",
     "output_type": "stream",
     "text": [
      "0\n"
     ]
    }
   ],
   "source": [
    "print(train[\"Id\"].isnull().sum())"
   ]
  },
  {
   "cell_type": "code",
   "execution_count": 1000,
   "metadata": {},
   "outputs": [
    {
     "name": "stdout",
     "output_type": "stream",
     "text": [
      "['LotFrontage', 'Alley', 'MasVnrType', 'MasVnrArea', 'BsmtQual', 'BsmtCond', 'BsmtExposure', 'BsmtFinType1', 'BsmtFinType2', 'Electrical', 'FireplaceQu', 'GarageType', 'GarageYrBlt', 'GarageFinish', 'GarageQual', 'GarageCond', 'PoolQC', 'Fence', 'MiscFeature']\n"
     ]
    }
   ],
   "source": [
    "items_dict = {}\n",
    "# for items in train.columns:\n",
    "#     print()\n",
    "#     print(\"-\"+items)\n",
    "#     print(train[str(items)].isnull().sum())\n",
    "\n",
    "for items in train.columns:\n",
    "    items_dict[str(items)] = train[str(items)].isnull().sum()\n",
    "#print(items_dict)\n",
    "\n",
    "null_features = []\n",
    "for k,v in items_dict.items():\n",
    "    if v > 0:\n",
    "        null_features.append(k)\n",
    "print(null_features)\n",
    "\n",
    "#'LotFrontage'\n",
    "#'BsmtQual'\n"
   ]
  },
  {
   "cell_type": "code",
   "execution_count": 1001,
   "metadata": {},
   "outputs": [
    {
     "data": {
      "text/plain": [
       "19"
      ]
     },
     "execution_count": 1001,
     "metadata": {},
     "output_type": "execute_result"
    }
   ],
   "source": [
    "len(null_features)"
   ]
  },
  {
   "cell_type": "code",
   "execution_count": 1002,
   "metadata": {},
   "outputs": [
    {
     "data": {
      "text/plain": [
       "{'1.5Fin', '1.5Unf', '1Story', '2.5Fin', '2.5Unf', '2Story', 'SFoyer', 'SLvl'}"
      ]
     },
     "execution_count": 1002,
     "metadata": {},
     "output_type": "execute_result"
    }
   ],
   "source": [
    "set(train[\"HouseStyle\"])"
   ]
  },
  {
   "cell_type": "code",
   "execution_count": 1003,
   "metadata": {},
   "outputs": [
    {
     "data": {
      "text/plain": [
       "{'Ex', 'Fa', 'Gd', 'TA', nan}"
      ]
     },
     "execution_count": 1003,
     "metadata": {},
     "output_type": "execute_result"
    }
   ],
   "source": [
    "set(train[\"BsmtQual\"])"
   ]
  },
  {
   "cell_type": "code",
   "execution_count": 1004,
   "metadata": {},
   "outputs": [
    {
     "data": {
      "text/plain": [
       "{'Fa', 'Gd', 'Po', 'TA', nan}"
      ]
     },
     "execution_count": 1004,
     "metadata": {},
     "output_type": "execute_result"
    }
   ],
   "source": [
    "set(train[\"BsmtCond\"])"
   ]
  },
  {
   "cell_type": "code",
   "execution_count": 1005,
   "metadata": {},
   "outputs": [
    {
     "data": {
      "text/plain": [
       "{'Ex', 'Fa', 'Gd', 'Po', 'TA', nan}"
      ]
     },
     "execution_count": 1005,
     "metadata": {},
     "output_type": "execute_result"
    }
   ],
   "source": [
    "set(train['GarageQual'])"
   ]
  },
  {
   "cell_type": "code",
   "execution_count": 1006,
   "metadata": {},
   "outputs": [
    {
     "data": {
      "text/plain": [
       "{1872,\n",
       " 1875,\n",
       " 1880,\n",
       " 1882,\n",
       " 1885,\n",
       " 1890,\n",
       " 1892,\n",
       " 1893,\n",
       " 1898,\n",
       " 1900,\n",
       " 1904,\n",
       " 1905,\n",
       " 1906,\n",
       " 1908,\n",
       " 1910,\n",
       " 1911,\n",
       " 1912,\n",
       " 1913,\n",
       " 1914,\n",
       " 1915,\n",
       " 1916,\n",
       " 1917,\n",
       " 1918,\n",
       " 1919,\n",
       " 1920,\n",
       " 1921,\n",
       " 1922,\n",
       " 1923,\n",
       " 1924,\n",
       " 1925,\n",
       " 1926,\n",
       " 1927,\n",
       " 1928,\n",
       " 1929,\n",
       " 1930,\n",
       " 1931,\n",
       " 1932,\n",
       " 1934,\n",
       " 1935,\n",
       " 1936,\n",
       " 1937,\n",
       " 1938,\n",
       " 1939,\n",
       " 1940,\n",
       " 1941,\n",
       " 1942,\n",
       " 1945,\n",
       " 1946,\n",
       " 1947,\n",
       " 1948,\n",
       " 1949,\n",
       " 1950,\n",
       " 1951,\n",
       " 1952,\n",
       " 1953,\n",
       " 1954,\n",
       " 1955,\n",
       " 1956,\n",
       " 1957,\n",
       " 1958,\n",
       " 1959,\n",
       " 1960,\n",
       " 1961,\n",
       " 1962,\n",
       " 1963,\n",
       " 1964,\n",
       " 1965,\n",
       " 1966,\n",
       " 1967,\n",
       " 1968,\n",
       " 1969,\n",
       " 1970,\n",
       " 1971,\n",
       " 1972,\n",
       " 1973,\n",
       " 1974,\n",
       " 1975,\n",
       " 1976,\n",
       " 1977,\n",
       " 1978,\n",
       " 1979,\n",
       " 1980,\n",
       " 1981,\n",
       " 1982,\n",
       " 1983,\n",
       " 1984,\n",
       " 1985,\n",
       " 1986,\n",
       " 1987,\n",
       " 1988,\n",
       " 1989,\n",
       " 1990,\n",
       " 1991,\n",
       " 1992,\n",
       " 1993,\n",
       " 1994,\n",
       " 1995,\n",
       " 1996,\n",
       " 1997,\n",
       " 1998,\n",
       " 1999,\n",
       " 2000,\n",
       " 2001,\n",
       " 2002,\n",
       " 2003,\n",
       " 2004,\n",
       " 2005,\n",
       " 2006,\n",
       " 2007,\n",
       " 2008,\n",
       " 2009,\n",
       " 2010}"
      ]
     },
     "execution_count": 1006,
     "metadata": {},
     "output_type": "execute_result"
    }
   ],
   "source": [
    "set(train[\"YearBuilt\"])"
   ]
  },
  {
   "cell_type": "code",
   "execution_count": 1007,
   "metadata": {},
   "outputs": [],
   "source": [
    "train[\"SalePrice_ln\"] = np.log(train[\"SalePrice\"])"
   ]
  },
  {
   "cell_type": "code",
   "execution_count": 1008,
   "metadata": {},
   "outputs": [
    {
     "data": {
      "image/png": "[encoded data removed]",
      "text/plain": [
       "<Figure size 432x288 with 1 Axes>"
      ]
     },
     "metadata": {
      "needs_background": "light"
     },
     "output_type": "display_data"
    }
   ],
   "source": [
    "plt.scatter(x = 'KitchenAbvGr', y = \"SalePrice_ln\", data = train)\n",
    "#plt.title(\"Year built vs Sale Price\")\n",
    "plt.show()"
   ]
  },
  {
   "cell_type": "code",
   "execution_count": 1009,
   "metadata": {},
   "outputs": [
    {
     "data": {
      "text/plain": [
       "array([[ 1.00000000e+00,  1.11564782e-02, -1.06006886e-02, ...,\n",
       "         7.11794017e-04, -2.19167194e-02, -1.79423824e-02],\n",
       "       [ 1.11564782e-02,  1.00000000e+00, -3.86346885e-01, ...,\n",
       "        -2.14070379e-02, -8.42841351e-02, -7.39590173e-02],\n",
       "       [-1.06006886e-02, -3.86346885e-01,  1.00000000e+00, ...,\n",
       "         7.44958921e-03,  3.51799097e-01,  3.55878470e-01],\n",
       "       ...,\n",
       "       [ 7.11794017e-04, -2.14070379e-02,  7.44958921e-03, ...,\n",
       "         1.00000000e+00, -2.89225852e-02, -3.72629695e-02],\n",
       "       [-2.19167194e-02, -8.42841351e-02,  3.51799097e-01, ...,\n",
       "        -2.89225852e-02,  1.00000000e+00,  9.48373731e-01],\n",
       "       [-1.79423824e-02, -7.39590173e-02,  3.55878470e-01, ...,\n",
       "        -3.72629695e-02,  9.48373731e-01,  1.00000000e+00]])"
      ]
     },
     "execution_count": 1009,
     "metadata": {},
     "output_type": "execute_result"
    }
   ],
   "source": [
    "np.array(train.corr())"
   ]
  },
  {
   "cell_type": "code",
   "execution_count": 1010,
   "metadata": {},
   "outputs": [
    {
     "data": {
      "image/png": "[encoded data removed]",
      "text/plain": [
       "<Figure size 576x576 with 2 Axes>"
      ]
     },
     "metadata": {
      "needs_background": "light"
     },
     "output_type": "display_data"
    }
   ],
   "source": [
    "import seaborn as sns\n",
    "plt.figure(figsize = (8,8))\n",
    "sns.heatmap(train.corr())\n",
    "plt.show()"
   ]
  },
  {
   "cell_type": "code",
   "execution_count": 1011,
   "metadata": {},
   "outputs": [
    {
     "data": {
      "text/plain": [
       "{'GarageYrBlt', 'LotFrontage', 'MasVnrArea'}"
      ]
     },
     "execution_count": 1011,
     "metadata": {},
     "output_type": "execute_result"
    }
   ],
   "source": [
    "set(train.corr()) & set(null_features) #very few of the null features come from cts data types"
   ]
  },
  {
   "cell_type": "code",
   "execution_count": 1012,
   "metadata": {},
   "outputs": [
    {
     "data": {
      "text/html": [
       "<div>\n",
       "<style scoped>\n",
       "    .dataframe tbody tr th:only-of-type {\n",
       "        vertical-align: middle;\n",
       "    }\n",
       "\n",
       "    .dataframe tbody tr th {\n",
       "        vertical-align: top;\n",
       "    }\n",
       "\n",
       "    .dataframe thead th {\n",
       "        text-align: right;\n",
       "    }\n",
       "</style>\n",
       "<table border=\"1\" class=\"dataframe\">\n",
       "  <thead>\n",
       "    <tr style=\"text-align: right;\">\n",
       "      <th></th>\n",
       "      <th>SalePrice</th>\n",
       "      <th>MasVnrArea</th>\n",
       "    </tr>\n",
       "  </thead>\n",
       "  <tbody>\n",
       "    <tr>\n",
       "      <th>SalePrice</th>\n",
       "      <td>1.000000</td>\n",
       "      <td>0.477493</td>\n",
       "    </tr>\n",
       "    <tr>\n",
       "      <th>MasVnrArea</th>\n",
       "      <td>0.477493</td>\n",
       "      <td>1.000000</td>\n",
       "    </tr>\n",
       "  </tbody>\n",
       "</table>\n",
       "</div>"
      ],
      "text/plain": [
       "            SalePrice  MasVnrArea\n",
       "SalePrice    1.000000    0.477493\n",
       "MasVnrArea   0.477493    1.000000"
      ]
     },
     "execution_count": 1012,
     "metadata": {},
     "output_type": "execute_result"
    }
   ],
   "source": [
    "#'LotFrontage' seems important and is missing \n",
    "#garage yr built seems important as is missing\n",
    "\n",
    "train[[\"SalePrice\",\"MasVnrArea\"]].corr()"
   ]
  },
  {
   "cell_type": "code",
   "execution_count": 1013,
   "metadata": {},
   "outputs": [
    {
     "data": {
      "text/html": [
       "<div>\n",
       "<style scoped>\n",
       "    .dataframe tbody tr th:only-of-type {\n",
       "        vertical-align: middle;\n",
       "    }\n",
       "\n",
       "    .dataframe tbody tr th {\n",
       "        vertical-align: top;\n",
       "    }\n",
       "\n",
       "    .dataframe thead th {\n",
       "        text-align: right;\n",
       "    }\n",
       "</style>\n",
       "<table border=\"1\" class=\"dataframe\">\n",
       "  <thead>\n",
       "    <tr style=\"text-align: right;\">\n",
       "      <th></th>\n",
       "      <th>SalePrice</th>\n",
       "      <th>GarageYrBlt</th>\n",
       "    </tr>\n",
       "  </thead>\n",
       "  <tbody>\n",
       "    <tr>\n",
       "      <th>SalePrice</th>\n",
       "      <td>1.000000</td>\n",
       "      <td>0.486362</td>\n",
       "    </tr>\n",
       "    <tr>\n",
       "      <th>GarageYrBlt</th>\n",
       "      <td>0.486362</td>\n",
       "      <td>1.000000</td>\n",
       "    </tr>\n",
       "  </tbody>\n",
       "</table>\n",
       "</div>"
      ],
      "text/plain": [
       "             SalePrice  GarageYrBlt\n",
       "SalePrice     1.000000     0.486362\n",
       "GarageYrBlt   0.486362     1.000000"
      ]
     },
     "execution_count": 1013,
     "metadata": {},
     "output_type": "execute_result"
    }
   ],
   "source": [
    "train[[\"SalePrice\",'GarageYrBlt']].corr()"
   ]
  },
  {
   "cell_type": "code",
   "execution_count": 1014,
   "metadata": {},
   "outputs": [
    {
     "data": {
      "text/html": [
       "<div>\n",
       "<style scoped>\n",
       "    .dataframe tbody tr th:only-of-type {\n",
       "        vertical-align: middle;\n",
       "    }\n",
       "\n",
       "    .dataframe tbody tr th {\n",
       "        vertical-align: top;\n",
       "    }\n",
       "\n",
       "    .dataframe thead th {\n",
       "        text-align: right;\n",
       "    }\n",
       "</style>\n",
       "<table border=\"1\" class=\"dataframe\">\n",
       "  <thead>\n",
       "    <tr style=\"text-align: right;\">\n",
       "      <th></th>\n",
       "      <th>SalePrice</th>\n",
       "      <th>LotFrontage</th>\n",
       "    </tr>\n",
       "  </thead>\n",
       "  <tbody>\n",
       "    <tr>\n",
       "      <th>SalePrice</th>\n",
       "      <td>1.000000</td>\n",
       "      <td>0.351799</td>\n",
       "    </tr>\n",
       "    <tr>\n",
       "      <th>LotFrontage</th>\n",
       "      <td>0.351799</td>\n",
       "      <td>1.000000</td>\n",
       "    </tr>\n",
       "  </tbody>\n",
       "</table>\n",
       "</div>"
      ],
      "text/plain": [
       "             SalePrice  LotFrontage\n",
       "SalePrice     1.000000     0.351799\n",
       "LotFrontage   0.351799     1.000000"
      ]
     },
     "execution_count": 1014,
     "metadata": {},
     "output_type": "execute_result"
    }
   ],
   "source": [
    "train[[\"SalePrice\",'LotFrontage']].corr()"
   ]
  },
  {
   "cell_type": "code",
   "execution_count": 1015,
   "metadata": {},
   "outputs": [
    {
     "data": {
      "text/plain": [
       "<matplotlib.axes._subplots.AxesSubplot at 0x1165d0828>"
      ]
     },
     "execution_count": 1015,
     "metadata": {},
     "output_type": "execute_result"
    },
    {
     "data": {
      "image/png": "[encoded data removed]",
      "text/plain": [
       "<Figure size 432x288 with 1 Axes>"
      ]
     },
     "metadata": {
      "needs_background": "light"
     },
     "output_type": "display_data"
    }
   ],
   "source": [
    "train.plot(kind = \"scatter\", x = \"WoodDeckSF\", y = \"SalePrice_ln\")\n",
    "#maybe want to throw this out? \"what is VNR area\"?"
   ]
  },
  {
   "cell_type": "code",
   "execution_count": 1016,
   "metadata": {},
   "outputs": [
    {
     "data": {
      "text/plain": [
       "<matplotlib.axes._subplots.AxesSubplot at 0x1a380c4358>"
      ]
     },
     "execution_count": 1016,
     "metadata": {},
     "output_type": "execute_result"
    },
    {
     "data": {
      "image/png": "[encoded data removed]",
      "text/plain": [
       "<Figure size 432x288 with 1 Axes>"
      ]
     },
     "metadata": {
      "needs_background": "light"
     },
     "output_type": "display_data"
    }
   ],
   "source": [
    "train[\"WoodDeckSF\"].hist(bins=20)"
   ]
  },
  {
   "cell_type": "code",
   "execution_count": 1017,
   "metadata": {},
   "outputs": [
    {
     "data": {
      "text/plain": [
       "<matplotlib.axes._subplots.AxesSubplot at 0x11674c4e0>"
      ]
     },
     "execution_count": 1017,
     "metadata": {},
     "output_type": "execute_result"
    },
    {
     "data": {
      "image/png": "[encoded data removed]",
      "text/plain": [
       "<Figure size 432x288 with 1 Axes>"
      ]
     },
     "metadata": {
      "needs_background": "light"
     },
     "output_type": "display_data"
    }
   ],
   "source": [
    "train[\"WoodDeckSF\"].plot(kind=\"KDE\")"
   ]
  },
  {
   "cell_type": "code",
   "execution_count": 1018,
   "metadata": {},
   "outputs": [
    {
     "data": {
      "text/plain": [
       "object     43\n",
       "int64      35\n",
       "float64     4\n",
       "dtype: int64"
      ]
     },
     "execution_count": 1018,
     "metadata": {},
     "output_type": "execute_result"
    }
   ],
   "source": [
    "train.dtypes.value_counts()"
   ]
  },
  {
   "cell_type": "code",
   "execution_count": 1019,
   "metadata": {},
   "outputs": [
    {
     "data": {
      "text/plain": [
       "39"
      ]
     },
     "execution_count": 1019,
     "metadata": {},
     "output_type": "execute_result"
    }
   ],
   "source": [
    "len(train.corr()) #so the 35 + 4 float types makeup the corr matrix "
   ]
  },
  {
   "cell_type": "code",
   "execution_count": 1020,
   "metadata": {},
   "outputs": [],
   "source": [
    "#train.corr()"
   ]
  },
  {
   "cell_type": "code",
   "execution_count": 1021,
   "metadata": {},
   "outputs": [
    {
     "data": {
      "text/plain": [
       "43"
      ]
     },
     "execution_count": 1021,
     "metadata": {},
     "output_type": "execute_result"
    }
   ],
   "source": [
    "len(set(train.columns) - set(train.corr())) #the set of all \"object\" features"
   ]
  },
  {
   "cell_type": "code",
   "execution_count": 1022,
   "metadata": {},
   "outputs": [],
   "source": [
    "categorical_data = set(train.columns) - set(train.corr())"
   ]
  },
  {
   "cell_type": "code",
   "execution_count": 1023,
   "metadata": {},
   "outputs": [
    {
     "name": "stdout",
     "output_type": "stream",
     "text": [
      "{'LotConfig', 'KitchenQual', 'GarageFinish', 'GarageCond', 'Exterior1st', 'Utilities', 'RoofStyle', 'Functional', 'BsmtCond', 'Exterior2nd', 'RoofMatl', 'SaleCondition', 'Neighborhood', 'MasVnrType', 'FireplaceQu', 'Foundation', 'GarageQual', 'HouseStyle', 'BsmtExposure', 'ExterQual', 'SaleType', 'BsmtFinType1', 'Heating', 'Street', 'BldgType', 'PavedDrive', 'Condition2', 'BsmtFinType2', 'BsmtQual', 'Electrical', 'PoolQC', 'LandContour', 'Fence', 'ExterCond', 'CentralAir', 'LandSlope', 'Condition1', 'LotShape', 'MiscFeature', 'Alley', 'HeatingQC', 'GarageType', 'MSZoning'}\n"
     ]
    }
   ],
   "source": [
    "print(categorical_data)"
   ]
  },
  {
   "cell_type": "code",
   "execution_count": 1024,
   "metadata": {},
   "outputs": [
    {
     "data": {
      "text/plain": [
       "{'BldgType',\n",
       " 'CentralAir',\n",
       " 'Condition1',\n",
       " 'Condition2',\n",
       " 'ExterCond',\n",
       " 'ExterQual',\n",
       " 'Exterior1st',\n",
       " 'Exterior2nd',\n",
       " 'Foundation',\n",
       " 'Functional',\n",
       " 'Heating',\n",
       " 'HeatingQC',\n",
       " 'HouseStyle',\n",
       " 'KitchenQual',\n",
       " 'LandContour',\n",
       " 'LandSlope',\n",
       " 'LotConfig',\n",
       " 'LotShape',\n",
       " 'MSZoning',\n",
       " 'Neighborhood',\n",
       " 'PavedDrive',\n",
       " 'RoofMatl',\n",
       " 'RoofStyle',\n",
       " 'SaleCondition',\n",
       " 'SaleType',\n",
       " 'Street',\n",
       " 'Utilities'}"
      ]
     },
     "execution_count": 1024,
     "metadata": {},
     "output_type": "execute_result"
    }
   ],
   "source": [
    "(set(train.columns) - set(train.corr())) - set(null_features)"
   ]
  },
  {
   "cell_type": "code",
   "execution_count": 1025,
   "metadata": {},
   "outputs": [],
   "source": [
    "#as we can see many of the null features come from the categorical data"
   ]
  },
  {
   "cell_type": "code",
   "execution_count": 1026,
   "metadata": {},
   "outputs": [
    {
     "data": {
      "text/plain": [
       "{'Blmngtn',\n",
       " 'Blueste',\n",
       " 'BrDale',\n",
       " 'BrkSide',\n",
       " 'ClearCr',\n",
       " 'CollgCr',\n",
       " 'Crawfor',\n",
       " 'Edwards',\n",
       " 'Gilbert',\n",
       " 'IDOTRR',\n",
       " 'MeadowV',\n",
       " 'Mitchel',\n",
       " 'NAmes',\n",
       " 'NPkVill',\n",
       " 'NWAmes',\n",
       " 'NoRidge',\n",
       " 'NridgHt',\n",
       " 'OldTown',\n",
       " 'SWISU',\n",
       " 'Sawyer',\n",
       " 'SawyerW',\n",
       " 'Somerst',\n",
       " 'StoneBr',\n",
       " 'Timber',\n",
       " 'Veenker'}"
      ]
     },
     "execution_count": 1026,
     "metadata": {},
     "output_type": "execute_result"
    }
   ],
   "source": [
    "set(train['Neighborhood'])"
   ]
  },
  {
   "cell_type": "code",
   "execution_count": 1027,
   "metadata": {},
   "outputs": [
    {
     "data": {
      "text/plain": [
       "NAmes      225\n",
       "CollgCr    150\n",
       "OldTown    113\n",
       "Edwards    100\n",
       "Somerst     86\n",
       "Gilbert     79\n",
       "NridgHt     77\n",
       "Sawyer      74\n",
       "NWAmes      73\n",
       "SawyerW     59\n",
       "BrkSide     58\n",
       "Crawfor     51\n",
       "Mitchel     49\n",
       "NoRidge     41\n",
       "Timber      38\n",
       "IDOTRR      37\n",
       "ClearCr     28\n",
       "StoneBr     25\n",
       "SWISU       25\n",
       "MeadowV     17\n",
       "Blmngtn     17\n",
       "BrDale      16\n",
       "Veenker     11\n",
       "NPkVill      9\n",
       "Blueste      2\n",
       "Name: Neighborhood, dtype: int64"
      ]
     },
     "execution_count": 1027,
     "metadata": {},
     "output_type": "execute_result"
    }
   ],
   "source": [
    "train[\"Neighborhood\"].value_counts()"
   ]
  },
  {
   "cell_type": "code",
   "execution_count": 1028,
   "metadata": {},
   "outputs": [],
   "source": [
    "#real quick\n",
    "#grab the subset of CTS only data with no missings\n",
    "#perform PCA on the dataset\n",
    "#use the resulting features to fit a ridge model\n",
    "#use CV to test ridge parameter\n",
    "\n",
    "#try this on the test dataset for kaggle"
   ]
  },
  {
   "cell_type": "code",
   "execution_count": 1029,
   "metadata": {},
   "outputs": [
    {
     "ename": "SyntaxError",
     "evalue": "invalid syntax (<ipython-input-1029-013a66fc4c75>, line 1)",
     "output_type": "error",
     "traceback": [
      "\u001b[0;36m  File \u001b[0;32m\"<ipython-input-1029-013a66fc4c75>\"\u001b[0;36m, line \u001b[0;32m1\u001b[0m\n\u001b[0;31m    X = train[list(((set(train.corr()) | (set(train.columns) - set(train.cor()) - set(null_features))]\u001b[0m\n\u001b[0m                                                                                                     ^\u001b[0m\n\u001b[0;31mSyntaxError\u001b[0m\u001b[0;31m:\u001b[0m invalid syntax\n"
     ]
    }
   ],
   "source": [
    "X = train[list(((set(train.corr()) | (set(train.columns) - set(train.cor()) - set(null_features))]"
   ]
  },
  {
   "cell_type": "code",
   "execution_count": 1030,
   "metadata": {},
   "outputs": [
    {
     "ename": "SyntaxError",
     "evalue": "invalid syntax (<ipython-input-1030-e7412babf01c>, line 1)",
     "output_type": "error",
     "traceback": [
      "\u001b[0;36m  File \u001b[0;32m\"<ipython-input-1030-e7412babf01c>\"\u001b[0;36m, line \u001b[0;32m1\u001b[0m\n\u001b[0;31m    list(((set(train.corr()) | (set(train.columns)) - set(null_features)))))\u001b[0m\n\u001b[0m                                                                           ^\u001b[0m\n\u001b[0;31mSyntaxError\u001b[0m\u001b[0;31m:\u001b[0m invalid syntax\n"
     ]
    }
   ],
   "source": [
    "list(((set(train.corr()) | (set(train.columns)) - set(null_features)))))"
   ]
  },
  {
   "cell_type": "code",
   "execution_count": 1031,
   "metadata": {},
   "outputs": [],
   "source": [
    "X = train[list((set(train.corr())  - set(null_features)))]"
   ]
  },
  {
   "cell_type": "code",
   "execution_count": null,
   "metadata": {},
   "outputs": [],
   "source": []
  },
  {
   "cell_type": "code",
   "execution_count": null,
   "metadata": {},
   "outputs": [],
   "source": []
  },
  {
   "cell_type": "code",
   "execution_count": 1032,
   "metadata": {},
   "outputs": [],
   "source": [
    "X = X.loc[:,(X.columns != \"SalePrice\") & (X.columns != \"SalePrice_ln\")]"
   ]
  },
  {
   "cell_type": "code",
   "execution_count": 1033,
   "metadata": {},
   "outputs": [
    {
     "data": {
      "text/plain": [
       "Index(['YearRemodAdd', 'BedroomAbvGr', 'BsmtFinSF1', 'YrSold', 'LotArea',\n",
       "       'EnclosedPorch', 'GarageCars', 'FullBath', 'GarageArea', 'MSSubClass',\n",
       "       'LowQualFinSF', 'MoSold', 'BsmtUnfSF', 'Id', 'TotalBsmtSF', 'MiscVal',\n",
       "       'OverallQual', 'KitchenAbvGr', 'Fireplaces', '2ndFlrSF', '3SsnPorch',\n",
       "       'ScreenPorch', 'TotRmsAbvGrd', 'OpenPorchSF', 'YearBuilt', 'PoolArea',\n",
       "       'BsmtFullBath', '1stFlrSF', 'BsmtHalfBath', 'BsmtFinSF2', 'WoodDeckSF',\n",
       "       'GrLivArea', 'HalfBath', 'OverallCond'],\n",
       "      dtype='object')"
      ]
     },
     "execution_count": 1033,
     "metadata": {},
     "output_type": "execute_result"
    }
   ],
   "source": [
    "X.columns"
   ]
  },
  {
   "cell_type": "code",
   "execution_count": 1034,
   "metadata": {},
   "outputs": [],
   "source": [
    "from sklearn.decomposition import PCA"
   ]
  },
  {
   "cell_type": "code",
   "execution_count": 1035,
   "metadata": {},
   "outputs": [
    {
     "data": {
      "text/plain": [
       "(1460, 34)"
      ]
     },
     "execution_count": 1035,
     "metadata": {},
     "output_type": "execute_result"
    }
   ],
   "source": [
    "X.shape"
   ]
  },
  {
   "cell_type": "code",
   "execution_count": 1036,
   "metadata": {},
   "outputs": [
    {
     "data": {
      "text/html": [
       "<div>\n",
       "<style scoped>\n",
       "    .dataframe tbody tr th:only-of-type {\n",
       "        vertical-align: middle;\n",
       "    }\n",
       "\n",
       "    .dataframe tbody tr th {\n",
       "        vertical-align: top;\n",
       "    }\n",
       "\n",
       "    .dataframe thead th {\n",
       "        text-align: right;\n",
       "    }\n",
       "</style>\n",
       "<table border=\"1\" class=\"dataframe\">\n",
       "  <thead>\n",
       "    <tr style=\"text-align: right;\">\n",
       "      <th></th>\n",
       "      <th>YearRemodAdd</th>\n",
       "      <th>BedroomAbvGr</th>\n",
       "      <th>BsmtFinSF1</th>\n",
       "      <th>YrSold</th>\n",
       "      <th>LotArea</th>\n",
       "      <th>EnclosedPorch</th>\n",
       "      <th>GarageCars</th>\n",
       "      <th>FullBath</th>\n",
       "      <th>GarageArea</th>\n",
       "      <th>MSSubClass</th>\n",
       "      <th>...</th>\n",
       "      <th>YearBuilt</th>\n",
       "      <th>PoolArea</th>\n",
       "      <th>BsmtFullBath</th>\n",
       "      <th>1stFlrSF</th>\n",
       "      <th>BsmtHalfBath</th>\n",
       "      <th>BsmtFinSF2</th>\n",
       "      <th>WoodDeckSF</th>\n",
       "      <th>GrLivArea</th>\n",
       "      <th>HalfBath</th>\n",
       "      <th>OverallCond</th>\n",
       "    </tr>\n",
       "  </thead>\n",
       "  <tbody>\n",
       "    <tr>\n",
       "      <th>0</th>\n",
       "      <td>2003</td>\n",
       "      <td>3</td>\n",
       "      <td>706</td>\n",
       "      <td>2008</td>\n",
       "      <td>8450</td>\n",
       "      <td>0</td>\n",
       "      <td>2</td>\n",
       "      <td>2</td>\n",
       "      <td>548</td>\n",
       "      <td>60</td>\n",
       "      <td>...</td>\n",
       "      <td>2003</td>\n",
       "      <td>0</td>\n",
       "      <td>1</td>\n",
       "      <td>856</td>\n",
       "      <td>0</td>\n",
       "      <td>0</td>\n",
       "      <td>0</td>\n",
       "      <td>1710</td>\n",
       "      <td>1</td>\n",
       "      <td>5</td>\n",
       "    </tr>\n",
       "    <tr>\n",
       "      <th>1</th>\n",
       "      <td>1976</td>\n",
       "      <td>3</td>\n",
       "      <td>978</td>\n",
       "      <td>2007</td>\n",
       "      <td>9600</td>\n",
       "      <td>0</td>\n",
       "      <td>2</td>\n",
       "      <td>2</td>\n",
       "      <td>460</td>\n",
       "      <td>20</td>\n",
       "      <td>...</td>\n",
       "      <td>1976</td>\n",
       "      <td>0</td>\n",
       "      <td>0</td>\n",
       "      <td>1262</td>\n",
       "      <td>1</td>\n",
       "      <td>0</td>\n",
       "      <td>298</td>\n",
       "      <td>1262</td>\n",
       "      <td>0</td>\n",
       "      <td>8</td>\n",
       "    </tr>\n",
       "    <tr>\n",
       "      <th>2</th>\n",
       "      <td>2002</td>\n",
       "      <td>3</td>\n",
       "      <td>486</td>\n",
       "      <td>2008</td>\n",
       "      <td>11250</td>\n",
       "      <td>0</td>\n",
       "      <td>2</td>\n",
       "      <td>2</td>\n",
       "      <td>608</td>\n",
       "      <td>60</td>\n",
       "      <td>...</td>\n",
       "      <td>2001</td>\n",
       "      <td>0</td>\n",
       "      <td>1</td>\n",
       "      <td>920</td>\n",
       "      <td>0</td>\n",
       "      <td>0</td>\n",
       "      <td>0</td>\n",
       "      <td>1786</td>\n",
       "      <td>1</td>\n",
       "      <td>5</td>\n",
       "    </tr>\n",
       "    <tr>\n",
       "      <th>3</th>\n",
       "      <td>1970</td>\n",
       "      <td>3</td>\n",
       "      <td>216</td>\n",
       "      <td>2006</td>\n",
       "      <td>9550</td>\n",
       "      <td>272</td>\n",
       "      <td>3</td>\n",
       "      <td>1</td>\n",
       "      <td>642</td>\n",
       "      <td>70</td>\n",
       "      <td>...</td>\n",
       "      <td>1915</td>\n",
       "      <td>0</td>\n",
       "      <td>1</td>\n",
       "      <td>961</td>\n",
       "      <td>0</td>\n",
       "      <td>0</td>\n",
       "      <td>0</td>\n",
       "      <td>1717</td>\n",
       "      <td>0</td>\n",
       "      <td>5</td>\n",
       "    </tr>\n",
       "    <tr>\n",
       "      <th>4</th>\n",
       "      <td>2000</td>\n",
       "      <td>4</td>\n",
       "      <td>655</td>\n",
       "      <td>2008</td>\n",
       "      <td>14260</td>\n",
       "      <td>0</td>\n",
       "      <td>3</td>\n",
       "      <td>2</td>\n",
       "      <td>836</td>\n",
       "      <td>60</td>\n",
       "      <td>...</td>\n",
       "      <td>2000</td>\n",
       "      <td>0</td>\n",
       "      <td>1</td>\n",
       "      <td>1145</td>\n",
       "      <td>0</td>\n",
       "      <td>0</td>\n",
       "      <td>192</td>\n",
       "      <td>2198</td>\n",
       "      <td>1</td>\n",
       "      <td>5</td>\n",
       "    </tr>\n",
       "  </tbody>\n",
       "</table>\n",
       "<p>5 rows × 34 columns</p>\n",
       "</div>"
      ],
      "text/plain": [
       "   YearRemodAdd  BedroomAbvGr  BsmtFinSF1  YrSold  LotArea  EnclosedPorch  \\\n",
       "0          2003             3         706    2008     8450              0   \n",
       "1          1976             3         978    2007     9600              0   \n",
       "2          2002             3         486    2008    11250              0   \n",
       "3          1970             3         216    2006     9550            272   \n",
       "4          2000             4         655    2008    14260              0   \n",
       "\n",
       "   GarageCars  FullBath  GarageArea  MSSubClass     ...       YearBuilt  \\\n",
       "0           2         2         548          60     ...            2003   \n",
       "1           2         2         460          20     ...            1976   \n",
       "2           2         2         608          60     ...            2001   \n",
       "3           3         1         642          70     ...            1915   \n",
       "4           3         2         836          60     ...            2000   \n",
       "\n",
       "   PoolArea  BsmtFullBath  1stFlrSF  BsmtHalfBath  BsmtFinSF2  WoodDeckSF  \\\n",
       "0         0             1       856             0           0           0   \n",
       "1         0             0      1262             1           0         298   \n",
       "2         0             1       920             0           0           0   \n",
       "3         0             1       961             0           0           0   \n",
       "4         0             1      1145             0           0         192   \n",
       "\n",
       "   GrLivArea  HalfBath  OverallCond  \n",
       "0       1710         1            5  \n",
       "1       1262         0            8  \n",
       "2       1786         1            5  \n",
       "3       1717         0            5  \n",
       "4       2198         1            5  \n",
       "\n",
       "[5 rows x 34 columns]"
      ]
     },
     "execution_count": 1036,
     "metadata": {},
     "output_type": "execute_result"
    }
   ],
   "source": [
    "X.head()"
   ]
  },
  {
   "cell_type": "code",
   "execution_count": 1037,
   "metadata": {},
   "outputs": [
    {
     "data": {
      "text/plain": [
       "PCA(copy=True, iterated_power='auto', n_components=30, random_state=None,\n",
       "  svd_solver='auto', tol=0.0, whiten=False)"
      ]
     },
     "execution_count": 1037,
     "metadata": {},
     "output_type": "execute_result"
    }
   ],
   "source": [
    "pca = PCA(n_components = 30) #example of 10 components\n",
    "pca.fit((X - X.mean())/X.std())"
   ]
  },
  {
   "cell_type": "code",
   "execution_count": 1038,
   "metadata": {},
   "outputs": [],
   "source": [
    "X_pca = pd.DataFrame(pca.transform((X - X.mean())/X.std()))"
   ]
  },
  {
   "cell_type": "code",
   "execution_count": 1039,
   "metadata": {},
   "outputs": [],
   "source": [
    "#X = (X - X.mean())/X.std()"
   ]
  },
  {
   "cell_type": "code",
   "execution_count": 1040,
   "metadata": {},
   "outputs": [
    {
     "data": {
      "text/html": [
       "<div>\n",
       "<style scoped>\n",
       "    .dataframe tbody tr th:only-of-type {\n",
       "        vertical-align: middle;\n",
       "    }\n",
       "\n",
       "    .dataframe tbody tr th {\n",
       "        vertical-align: top;\n",
       "    }\n",
       "\n",
       "    .dataframe thead th {\n",
       "        text-align: right;\n",
       "    }\n",
       "</style>\n",
       "<table border=\"1\" class=\"dataframe\">\n",
       "  <thead>\n",
       "    <tr style=\"text-align: right;\">\n",
       "      <th></th>\n",
       "      <th>0</th>\n",
       "      <th>1</th>\n",
       "      <th>2</th>\n",
       "      <th>3</th>\n",
       "      <th>4</th>\n",
       "      <th>5</th>\n",
       "      <th>6</th>\n",
       "      <th>7</th>\n",
       "      <th>8</th>\n",
       "      <th>9</th>\n",
       "      <th>...</th>\n",
       "      <th>20</th>\n",
       "      <th>21</th>\n",
       "      <th>22</th>\n",
       "      <th>23</th>\n",
       "      <th>24</th>\n",
       "      <th>25</th>\n",
       "      <th>26</th>\n",
       "      <th>27</th>\n",
       "      <th>28</th>\n",
       "      <th>29</th>\n",
       "    </tr>\n",
       "  </thead>\n",
       "  <tbody>\n",
       "    <tr>\n",
       "      <th>0</th>\n",
       "      <td>1.223807</td>\n",
       "      <td>0.561317</td>\n",
       "      <td>-0.707356</td>\n",
       "      <td>-2.336100</td>\n",
       "      <td>0.617765</td>\n",
       "      <td>1.167581</td>\n",
       "      <td>-0.455918</td>\n",
       "      <td>0.145830</td>\n",
       "      <td>0.246138</td>\n",
       "      <td>-1.302316</td>\n",
       "      <td>...</td>\n",
       "      <td>0.795999</td>\n",
       "      <td>0.122406</td>\n",
       "      <td>0.234666</td>\n",
       "      <td>0.056564</td>\n",
       "      <td>0.147178</td>\n",
       "      <td>0.545567</td>\n",
       "      <td>-0.341595</td>\n",
       "      <td>0.010804</td>\n",
       "      <td>-0.297848</td>\n",
       "      <td>-0.192831</td>\n",
       "    </tr>\n",
       "    <tr>\n",
       "      <th>1</th>\n",
       "      <td>0.021800</td>\n",
       "      <td>-1.236864</td>\n",
       "      <td>0.955256</td>\n",
       "      <td>0.280459</td>\n",
       "      <td>-1.970432</td>\n",
       "      <td>0.327297</td>\n",
       "      <td>3.669993</td>\n",
       "      <td>0.178148</td>\n",
       "      <td>-0.567491</td>\n",
       "      <td>-0.494774</td>\n",
       "      <td>...</td>\n",
       "      <td>-0.500013</td>\n",
       "      <td>0.231870</td>\n",
       "      <td>-0.972716</td>\n",
       "      <td>0.125431</td>\n",
       "      <td>0.301959</td>\n",
       "      <td>-0.809730</td>\n",
       "      <td>-0.861445</td>\n",
       "      <td>0.686253</td>\n",
       "      <td>-0.043190</td>\n",
       "      <td>-0.219359</td>\n",
       "    </tr>\n",
       "    <tr>\n",
       "      <th>2</th>\n",
       "      <td>1.467615</td>\n",
       "      <td>0.381235</td>\n",
       "      <td>-0.817930</td>\n",
       "      <td>-1.780799</td>\n",
       "      <td>-0.050855</td>\n",
       "      <td>-0.284466</td>\n",
       "      <td>0.023094</td>\n",
       "      <td>0.032007</td>\n",
       "      <td>0.300632</td>\n",
       "      <td>-1.273934</td>\n",
       "      <td>...</td>\n",
       "      <td>1.138110</td>\n",
       "      <td>-0.698295</td>\n",
       "      <td>0.062107</td>\n",
       "      <td>0.204992</td>\n",
       "      <td>-0.429453</td>\n",
       "      <td>0.339249</td>\n",
       "      <td>-0.396321</td>\n",
       "      <td>0.698992</td>\n",
       "      <td>0.127802</td>\n",
       "      <td>0.333929</td>\n",
       "    </tr>\n",
       "    <tr>\n",
       "      <th>3</th>\n",
       "      <td>-0.312709</td>\n",
       "      <td>0.983755</td>\n",
       "      <td>1.379297</td>\n",
       "      <td>0.385215</td>\n",
       "      <td>0.218471</td>\n",
       "      <td>0.413993</td>\n",
       "      <td>-1.498441</td>\n",
       "      <td>2.165746</td>\n",
       "      <td>-0.768592</td>\n",
       "      <td>-0.708905</td>\n",
       "      <td>...</td>\n",
       "      <td>-0.343799</td>\n",
       "      <td>0.920773</td>\n",
       "      <td>-0.344935</td>\n",
       "      <td>-0.128979</td>\n",
       "      <td>-1.335490</td>\n",
       "      <td>1.092591</td>\n",
       "      <td>-0.223242</td>\n",
       "      <td>-0.629823</td>\n",
       "      <td>0.058840</td>\n",
       "      <td>0.412605</td>\n",
       "    </tr>\n",
       "    <tr>\n",
       "      <th>4</th>\n",
       "      <td>4.106137</td>\n",
       "      <td>1.021890</td>\n",
       "      <td>-0.098366</td>\n",
       "      <td>-1.526757</td>\n",
       "      <td>-0.054517</td>\n",
       "      <td>-0.595278</td>\n",
       "      <td>0.757384</td>\n",
       "      <td>0.043847</td>\n",
       "      <td>-0.254768</td>\n",
       "      <td>-1.001071</td>\n",
       "      <td>...</td>\n",
       "      <td>0.111121</td>\n",
       "      <td>-0.203989</td>\n",
       "      <td>0.074401</td>\n",
       "      <td>-0.390858</td>\n",
       "      <td>-0.791781</td>\n",
       "      <td>0.278822</td>\n",
       "      <td>-0.132388</td>\n",
       "      <td>-0.150370</td>\n",
       "      <td>0.028866</td>\n",
       "      <td>-0.024086</td>\n",
       "    </tr>\n",
       "  </tbody>\n",
       "</table>\n",
       "<p>5 rows × 30 columns</p>\n",
       "</div>"
      ],
      "text/plain": [
       "         0         1         2         3         4         5         6   \\\n",
       "0  1.223807  0.561317 -0.707356 -2.336100  0.617765  1.167581 -0.455918   \n",
       "1  0.021800 -1.236864  0.955256  0.280459 -1.970432  0.327297  3.669993   \n",
       "2  1.467615  0.381235 -0.817930 -1.780799 -0.050855 -0.284466  0.023094   \n",
       "3 -0.312709  0.983755  1.379297  0.385215  0.218471  0.413993 -1.498441   \n",
       "4  4.106137  1.021890 -0.098366 -1.526757 -0.054517 -0.595278  0.757384   \n",
       "\n",
       "         7         8         9     ...           20        21        22  \\\n",
       "0  0.145830  0.246138 -1.302316    ...     0.795999  0.122406  0.234666   \n",
       "1  0.178148 -0.567491 -0.494774    ...    -0.500013  0.231870 -0.972716   \n",
       "2  0.032007  0.300632 -1.273934    ...     1.138110 -0.698295  0.062107   \n",
       "3  2.165746 -0.768592 -0.708905    ...    -0.343799  0.920773 -0.344935   \n",
       "4  0.043847 -0.254768 -1.001071    ...     0.111121 -0.203989  0.074401   \n",
       "\n",
       "         23        24        25        26        27        28        29  \n",
       "0  0.056564  0.147178  0.545567 -0.341595  0.010804 -0.297848 -0.192831  \n",
       "1  0.125431  0.301959 -0.809730 -0.861445  0.686253 -0.043190 -0.219359  \n",
       "2  0.204992 -0.429453  0.339249 -0.396321  0.698992  0.127802  0.333929  \n",
       "3 -0.128979 -1.335490  1.092591 -0.223242 -0.629823  0.058840  0.412605  \n",
       "4 -0.390858 -0.791781  0.278822 -0.132388 -0.150370  0.028866 -0.024086  \n",
       "\n",
       "[5 rows x 30 columns]"
      ]
     },
     "execution_count": 1040,
     "metadata": {},
     "output_type": "execute_result"
    }
   ],
   "source": [
    "X_pca.head()"
   ]
  },
  {
   "cell_type": "code",
   "execution_count": 1041,
   "metadata": {},
   "outputs": [
    {
     "data": {
      "text/plain": [
       "(1460, 30)"
      ]
     },
     "execution_count": 1041,
     "metadata": {},
     "output_type": "execute_result"
    }
   ],
   "source": [
    "X_pca.shape"
   ]
  },
  {
   "cell_type": "code",
   "execution_count": 1042,
   "metadata": {},
   "outputs": [],
   "source": [
    "y = train[\"SalePrice_ln\"]"
   ]
  },
  {
   "cell_type": "code",
   "execution_count": 1043,
   "metadata": {},
   "outputs": [],
   "source": [
    "#perform train test split "
   ]
  },
  {
   "cell_type": "code",
   "execution_count": 1044,
   "metadata": {},
   "outputs": [],
   "source": [
    "from sklearn.model_selection import train_test_split "
   ]
  },
  {
   "cell_type": "code",
   "execution_count": 1045,
   "metadata": {},
   "outputs": [],
   "source": [
    "X_train, X_test, y_train, y_test = train_test_split(X, y, test_size = 0.2, random_state = 2019)"
   ]
  },
  {
   "cell_type": "code",
   "execution_count": 1046,
   "metadata": {},
   "outputs": [
    {
     "data": {
      "text/html": [
       "<div>\n",
       "<style scoped>\n",
       "    .dataframe tbody tr th:only-of-type {\n",
       "        vertical-align: middle;\n",
       "    }\n",
       "\n",
       "    .dataframe tbody tr th {\n",
       "        vertical-align: top;\n",
       "    }\n",
       "\n",
       "    .dataframe thead th {\n",
       "        text-align: right;\n",
       "    }\n",
       "</style>\n",
       "<table border=\"1\" class=\"dataframe\">\n",
       "  <thead>\n",
       "    <tr style=\"text-align: right;\">\n",
       "      <th></th>\n",
       "      <th>YearRemodAdd</th>\n",
       "      <th>BedroomAbvGr</th>\n",
       "      <th>BsmtFinSF1</th>\n",
       "      <th>YrSold</th>\n",
       "      <th>LotArea</th>\n",
       "      <th>EnclosedPorch</th>\n",
       "      <th>GarageCars</th>\n",
       "      <th>FullBath</th>\n",
       "      <th>GarageArea</th>\n",
       "      <th>MSSubClass</th>\n",
       "      <th>...</th>\n",
       "      <th>YearBuilt</th>\n",
       "      <th>PoolArea</th>\n",
       "      <th>BsmtFullBath</th>\n",
       "      <th>1stFlrSF</th>\n",
       "      <th>BsmtHalfBath</th>\n",
       "      <th>BsmtFinSF2</th>\n",
       "      <th>WoodDeckSF</th>\n",
       "      <th>GrLivArea</th>\n",
       "      <th>HalfBath</th>\n",
       "      <th>OverallCond</th>\n",
       "    </tr>\n",
       "  </thead>\n",
       "  <tbody>\n",
       "    <tr>\n",
       "      <th>0</th>\n",
       "      <td>2003</td>\n",
       "      <td>3</td>\n",
       "      <td>706</td>\n",
       "      <td>2008</td>\n",
       "      <td>8450</td>\n",
       "      <td>0</td>\n",
       "      <td>2</td>\n",
       "      <td>2</td>\n",
       "      <td>548</td>\n",
       "      <td>60</td>\n",
       "      <td>...</td>\n",
       "      <td>2003</td>\n",
       "      <td>0</td>\n",
       "      <td>1</td>\n",
       "      <td>856</td>\n",
       "      <td>0</td>\n",
       "      <td>0</td>\n",
       "      <td>0</td>\n",
       "      <td>1710</td>\n",
       "      <td>1</td>\n",
       "      <td>5</td>\n",
       "    </tr>\n",
       "    <tr>\n",
       "      <th>1</th>\n",
       "      <td>1976</td>\n",
       "      <td>3</td>\n",
       "      <td>978</td>\n",
       "      <td>2007</td>\n",
       "      <td>9600</td>\n",
       "      <td>0</td>\n",
       "      <td>2</td>\n",
       "      <td>2</td>\n",
       "      <td>460</td>\n",
       "      <td>20</td>\n",
       "      <td>...</td>\n",
       "      <td>1976</td>\n",
       "      <td>0</td>\n",
       "      <td>0</td>\n",
       "      <td>1262</td>\n",
       "      <td>1</td>\n",
       "      <td>0</td>\n",
       "      <td>298</td>\n",
       "      <td>1262</td>\n",
       "      <td>0</td>\n",
       "      <td>8</td>\n",
       "    </tr>\n",
       "    <tr>\n",
       "      <th>2</th>\n",
       "      <td>2002</td>\n",
       "      <td>3</td>\n",
       "      <td>486</td>\n",
       "      <td>2008</td>\n",
       "      <td>11250</td>\n",
       "      <td>0</td>\n",
       "      <td>2</td>\n",
       "      <td>2</td>\n",
       "      <td>608</td>\n",
       "      <td>60</td>\n",
       "      <td>...</td>\n",
       "      <td>2001</td>\n",
       "      <td>0</td>\n",
       "      <td>1</td>\n",
       "      <td>920</td>\n",
       "      <td>0</td>\n",
       "      <td>0</td>\n",
       "      <td>0</td>\n",
       "      <td>1786</td>\n",
       "      <td>1</td>\n",
       "      <td>5</td>\n",
       "    </tr>\n",
       "    <tr>\n",
       "      <th>3</th>\n",
       "      <td>1970</td>\n",
       "      <td>3</td>\n",
       "      <td>216</td>\n",
       "      <td>2006</td>\n",
       "      <td>9550</td>\n",
       "      <td>272</td>\n",
       "      <td>3</td>\n",
       "      <td>1</td>\n",
       "      <td>642</td>\n",
       "      <td>70</td>\n",
       "      <td>...</td>\n",
       "      <td>1915</td>\n",
       "      <td>0</td>\n",
       "      <td>1</td>\n",
       "      <td>961</td>\n",
       "      <td>0</td>\n",
       "      <td>0</td>\n",
       "      <td>0</td>\n",
       "      <td>1717</td>\n",
       "      <td>0</td>\n",
       "      <td>5</td>\n",
       "    </tr>\n",
       "    <tr>\n",
       "      <th>4</th>\n",
       "      <td>2000</td>\n",
       "      <td>4</td>\n",
       "      <td>655</td>\n",
       "      <td>2008</td>\n",
       "      <td>14260</td>\n",
       "      <td>0</td>\n",
       "      <td>3</td>\n",
       "      <td>2</td>\n",
       "      <td>836</td>\n",
       "      <td>60</td>\n",
       "      <td>...</td>\n",
       "      <td>2000</td>\n",
       "      <td>0</td>\n",
       "      <td>1</td>\n",
       "      <td>1145</td>\n",
       "      <td>0</td>\n",
       "      <td>0</td>\n",
       "      <td>192</td>\n",
       "      <td>2198</td>\n",
       "      <td>1</td>\n",
       "      <td>5</td>\n",
       "    </tr>\n",
       "  </tbody>\n",
       "</table>\n",
       "<p>5 rows × 34 columns</p>\n",
       "</div>"
      ],
      "text/plain": [
       "   YearRemodAdd  BedroomAbvGr  BsmtFinSF1  YrSold  LotArea  EnclosedPorch  \\\n",
       "0          2003             3         706    2008     8450              0   \n",
       "1          1976             3         978    2007     9600              0   \n",
       "2          2002             3         486    2008    11250              0   \n",
       "3          1970             3         216    2006     9550            272   \n",
       "4          2000             4         655    2008    14260              0   \n",
       "\n",
       "   GarageCars  FullBath  GarageArea  MSSubClass     ...       YearBuilt  \\\n",
       "0           2         2         548          60     ...            2003   \n",
       "1           2         2         460          20     ...            1976   \n",
       "2           2         2         608          60     ...            2001   \n",
       "3           3         1         642          70     ...            1915   \n",
       "4           3         2         836          60     ...            2000   \n",
       "\n",
       "   PoolArea  BsmtFullBath  1stFlrSF  BsmtHalfBath  BsmtFinSF2  WoodDeckSF  \\\n",
       "0         0             1       856             0           0           0   \n",
       "1         0             0      1262             1           0         298   \n",
       "2         0             1       920             0           0           0   \n",
       "3         0             1       961             0           0           0   \n",
       "4         0             1      1145             0           0         192   \n",
       "\n",
       "   GrLivArea  HalfBath  OverallCond  \n",
       "0       1710         1            5  \n",
       "1       1262         0            8  \n",
       "2       1786         1            5  \n",
       "3       1717         0            5  \n",
       "4       2198         1            5  \n",
       "\n",
       "[5 rows x 34 columns]"
      ]
     },
     "execution_count": 1046,
     "metadata": {},
     "output_type": "execute_result"
    }
   ],
   "source": [
    "X.head()"
   ]
  },
  {
   "cell_type": "code",
   "execution_count": 1047,
   "metadata": {},
   "outputs": [],
   "source": [
    "from sklearn.linear_model import Ridge"
   ]
  },
  {
   "cell_type": "code",
   "execution_count": 1048,
   "metadata": {},
   "outputs": [],
   "source": [
    "rreg = Ridge()"
   ]
  },
  {
   "cell_type": "code",
   "execution_count": 1049,
   "metadata": {},
   "outputs": [],
   "source": [
    "alphas = np.logspace(-4,4,9)"
   ]
  },
  {
   "cell_type": "code",
   "execution_count": 1050,
   "metadata": {},
   "outputs": [],
   "source": [
    "from sklearn.model_selection import cross_val_score"
   ]
  },
  {
   "cell_type": "code",
   "execution_count": 1051,
   "metadata": {},
   "outputs": [],
   "source": [
    "def rmse(estimator, X, y):\n",
    "    preds = estimator.predict(X)\n",
    "    return np.sqrt(np.mean((preds - y)**2))"
   ]
  },
  {
   "cell_type": "code",
   "execution_count": 1052,
   "metadata": {},
   "outputs": [
    {
     "data": {
      "text/plain": [
       "(1460, 34)"
      ]
     },
     "execution_count": 1052,
     "metadata": {},
     "output_type": "execute_result"
    }
   ],
   "source": [
    "X.shape"
   ]
  },
  {
   "cell_type": "code",
   "execution_count": null,
   "metadata": {},
   "outputs": [],
   "source": []
  },
  {
   "cell_type": "code",
   "execution_count": 1053,
   "metadata": {},
   "outputs": [],
   "source": [
    "rreg_scores = []\n",
    "\n",
    "for a in alphas:\n",
    "    rreg.set_params(alpha=a) #note use of .set_params() method\n",
    "    scores = cross_val_score(estimator = rreg,scoring = rmse, X = X_train, y = y_train, cv = 10)\n",
    "    rreg_scores.append((np.mean(scores), a))"
   ]
  },
  {
   "cell_type": "code",
   "execution_count": 1054,
   "metadata": {},
   "outputs": [
    {
     "data": {
      "text/plain": [
       "[(0.15601683540353523, 0.0001),\n",
       " (0.15601680871424978, 0.001),\n",
       " (0.15601654193452466, 0.01),\n",
       " (0.15601388540712843, 0.1),\n",
       " (0.15598840567191394, 1.0),\n",
       " (0.15581278287776693, 10.0),\n",
       " (0.1560421530870811, 100.0),\n",
       " (0.16686074428142034, 1000.0),\n",
       " (0.1853617694523752, 10000.0)]"
      ]
     },
     "execution_count": 1054,
     "metadata": {},
     "output_type": "execute_result"
    }
   ],
   "source": [
    "rreg_scores"
   ]
  },
  {
   "cell_type": "code",
   "execution_count": 1055,
   "metadata": {},
   "outputs": [],
   "source": [
    "rreg = Ridge(alpha = 1)"
   ]
  },
  {
   "cell_type": "code",
   "execution_count": 1056,
   "metadata": {},
   "outputs": [
    {
     "data": {
      "text/plain": [
       "Ridge(alpha=1, copy_X=True, fit_intercept=True, max_iter=None,\n",
       "   normalize=False, random_state=None, solver='auto', tol=0.001)"
      ]
     },
     "execution_count": 1056,
     "metadata": {},
     "output_type": "execute_result"
    }
   ],
   "source": [
    "rreg.fit(X_train,y_train)"
   ]
  },
  {
   "cell_type": "code",
   "execution_count": 1057,
   "metadata": {},
   "outputs": [],
   "source": [
    "from sklearn.ensemble import RandomForestRegressor\n",
    "from sklearn.model_selection import cross_val_score\n",
    "\n",
    "rf = RandomForestRegressor(random_state = 1)\n",
    "\n",
    "max_depth = [1,5,10,15,25,50,100,200]\n",
    "rf_scores = []\n",
    "\n",
    "for num_samples in max_depth:\n",
    "    rf.set_params(max_depth = num_samples)\n",
    "    scores = cross_val_score(estimator = rf, \n",
    "                             X = X_train, \n",
    "                             y = y_train,\n",
    "                             #note the custom scoring metric\n",
    "                             cv = 10)\n",
    "    rf_scores.append((np.mean(scores),num_samples))"
   ]
  },
  {
   "cell_type": "code",
   "execution_count": 1058,
   "metadata": {},
   "outputs": [
    {
     "data": {
      "text/plain": [
       "{'bootstrap': True,\n",
       " 'criterion': 'mse',\n",
       " 'max_depth': 200,\n",
       " 'max_features': 'auto',\n",
       " 'max_leaf_nodes': None,\n",
       " 'min_impurity_decrease': 0.0,\n",
       " 'min_impurity_split': None,\n",
       " 'min_samples_leaf': 1,\n",
       " 'min_samples_split': 2,\n",
       " 'min_weight_fraction_leaf': 0.0,\n",
       " 'n_estimators': 10,\n",
       " 'n_jobs': 1,\n",
       " 'oob_score': False,\n",
       " 'random_state': 1,\n",
       " 'verbose': 0,\n",
       " 'warm_start': False}"
      ]
     },
     "execution_count": 1058,
     "metadata": {},
     "output_type": "execute_result"
    }
   ],
   "source": [
    "rf.get_params()"
   ]
  },
  {
   "cell_type": "code",
   "execution_count": 1059,
   "metadata": {},
   "outputs": [
    {
     "data": {
      "text/plain": [
       "(0.45500823124187917, 1)"
      ]
     },
     "execution_count": 1059,
     "metadata": {},
     "output_type": "execute_result"
    }
   ],
   "source": [
    "min(rf_scores) #so set max_depth = 25"
   ]
  },
  {
   "cell_type": "code",
   "execution_count": 1060,
   "metadata": {},
   "outputs": [],
   "source": [
    "#X_train"
   ]
  },
  {
   "cell_type": "code",
   "execution_count": 1061,
   "metadata": {
    "scrolled": true
   },
   "outputs": [
    {
     "data": {
      "image/png": "[encoded data removed]",
      "text/plain": [
       "<Figure size 432x288 with 1 Axes>"
      ]
     },
     "metadata": {
      "needs_background": "light"
     },
     "output_type": "display_data"
    }
   ],
   "source": [
    "pd.Series([items[0] for items in rf_scores]).plot()\n",
    "plt.show()"
   ]
  },
  {
   "cell_type": "code",
   "execution_count": 1062,
   "metadata": {},
   "outputs": [],
   "source": [
    "#X_train"
   ]
  },
  {
   "cell_type": "code",
   "execution_count": 1075,
   "metadata": {},
   "outputs": [],
   "source": [
    "\n",
    "rf_scores = []\n",
    "\n",
    "\n",
    "for num_nodes in [15,25,50,100,200]:\n",
    "    rf.set_params(max_depth = num_nodes)\n",
    "    scores = cross_val_score(estimator = rf, \n",
    "                             X = X_train, \n",
    "                             y = y_train,\n",
    "                             scoring = rmse, #note the custom scoring metric\n",
    "                             cv = 10)\n",
    "    rf_scores.append((np.mean(scores),num_nodes))"
   ]
  },
  {
   "cell_type": "code",
   "execution_count": 1076,
   "metadata": {},
   "outputs": [
    {
     "data": {
      "text/plain": [
       "[(0.151741256736032, 15),\n",
       " (0.14991255869313364, 25),\n",
       " (0.14991408730837302, 50),\n",
       " (0.14991408730837302, 100),\n",
       " (0.14991408730837302, 200)]"
      ]
     },
     "execution_count": 1076,
     "metadata": {},
     "output_type": "execute_result"
    }
   ],
   "source": [
    "rf_scores  #set num_leafs = 1 , max_depth = 25 "
   ]
  },
  {
   "cell_type": "code",
   "execution_count": 1077,
   "metadata": {},
   "outputs": [],
   "source": [
    "Z = (X - X.mean())/X.std()"
   ]
  },
  {
   "cell_type": "code",
   "execution_count": null,
   "metadata": {},
   "outputs": [],
   "source": []
  },
  {
   "cell_type": "code",
   "execution_count": null,
   "metadata": {},
   "outputs": [],
   "source": []
  },
  {
   "cell_type": "code",
   "execution_count": null,
   "metadata": {},
   "outputs": [],
   "source": []
  },
  {
   "cell_type": "code",
   "execution_count": null,
   "metadata": {},
   "outputs": [],
   "source": []
  },
  {
   "cell_type": "code",
   "execution_count": 1078,
   "metadata": {},
   "outputs": [
    {
     "data": {
      "text/plain": [
       "(1460, 34)"
      ]
     },
     "execution_count": 1078,
     "metadata": {},
     "output_type": "execute_result"
    }
   ],
   "source": [
    "Z.shape"
   ]
  },
  {
   "cell_type": "code",
   "execution_count": 1079,
   "metadata": {},
   "outputs": [],
   "source": [
    "X_train, X_test, y_train, y_test = train_test_split(Z, y, test_size = 0.2, random_state = 2019)"
   ]
  },
  {
   "cell_type": "code",
   "execution_count": 1080,
   "metadata": {},
   "outputs": [
    {
     "data": {
      "text/plain": [
       "1083   -0.071812\n",
       "380    -0.794879\n",
       "294    -0.071812\n",
       "465     0.651256\n",
       "1294   -0.794879\n",
       "1350   -0.794879\n",
       "1129   -0.794879\n",
       "446    -0.071812\n",
       "1366    0.651256\n",
       "1156   -0.794879\n",
       "169     1.374324\n",
       "776     0.651256\n",
       "349     2.097391\n",
       "118     0.651256\n",
       "607    -0.794879\n",
       "633    -0.794879\n",
       "407    -0.071812\n",
       "982     0.651256\n",
       "715    -0.071812\n",
       "1052   -0.071812\n",
       "259    -0.794879\n",
       "1140   -0.794879\n",
       "1274   -0.794879\n",
       "791    -0.071812\n",
       "264    -0.794879\n",
       "699     0.651256\n",
       "92     -0.794879\n",
       "1417    1.374324\n",
       "1163   -1.517947\n",
       "1359    2.097391\n",
       "          ...   \n",
       "463    -0.071812\n",
       "978    -1.517947\n",
       "352    -0.794879\n",
       "650     0.651256\n",
       "1006   -0.071812\n",
       "822     0.651256\n",
       "577    -0.794879\n",
       "432    -0.794879\n",
       "789    -0.071812\n",
       "1308   -0.794879\n",
       "792     0.651256\n",
       "375    -3.687150\n",
       "133     1.374324\n",
       "690    -0.071812\n",
       "976    -1.517947\n",
       "12     -0.794879\n",
       "595     1.374324\n",
       "1016    0.651256\n",
       "1223   -0.794879\n",
       "1200   -1.517947\n",
       "1040   -0.794879\n",
       "106    -1.517947\n",
       "396    -0.794879\n",
       "1295   -0.794879\n",
       "797    -0.794879\n",
       "24     -0.794879\n",
       "190     1.374324\n",
       "1183   -0.794879\n",
       "370    -0.071812\n",
       "1096   -0.071812\n",
       "Name: OverallQual, Length: 1168, dtype: float64"
      ]
     },
     "execution_count": 1080,
     "metadata": {},
     "output_type": "execute_result"
    }
   ],
   "source": [
    "X_train[\"OverallQual\"]"
   ]
  },
  {
   "cell_type": "code",
   "execution_count": 1081,
   "metadata": {},
   "outputs": [],
   "source": [
    "from sklearn.kernel_ridge import KernelRidge\n"
   ]
  },
  {
   "cell_type": "code",
   "execution_count": 1082,
   "metadata": {},
   "outputs": [],
   "source": [
    "kern = KernelRidge(degree = 10)"
   ]
  },
  {
   "cell_type": "code",
   "execution_count": 1083,
   "metadata": {},
   "outputs": [],
   "source": [
    "#kern.fit(X_train,y_train)"
   ]
  },
  {
   "cell_type": "code",
   "execution_count": 1084,
   "metadata": {},
   "outputs": [],
   "source": [
    "\n",
    "rf_scores = []\n",
    "\n",
    "\n",
    "for a in [0.01,0.1,1,10,1000000]:\n",
    "    kern.set_params(alpha = a)\n",
    "    scores = cross_val_score(estimator = kern, \n",
    "                             X = X_train[[\"OverallQual\",\"GrLivArea\"]], \n",
    "                             y = y_train,\n",
    "                             scoring = rmse,#note the custom scoring metric\n",
    "                             cv = 10)\n",
    "    rf_scores.append((np.mean(scores),a))"
   ]
  },
  {
   "cell_type": "code",
   "execution_count": 1085,
   "metadata": {},
   "outputs": [
    {
     "data": {
      "text/plain": [
       "[(12.062624920725513, 0.01),\n",
       " (12.062619670255794, 0.1),\n",
       " (12.06256728979311, 1),\n",
       " (12.062055619329339, 10),\n",
       " (12.038110230284337, 1000000)]"
      ]
     },
     "execution_count": 1085,
     "metadata": {},
     "output_type": "execute_result"
    }
   ],
   "source": [
    "rf_scores"
   ]
  },
  {
   "cell_type": "code",
   "execution_count": null,
   "metadata": {},
   "outputs": [],
   "source": []
  },
  {
   "cell_type": "code",
   "execution_count": null,
   "metadata": {},
   "outputs": [],
   "source": []
  },
  {
   "cell_type": "code",
   "execution_count": null,
   "metadata": {},
   "outputs": [],
   "source": []
  },
  {
   "cell_type": "code",
   "execution_count": 1086,
   "metadata": {},
   "outputs": [],
   "source": [
    "#lets redo this by adding in the categorical features"
   ]
  },
  {
   "cell_type": "code",
   "execution_count": 1087,
   "metadata": {},
   "outputs": [],
   "source": [
    "from keras.models import Sequential"
   ]
  },
  {
   "cell_type": "code",
   "execution_count": 1088,
   "metadata": {},
   "outputs": [],
   "source": [
    "from keras.layers import Dense"
   ]
  },
  {
   "cell_type": "code",
   "execution_count": 1089,
   "metadata": {},
   "outputs": [],
   "source": [
    "model = Sequential([\n",
    "    Dense(34, activation='relu', input_shape=(34,)),\n",
    "    Dense(10, activation='relu'),\n",
    "    Dense(10, activation='relu'),\n",
    "    Dense(10, activation='relu'),\n",
    "    Dense(1, activation='sigmoid'),\n",
    "])"
   ]
  },
  {
   "cell_type": "code",
   "execution_count": 1090,
   "metadata": {},
   "outputs": [],
   "source": [
    "model.compile(optimizer = \"sgd\",\n",
    "             loss = 'mean_squared_error',\n",
    "             metrics = ['accuracy'])"
   ]
  },
  {
   "cell_type": "code",
   "execution_count": 1091,
   "metadata": {},
   "outputs": [
    {
     "ename": "ValueError",
     "evalue": "Input arrays should have the same number of samples as target arrays. Found 1168 input samples and 1022 target samples.",
     "output_type": "error",
     "traceback": [
      "\u001b[0;31m---------------------------------------------------------------------------\u001b[0m",
      "\u001b[0;31mValueError\u001b[0m                                Traceback (most recent call last)",
      "\u001b[0;32m<ipython-input-1091-b9ae5898ac67>\u001b[0m in \u001b[0;36m<module>\u001b[0;34m()\u001b[0m\n\u001b[1;32m      1\u001b[0m model.fit(X_train,Y_train,\n\u001b[1;32m      2\u001b[0m          \u001b[0mbatch_size\u001b[0m \u001b[0;34m=\u001b[0m \u001b[0;36m32\u001b[0m\u001b[0;34m,\u001b[0m \u001b[0mepochs\u001b[0m \u001b[0;34m=\u001b[0m \u001b[0;36m100\u001b[0m\u001b[0;34m,\u001b[0m\u001b[0;34m\u001b[0m\u001b[0;34m\u001b[0m\u001b[0m\n\u001b[0;32m----> 3\u001b[0;31m          validation_data=(X_val,Y_val))\n\u001b[0m",
      "\u001b[0;32m/anaconda3/lib/python3.7/site-packages/keras/engine/training.py\u001b[0m in \u001b[0;36mfit\u001b[0;34m(self, x, y, batch_size, epochs, verbose, callbacks, validation_split, validation_data, shuffle, class_weight, sample_weight, initial_epoch, steps_per_epoch, validation_steps, **kwargs)\u001b[0m\n\u001b[1;32m    950\u001b[0m             \u001b[0msample_weight\u001b[0m\u001b[0;34m=\u001b[0m\u001b[0msample_weight\u001b[0m\u001b[0;34m,\u001b[0m\u001b[0;34m\u001b[0m\u001b[0;34m\u001b[0m\u001b[0m\n\u001b[1;32m    951\u001b[0m             \u001b[0mclass_weight\u001b[0m\u001b[0;34m=\u001b[0m\u001b[0mclass_weight\u001b[0m\u001b[0;34m,\u001b[0m\u001b[0;34m\u001b[0m\u001b[0;34m\u001b[0m\u001b[0m\n\u001b[0;32m--> 952\u001b[0;31m             batch_size=batch_size)\n\u001b[0m\u001b[1;32m    953\u001b[0m         \u001b[0;31m# Prepare validation data.\u001b[0m\u001b[0;34m\u001b[0m\u001b[0;34m\u001b[0m\u001b[0;34m\u001b[0m\u001b[0m\n\u001b[1;32m    954\u001b[0m         \u001b[0mdo_validation\u001b[0m \u001b[0;34m=\u001b[0m \u001b[0;32mFalse\u001b[0m\u001b[0;34m\u001b[0m\u001b[0;34m\u001b[0m\u001b[0m\n",
      "\u001b[0;32m/anaconda3/lib/python3.7/site-packages/keras/engine/training.py\u001b[0m in \u001b[0;36m_standardize_user_data\u001b[0;34m(self, x, y, sample_weight, class_weight, check_array_lengths, batch_size)\u001b[0m\n\u001b[1;32m    802\u001b[0m             ]\n\u001b[1;32m    803\u001b[0m             \u001b[0;31m# Check that all arrays have the same length.\u001b[0m\u001b[0;34m\u001b[0m\u001b[0;34m\u001b[0m\u001b[0;34m\u001b[0m\u001b[0m\n\u001b[0;32m--> 804\u001b[0;31m             \u001b[0mcheck_array_length_consistency\u001b[0m\u001b[0;34m(\u001b[0m\u001b[0mx\u001b[0m\u001b[0;34m,\u001b[0m \u001b[0my\u001b[0m\u001b[0;34m,\u001b[0m \u001b[0msample_weights\u001b[0m\u001b[0;34m)\u001b[0m\u001b[0;34m\u001b[0m\u001b[0;34m\u001b[0m\u001b[0m\n\u001b[0m\u001b[1;32m    805\u001b[0m             \u001b[0;32mif\u001b[0m \u001b[0mself\u001b[0m\u001b[0;34m.\u001b[0m\u001b[0m_is_graph_network\u001b[0m\u001b[0;34m:\u001b[0m\u001b[0;34m\u001b[0m\u001b[0;34m\u001b[0m\u001b[0m\n\u001b[1;32m    806\u001b[0m                 \u001b[0;31m# Additional checks to avoid users mistakenly\u001b[0m\u001b[0;34m\u001b[0m\u001b[0;34m\u001b[0m\u001b[0;34m\u001b[0m\u001b[0m\n",
      "\u001b[0;32m/anaconda3/lib/python3.7/site-packages/keras/engine/training_utils.py\u001b[0m in \u001b[0;36mcheck_array_length_consistency\u001b[0;34m(inputs, targets, weights)\u001b[0m\n\u001b[1;32m    235\u001b[0m                          \u001b[0;34m'the same number of samples as target arrays. '\u001b[0m\u001b[0;34m\u001b[0m\u001b[0;34m\u001b[0m\u001b[0m\n\u001b[1;32m    236\u001b[0m                          \u001b[0;34m'Found '\u001b[0m \u001b[0;34m+\u001b[0m \u001b[0mstr\u001b[0m\u001b[0;34m(\u001b[0m\u001b[0mlist\u001b[0m\u001b[0;34m(\u001b[0m\u001b[0mset_x\u001b[0m\u001b[0;34m)\u001b[0m\u001b[0;34m[\u001b[0m\u001b[0;36m0\u001b[0m\u001b[0;34m]\u001b[0m\u001b[0;34m)\u001b[0m \u001b[0;34m+\u001b[0m \u001b[0;34m' input samples '\u001b[0m\u001b[0;34m\u001b[0m\u001b[0;34m\u001b[0m\u001b[0m\n\u001b[0;32m--> 237\u001b[0;31m                          'and ' + str(list(set_y)[0]) + ' target samples.')\n\u001b[0m\u001b[1;32m    238\u001b[0m     \u001b[0;32mif\u001b[0m \u001b[0mlen\u001b[0m\u001b[0;34m(\u001b[0m\u001b[0mset_w\u001b[0m\u001b[0;34m)\u001b[0m \u001b[0;34m>\u001b[0m \u001b[0;36m1\u001b[0m\u001b[0;34m:\u001b[0m\u001b[0;34m\u001b[0m\u001b[0;34m\u001b[0m\u001b[0m\n\u001b[1;32m    239\u001b[0m         raise ValueError('All sample_weight arrays should have '\n",
      "\u001b[0;31mValueError\u001b[0m: Input arrays should have the same number of samples as target arrays. Found 1168 input samples and 1022 target samples."
     ]
    }
   ],
   "source": [
    "model.fit(X_train,Y_train,\n",
    "         batch_size = 32, epochs = 100,\n",
    "         validation_data=(X_val,Y_val))"
   ]
  },
  {
   "cell_type": "code",
   "execution_count": 1092,
   "metadata": {},
   "outputs": [
    {
     "ename": "ValueError",
     "evalue": "Input arrays should have the same number of samples as target arrays. Found 292 input samples and 219 target samples.",
     "output_type": "error",
     "traceback": [
      "\u001b[0;31m---------------------------------------------------------------------------\u001b[0m",
      "\u001b[0;31mValueError\u001b[0m                                Traceback (most recent call last)",
      "\u001b[0;32m<ipython-input-1092-18e53af38380>\u001b[0m in \u001b[0;36m<module>\u001b[0;34m()\u001b[0m\n\u001b[0;32m----> 1\u001b[0;31m \u001b[0mmodel\u001b[0m\u001b[0;34m.\u001b[0m\u001b[0mevaluate\u001b[0m\u001b[0;34m(\u001b[0m\u001b[0mX_test\u001b[0m\u001b[0;34m,\u001b[0m\u001b[0mY_test\u001b[0m\u001b[0;34m)\u001b[0m\u001b[0;34m\u001b[0m\u001b[0;34m\u001b[0m\u001b[0m\n\u001b[0m",
      "\u001b[0;32m/anaconda3/lib/python3.7/site-packages/keras/engine/training.py\u001b[0m in \u001b[0;36mevaluate\u001b[0;34m(self, x, y, batch_size, verbose, sample_weight, steps)\u001b[0m\n\u001b[1;32m   1100\u001b[0m             \u001b[0mx\u001b[0m\u001b[0;34m,\u001b[0m \u001b[0my\u001b[0m\u001b[0;34m,\u001b[0m\u001b[0;34m\u001b[0m\u001b[0;34m\u001b[0m\u001b[0m\n\u001b[1;32m   1101\u001b[0m             \u001b[0msample_weight\u001b[0m\u001b[0;34m=\u001b[0m\u001b[0msample_weight\u001b[0m\u001b[0;34m,\u001b[0m\u001b[0;34m\u001b[0m\u001b[0;34m\u001b[0m\u001b[0m\n\u001b[0;32m-> 1102\u001b[0;31m             batch_size=batch_size)\n\u001b[0m\u001b[1;32m   1103\u001b[0m         \u001b[0;31m# Prepare inputs, delegate logic to `test_loop`.\u001b[0m\u001b[0;34m\u001b[0m\u001b[0;34m\u001b[0m\u001b[0;34m\u001b[0m\u001b[0m\n\u001b[1;32m   1104\u001b[0m         \u001b[0;32mif\u001b[0m \u001b[0mself\u001b[0m\u001b[0;34m.\u001b[0m\u001b[0m_uses_dynamic_learning_phase\u001b[0m\u001b[0;34m(\u001b[0m\u001b[0;34m)\u001b[0m\u001b[0;34m:\u001b[0m\u001b[0;34m\u001b[0m\u001b[0;34m\u001b[0m\u001b[0m\n",
      "\u001b[0;32m/anaconda3/lib/python3.7/site-packages/keras/engine/training.py\u001b[0m in \u001b[0;36m_standardize_user_data\u001b[0;34m(self, x, y, sample_weight, class_weight, check_array_lengths, batch_size)\u001b[0m\n\u001b[1;32m    802\u001b[0m             ]\n\u001b[1;32m    803\u001b[0m             \u001b[0;31m# Check that all arrays have the same length.\u001b[0m\u001b[0;34m\u001b[0m\u001b[0;34m\u001b[0m\u001b[0;34m\u001b[0m\u001b[0m\n\u001b[0;32m--> 804\u001b[0;31m             \u001b[0mcheck_array_length_consistency\u001b[0m\u001b[0;34m(\u001b[0m\u001b[0mx\u001b[0m\u001b[0;34m,\u001b[0m \u001b[0my\u001b[0m\u001b[0;34m,\u001b[0m \u001b[0msample_weights\u001b[0m\u001b[0;34m)\u001b[0m\u001b[0;34m\u001b[0m\u001b[0;34m\u001b[0m\u001b[0m\n\u001b[0m\u001b[1;32m    805\u001b[0m             \u001b[0;32mif\u001b[0m \u001b[0mself\u001b[0m\u001b[0;34m.\u001b[0m\u001b[0m_is_graph_network\u001b[0m\u001b[0;34m:\u001b[0m\u001b[0;34m\u001b[0m\u001b[0;34m\u001b[0m\u001b[0m\n\u001b[1;32m    806\u001b[0m                 \u001b[0;31m# Additional checks to avoid users mistakenly\u001b[0m\u001b[0;34m\u001b[0m\u001b[0;34m\u001b[0m\u001b[0;34m\u001b[0m\u001b[0m\n",
      "\u001b[0;32m/anaconda3/lib/python3.7/site-packages/keras/engine/training_utils.py\u001b[0m in \u001b[0;36mcheck_array_length_consistency\u001b[0;34m(inputs, targets, weights)\u001b[0m\n\u001b[1;32m    235\u001b[0m                          \u001b[0;34m'the same number of samples as target arrays. '\u001b[0m\u001b[0;34m\u001b[0m\u001b[0;34m\u001b[0m\u001b[0m\n\u001b[1;32m    236\u001b[0m                          \u001b[0;34m'Found '\u001b[0m \u001b[0;34m+\u001b[0m \u001b[0mstr\u001b[0m\u001b[0;34m(\u001b[0m\u001b[0mlist\u001b[0m\u001b[0;34m(\u001b[0m\u001b[0mset_x\u001b[0m\u001b[0;34m)\u001b[0m\u001b[0;34m[\u001b[0m\u001b[0;36m0\u001b[0m\u001b[0;34m]\u001b[0m\u001b[0;34m)\u001b[0m \u001b[0;34m+\u001b[0m \u001b[0;34m' input samples '\u001b[0m\u001b[0;34m\u001b[0m\u001b[0;34m\u001b[0m\u001b[0m\n\u001b[0;32m--> 237\u001b[0;31m                          'and ' + str(list(set_y)[0]) + ' target samples.')\n\u001b[0m\u001b[1;32m    238\u001b[0m     \u001b[0;32mif\u001b[0m \u001b[0mlen\u001b[0m\u001b[0;34m(\u001b[0m\u001b[0mset_w\u001b[0m\u001b[0;34m)\u001b[0m \u001b[0;34m>\u001b[0m \u001b[0;36m1\u001b[0m\u001b[0;34m:\u001b[0m\u001b[0;34m\u001b[0m\u001b[0;34m\u001b[0m\u001b[0m\n\u001b[1;32m    239\u001b[0m         raise ValueError('All sample_weight arrays should have '\n",
      "\u001b[0;31mValueError\u001b[0m: Input arrays should have the same number of samples as target arrays. Found 292 input samples and 219 target samples."
     ]
    }
   ],
   "source": [
    "model.evaluate(X_test,Y_test)"
   ]
  },
  {
   "cell_type": "code",
   "execution_count": 1093,
   "metadata": {},
   "outputs": [
    {
     "data": {
      "text/plain": [
       "Index(['Id', 'MSSubClass', 'MSZoning', 'LotFrontage', 'LotArea', 'Street',\n",
       "       'Alley', 'LotShape', 'LandContour', 'Utilities', 'LotConfig',\n",
       "       'LandSlope', 'Neighborhood', 'Condition1', 'Condition2', 'BldgType',\n",
       "       'HouseStyle', 'OverallQual', 'OverallCond', 'YearBuilt', 'YearRemodAdd',\n",
       "       'RoofStyle', 'RoofMatl', 'Exterior1st', 'Exterior2nd', 'MasVnrType',\n",
       "       'MasVnrArea', 'ExterQual', 'ExterCond', 'Foundation', 'BsmtQual',\n",
       "       'BsmtCond', 'BsmtExposure', 'BsmtFinType1', 'BsmtFinSF1',\n",
       "       'BsmtFinType2', 'BsmtFinSF2', 'BsmtUnfSF', 'TotalBsmtSF', 'Heating',\n",
       "       'HeatingQC', 'CentralAir', 'Electrical', '1stFlrSF', '2ndFlrSF',\n",
       "       'LowQualFinSF', 'GrLivArea', 'BsmtFullBath', 'BsmtHalfBath', 'FullBath',\n",
       "       'HalfBath', 'BedroomAbvGr', 'KitchenAbvGr', 'KitchenQual',\n",
       "       'TotRmsAbvGrd', 'Functional', 'Fireplaces', 'FireplaceQu', 'GarageType',\n",
       "       'GarageYrBlt', 'GarageFinish', 'GarageCars', 'GarageArea', 'GarageQual',\n",
       "       'GarageCond', 'PavedDrive', 'WoodDeckSF', 'OpenPorchSF',\n",
       "       'EnclosedPorch', '3SsnPorch', 'ScreenPorch', 'PoolArea', 'PoolQC',\n",
       "       'Fence', 'MiscFeature', 'MiscVal', 'MoSold', 'YrSold', 'SaleType',\n",
       "       'SaleCondition', 'SalePrice', 'SalePrice_ln'],\n",
       "      dtype='object')"
      ]
     },
     "execution_count": 1093,
     "metadata": {},
     "output_type": "execute_result"
    }
   ],
   "source": [
    "train.columns"
   ]
  },
  {
   "cell_type": "code",
   "execution_count": 1094,
   "metadata": {},
   "outputs": [
    {
     "data": {
      "text/plain": [
       "<matplotlib.axes._subplots.AxesSubplot at 0x1a36fb9198>"
      ]
     },
     "execution_count": 1094,
     "metadata": {},
     "output_type": "execute_result"
    },
    {
     "data": {
      "image/png": "[encoded data removed]",
      "text/plain": [
       "<Figure size 432x288 with 1 Axes>"
      ]
     },
     "metadata": {
      "needs_background": "light"
     },
     "output_type": "display_data"
    }
   ],
   "source": [
    "train.plot(kind = \"scatter\", x = \"OverallQual\", y = \"SalePrice_ln\")"
   ]
  },
  {
   "cell_type": "code",
   "execution_count": null,
   "metadata": {},
   "outputs": [],
   "source": []
  },
  {
   "cell_type": "code",
   "execution_count": null,
   "metadata": {},
   "outputs": [],
   "source": []
  },
  {
   "cell_type": "code",
   "execution_count": null,
   "metadata": {},
   "outputs": [],
   "source": []
  },
  {
   "cell_type": "code",
   "execution_count": null,
   "metadata": {},
   "outputs": [],
   "source": []
  },
  {
   "cell_type": "code",
   "execution_count": null,
   "metadata": {},
   "outputs": [],
   "source": []
  },
  {
   "cell_type": "code",
   "execution_count": null,
   "metadata": {},
   "outputs": [],
   "source": []
  },
  {
   "cell_type": "code",
   "execution_count": null,
   "metadata": {},
   "outputs": [],
   "source": []
  },
  {
   "cell_type": "code",
   "execution_count": null,
   "metadata": {},
   "outputs": [],
   "source": []
  },
  {
   "cell_type": "code",
   "execution_count": null,
   "metadata": {},
   "outputs": [],
   "source": []
  },
  {
   "cell_type": "code",
   "execution_count": null,
   "metadata": {},
   "outputs": [],
   "source": []
  },
  {
   "cell_type": "code",
   "execution_count": null,
   "metadata": {},
   "outputs": [],
   "source": []
  },
  {
   "cell_type": "code",
   "execution_count": null,
   "metadata": {},
   "outputs": [],
   "source": []
  },
  {
   "cell_type": "code",
   "execution_count": null,
   "metadata": {},
   "outputs": [],
   "source": []
  },
  {
   "cell_type": "code",
   "execution_count": 1095,
   "metadata": {},
   "outputs": [],
   "source": [
    "from sklearn.neighbors import KNeighborsRegressor"
   ]
  },
  {
   "cell_type": "code",
   "execution_count": 1102,
   "metadata": {},
   "outputs": [],
   "source": [
    "neigh = KNeighborsRegressor()\n",
    "\n",
    "neigh_scores = []\n",
    "\n",
    "for num_neigh in [1,10,15,25,50,100]:\n",
    "    neigh.set_params(n_neighbors = num_neigh)\n",
    "    scores = cross_val_score(estimator = neigh,\n",
    "                            X = X_train,\n",
    "                            y = y_train,\n",
    "                            scoring = rmse,\n",
    "                            cv = 10)\n",
    "    neigh_scores.append((np.mean(scores),num_neigh))"
   ]
  },
  {
   "cell_type": "code",
   "execution_count": 1103,
   "metadata": {},
   "outputs": [
    {
     "data": {
      "text/plain": [
       "[(0.22330019717537875, 1),\n",
       " (0.17556692091218143, 10),\n",
       " (0.17432886611809573, 15),\n",
       " (0.17762630312743605, 25),\n",
       " (0.1863678628356583, 50),\n",
       " (0.20074140209845948, 100)]"
      ]
     },
     "execution_count": 1103,
     "metadata": {},
     "output_type": "execute_result"
    }
   ],
   "source": [
    "neigh_scores #without X having the dummies"
   ]
  },
  {
   "cell_type": "code",
   "execution_count": 1104,
   "metadata": {},
   "outputs": [],
   "source": [
    "#neigh = KNeighborsRegressor()"
   ]
  },
  {
   "cell_type": "code",
   "execution_count": 1099,
   "metadata": {},
   "outputs": [],
   "source": [
    "X = train[list((set(train.corr()) | categorical_data) - set(null_features))]\n"
   ]
  },
  {
   "cell_type": "code",
   "execution_count": 1100,
   "metadata": {},
   "outputs": [
    {
     "data": {
      "text/plain": [
       "(1460, 63)"
      ]
     },
     "execution_count": 1100,
     "metadata": {},
     "output_type": "execute_result"
    }
   ],
   "source": [
    "X.shape #so X is the set of all features with non na features"
   ]
  },
  {
   "cell_type": "code",
   "execution_count": 1101,
   "metadata": {},
   "outputs": [
    {
     "data": {
      "text/plain": [
       "19"
      ]
     },
     "execution_count": 1101,
     "metadata": {},
     "output_type": "execute_result"
    }
   ],
   "source": [
    "len(set(null_features))"
   ]
  },
  {
   "cell_type": "code",
   "execution_count": 555,
   "metadata": {},
   "outputs": [
    {
     "data": {
      "text/plain": [
       "(1460, 82)"
      ]
     },
     "execution_count": 555,
     "metadata": {},
     "output_type": "execute_result"
    }
   ],
   "source": [
    "train.shape"
   ]
  },
  {
   "cell_type": "code",
   "execution_count": 556,
   "metadata": {},
   "outputs": [],
   "source": [
    "# for i in X.index.tolist():\n",
    "#     if \n",
    "\n",
    "# X = X.drop([], axis = 0)"
   ]
  },
  {
   "cell_type": "code",
   "execution_count": 557,
   "metadata": {},
   "outputs": [
    {
     "data": {
      "text/plain": [
       "Index(['LotConfig', 'YrSold', 'EnclosedPorch', 'FullBath', 'GarageCars',\n",
       "       'GarageArea', 'Utilities', 'MSSubClass', 'RoofStyle', 'Exterior2nd',\n",
       "       'RoofMatl', 'LowQualFinSF', 'BsmtUnfSF', 'Id', 'TotalBsmtSF',\n",
       "       'Neighborhood', 'Foundation', 'SaleType', 'KitchenAbvGr', '2ndFlrSF',\n",
       "       '3SsnPorch', 'ScreenPorch', 'BldgType', 'TotRmsAbvGrd', 'Condition2',\n",
       "       'PoolArea', 'SalePrice', 'BsmtFullBath', 'Condition1', 'HeatingQC',\n",
       "       'OverallCond', 'MSZoning', 'YearRemodAdd', 'KitchenQual',\n",
       "       'BedroomAbvGr', 'BsmtFinSF1', 'LotArea', 'Exterior1st', 'Functional',\n",
       "       'MoSold', 'SaleCondition', 'HouseStyle', 'ExterQual', 'MiscVal',\n",
       "       'OverallQual', 'SalePrice_ln', 'Fireplaces', 'Heating', 'Street',\n",
       "       'PavedDrive', 'OpenPorchSF', 'YearBuilt', 'LandContour', 'ExterCond',\n",
       "       'CentralAir', 'LandSlope', '1stFlrSF', 'BsmtHalfBath', 'BsmtFinSF2',\n",
       "       'WoodDeckSF', 'LotShape', 'GrLivArea', 'HalfBath'],\n",
       "      dtype='object')"
      ]
     },
     "execution_count": 557,
     "metadata": {},
     "output_type": "execute_result"
    }
   ],
   "source": [
    "X.columns"
   ]
  },
  {
   "cell_type": "code",
   "execution_count": 558,
   "metadata": {},
   "outputs": [
    {
     "data": {
      "text/plain": [
       "{'BldgType',\n",
       " 'CentralAir',\n",
       " 'Condition1',\n",
       " 'Condition2',\n",
       " 'ExterCond',\n",
       " 'ExterQual',\n",
       " 'Exterior1st',\n",
       " 'Exterior2nd',\n",
       " 'Foundation',\n",
       " 'Functional',\n",
       " 'Heating',\n",
       " 'HeatingQC',\n",
       " 'HouseStyle',\n",
       " 'KitchenQual',\n",
       " 'LandContour',\n",
       " 'LandSlope',\n",
       " 'LotConfig',\n",
       " 'LotShape',\n",
       " 'MSZoning',\n",
       " 'Neighborhood',\n",
       " 'PavedDrive',\n",
       " 'RoofMatl',\n",
       " 'RoofStyle',\n",
       " 'SaleCondition',\n",
       " 'SaleType',\n",
       " 'Street',\n",
       " 'Utilities'}"
      ]
     },
     "execution_count": 558,
     "metadata": {},
     "output_type": "execute_result"
    }
   ],
   "source": [
    "categorical_data - set(null_features)"
   ]
  },
  {
   "cell_type": "code",
   "execution_count": 565,
   "metadata": {},
   "outputs": [],
   "source": [
    "####ordered\n",
    "# \"condition1\" ?\n",
    "# \"condition2\" ?\n",
    "\n",
    "# \"extercond\"\n",
    "\n",
    "# \"exterqual\"\n",
    "\n",
    "# \"exteriorcond\"\n",
    "\n",
    "# kitchenqual\n",
    "\n",
    "#salecondition ?\n",
    "\n",
    "####unordered\n",
    "\n",
    "#bldgtype\n",
    "#centralair\n",
    "#foundation\n",
    "#functional ?\n",
    "#heating\n",
    "#heatingQC\n",
    "#housingstyle\n",
    "#Neighborhood\n",
    "#paveddrive\n",
    "#roofmatl\n",
    "#roofstyle\n",
    "\n",
    "#saletype?\n",
    "\n",
    "#street\n",
    "\n",
    "\n",
    "#utilities\n",
    "#landcontour\n",
    "#landslope\n",
    "#lotconfig\n",
    "#lotshape\n",
    "#mSZzoning\n",
    "\n",
    "ordered = [\"ExterCond\",\n",
    "           \"ExterQual\",\n",
    "           \"ExteriorCond\",\n",
    "           \"KitchenQual\"]\n",
    "\n",
    "unordered = [\"BldgType\",\n",
    "             \"CentralAir\",\n",
    "             \"Foundation\",\n",
    "             \"Heating\",\n",
    "             \"HousingStyle\",\n",
    "             \"Neighborhood\",\n",
    "             \"RoofMatl\",\n",
    "             \"RoofStyle\"]"
   ]
  },
  {
   "cell_type": "code",
   "execution_count": 573,
   "metadata": {},
   "outputs": [],
   "source": [
    "set1 = (set(train.corr()) | set(unordered)) - set(null_features)"
   ]
  },
  {
   "cell_type": "code",
   "execution_count": 1115,
   "metadata": {},
   "outputs": [
    {
     "name": "stdout",
     "output_type": "stream",
     "text": [
      "True\n"
     ]
    }
   ],
   "source": [
    "if \"SalePrice\" and \"SalePrice_ln\" in list(set1):\n",
    "    print(True)\n",
    "    \n",
    "    "
   ]
  },
  {
   "cell_type": "code",
   "execution_count": null,
   "metadata": {},
   "outputs": [],
   "source": []
  },
  {
   "cell_type": "code",
   "execution_count": 1117,
   "metadata": {},
   "outputs": [
    {
     "name": "stderr",
     "output_type": "stream",
     "text": [
      "/anaconda3/lib/python3.7/site-packages/pandas/core/indexing.py:1472: FutureWarning: \n",
      "Passing list-likes to .loc or [] with any missing label will raise\n",
      "KeyError in the future, you can use .reindex() as an alternative.\n",
      "\n",
      "See the documentation here:\n",
      "https://pandas.pydata.org/pandas-docs/stable/indexing.html#deprecate-loc-reindex-listlike\n",
      "  return self._getitem_tuple(key)\n"
     ]
    }
   ],
   "source": [
    "X = train.loc[:,list(set1)]"
   ]
  },
  {
   "cell_type": "code",
   "execution_count": 1120,
   "metadata": {},
   "outputs": [],
   "source": [
    "X = X.loc[:,(X.columns != \"SalePrice\") & (X.columns != \"SalePrice_ln\")]"
   ]
  },
  {
   "cell_type": "code",
   "execution_count": 1122,
   "metadata": {},
   "outputs": [],
   "source": [
    "X = pd.get_dummies(X)"
   ]
  },
  {
   "cell_type": "code",
   "execution_count": 1124,
   "metadata": {},
   "outputs": [
    {
     "data": {
      "text/plain": [
       "(1460, 48)"
      ]
     },
     "execution_count": 1124,
     "metadata": {},
     "output_type": "execute_result"
    }
   ],
   "source": [
    "X.shape"
   ]
  },
  {
   "cell_type": "code",
   "execution_count": 1126,
   "metadata": {},
   "outputs": [],
   "source": [
    "Z = (X - X.mean())/X"
   ]
  },
  {
   "cell_type": "code",
   "execution_count": 1129,
   "metadata": {},
   "outputs": [],
   "source": [
    "X_train, X_test, y_train, y_test = train_test_split(Z, y, test_size = 0.2, random_state = 2019)"
   ]
  },
  {
   "cell_type": "code",
   "execution_count": 1131,
   "metadata": {},
   "outputs": [
    {
     "data": {
      "text/plain": [
       "YearRemodAdd         0\n",
       "BedroomAbvGr         0\n",
       "BsmtFinSF1           0\n",
       "YrSold               0\n",
       "LotArea              0\n",
       "EnclosedPorch        0\n",
       "GarageCars           0\n",
       "FullBath             0\n",
       "GarageArea           0\n",
       "MSSubClass           0\n",
       "LowQualFinSF         0\n",
       "MoSold               0\n",
       "BsmtUnfSF            0\n",
       "Id                   0\n",
       "TotalBsmtSF          0\n",
       "MiscVal              0\n",
       "OverallQual          0\n",
       "KitchenAbvGr         0\n",
       "ExteriorCond      1168\n",
       "Fireplaces           0\n",
       "2ndFlrSF             0\n",
       "3SsnPorch            0\n",
       "ScreenPorch          0\n",
       "TotRmsAbvGrd         0\n",
       "OpenPorchSF          0\n",
       "YearBuilt            0\n",
       "PoolArea             0\n",
       "BsmtFullBath         0\n",
       "1stFlrSF             0\n",
       "BsmtHalfBath         0\n",
       "BsmtFinSF2           0\n",
       "WoodDeckSF           0\n",
       "GrLivArea            0\n",
       "HalfBath             0\n",
       "OverallCond          0\n",
       "KitchenQual_Ex       0\n",
       "KitchenQual_Fa       0\n",
       "KitchenQual_Gd       0\n",
       "KitchenQual_TA       0\n",
       "ExterQual_Ex         0\n",
       "ExterQual_Fa         0\n",
       "ExterQual_Gd         0\n",
       "ExterQual_TA         0\n",
       "ExterCond_Ex         0\n",
       "ExterCond_Fa         0\n",
       "ExterCond_Gd         0\n",
       "ExterCond_Po         0\n",
       "ExterCond_TA         0\n",
       "dtype: int64"
      ]
     },
     "execution_count": 1131,
     "metadata": {},
     "output_type": "execute_result"
    }
   ],
   "source": [
    "X_train.isnull().sum()"
   ]
  },
  {
   "cell_type": "code",
   "execution_count": null,
   "metadata": {},
   "outputs": [],
   "source": []
  },
  {
   "cell_type": "code",
   "execution_count": null,
   "metadata": {},
   "outputs": [],
   "source": []
  },
  {
   "cell_type": "code",
   "execution_count": 577,
   "metadata": {},
   "outputs": [
    {
     "data": {
      "text/plain": [
       "{'1stFlrSF',\n",
       " '2ndFlrSF',\n",
       " '3SsnPorch',\n",
       " 'BedroomAbvGr',\n",
       " 'BsmtFinSF1',\n",
       " 'BsmtFinSF2',\n",
       " 'BsmtFullBath',\n",
       " 'BsmtHalfBath',\n",
       " 'BsmtUnfSF',\n",
       " 'EnclosedPorch',\n",
       " 'Fireplaces',\n",
       " 'FullBath',\n",
       " 'GarageArea',\n",
       " 'GarageCars',\n",
       " 'GarageYrBlt',\n",
       " 'GrLivArea',\n",
       " 'HalfBath',\n",
       " 'Id',\n",
       " 'KitchenAbvGr',\n",
       " 'LotArea',\n",
       " 'LotFrontage',\n",
       " 'LowQualFinSF',\n",
       " 'MSSubClass',\n",
       " 'MasVnrArea',\n",
       " 'MiscVal',\n",
       " 'MoSold',\n",
       " 'OpenPorchSF',\n",
       " 'OverallCond',\n",
       " 'OverallQual',\n",
       " 'PoolArea',\n",
       " 'SalePrice',\n",
       " 'SalePrice_ln',\n",
       " 'ScreenPorch',\n",
       " 'TotRmsAbvGrd',\n",
       " 'TotalBsmtSF',\n",
       " 'WoodDeckSF',\n",
       " 'YearBuilt',\n",
       " 'YearRemodAdd',\n",
       " 'YrSold'}"
      ]
     },
     "execution_count": 577,
     "metadata": {},
     "output_type": "execute_result"
    }
   ],
   "source": [
    "set(train.corr())"
   ]
  },
  {
   "cell_type": "code",
   "execution_count": 607,
   "metadata": {},
   "outputs": [
    {
     "data": {
      "text/plain": [
       "{'#', '&', 1, 2, 3}"
      ]
     },
     "execution_count": 607,
     "metadata": {},
     "output_type": "execute_result"
    }
   ],
   "source": [
    "set([1,2,3]) | set([\"#\",\"&\"])"
   ]
  },
  {
   "cell_type": "code",
   "execution_count": 575,
   "metadata": {},
   "outputs": [
    {
     "data": {
      "text/plain": [
       "4"
      ]
     },
     "execution_count": 575,
     "metadata": {},
     "output_type": "execute_result"
    }
   ],
   "source": [
    "len(ordered)"
   ]
  },
  {
   "cell_type": "code",
   "execution_count": 576,
   "metadata": {},
   "outputs": [
    {
     "data": {
      "text/plain": [
       "40"
      ]
     },
     "execution_count": 576,
     "metadata": {},
     "output_type": "execute_result"
    }
   ],
   "source": [
    "len(set1)"
   ]
  },
  {
   "cell_type": "code",
   "execution_count": 560,
   "metadata": {},
   "outputs": [
    {
     "data": {
      "text/plain": [
       "{'COD', 'CWD', 'Con', 'ConLD', 'ConLI', 'ConLw', 'New', 'Oth', 'WD'}"
      ]
     },
     "execution_count": 560,
     "metadata": {},
     "output_type": "execute_result"
    }
   ],
   "source": [
    "set(train[\"SaleType\"]) #whato?"
   ]
  },
  {
   "cell_type": "code",
   "execution_count": 561,
   "metadata": {},
   "outputs": [
    {
     "data": {
      "text/plain": [
       "{'Floor', 'GasA', 'GasW', 'Grav', 'OthW', 'Wall'}"
      ]
     },
     "execution_count": 561,
     "metadata": {},
     "output_type": "execute_result"
    }
   ],
   "source": [
    "set(train['Heating'])"
   ]
  },
  {
   "cell_type": "code",
   "execution_count": 562,
   "metadata": {},
   "outputs": [
    {
     "data": {
      "text/plain": [
       "{'Maj1', 'Maj2', 'Min1', 'Min2', 'Mod', 'Sev', 'Typ'}"
      ]
     },
     "execution_count": 562,
     "metadata": {},
     "output_type": "execute_result"
    }
   ],
   "source": [
    "set(train[\"Functional\"]) #what??"
   ]
  },
  {
   "cell_type": "code",
   "execution_count": 563,
   "metadata": {},
   "outputs": [
    {
     "data": {
      "text/plain": [
       "{'BrkTil', 'CBlock', 'PConc', 'Slab', 'Stone', 'Wood'}"
      ]
     },
     "execution_count": 563,
     "metadata": {},
     "output_type": "execute_result"
    }
   ],
   "source": [
    "set(train[\"Foundation\"])"
   ]
  },
  {
   "cell_type": "code",
   "execution_count": 564,
   "metadata": {},
   "outputs": [
    {
     "data": {
      "text/plain": [
       "{'Flat', 'Gable', 'Gambrel', 'Hip', 'Mansard', 'Shed'}"
      ]
     },
     "execution_count": 564,
     "metadata": {},
     "output_type": "execute_result"
    }
   ],
   "source": [
    "set(train[\"RoofStyle\"])"
   ]
  },
  {
   "cell_type": "code",
   "execution_count": null,
   "metadata": {},
   "outputs": [],
   "source": []
  },
  {
   "cell_type": "code",
   "execution_count": null,
   "metadata": {},
   "outputs": [],
   "source": []
  },
  {
   "cell_type": "code",
   "execution_count": null,
   "metadata": {},
   "outputs": [],
   "source": []
  }
 ],
 "metadata": {
  "kernelspec": {
   "display_name": "Python 3",
   "language": "python",
   "name": "python3"
  },
  "language_info": {
   "codemirror_mode": {
    "name": "ipython",
    "version": 3
   },
   "file_extension": ".py",
   "mimetype": "text/x-python",
   "name": "python",
   "nbconvert_exporter": "python",
   "pygments_lexer": "ipython3",
   "version": "3.7.2"
  }
 },
 "nbformat": 4,
 "nbformat_minor": 2
}
